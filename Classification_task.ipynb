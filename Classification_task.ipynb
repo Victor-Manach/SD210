{
 "cells": [
  {
   "cell_type": "markdown",
   "metadata": {},
   "source": [
    "* utiliser SVM pour la multiclass classification (deux méthodes différentes: one-vs-one ou one-vs-rest)\n",
    "* utiliser un decision tree (et on peut utiliser tous les bails de boosting, random forest et bagging)\n",
    "* utiliser un neural network\n",
    "* utiliser de la cross-validation pour trouver les meilleurs paramètres pour chaque modèle"
   ]
  },
  {
   "cell_type": "code",
   "execution_count": 139,
   "metadata": {},
   "outputs": [],
   "source": [
    "import numpy as np\n",
    "import pandas as pd\n",
    "import graphviz\n",
    "from sklearn.model_selection import train_test_split\n",
    "from sklearn.tree import DecisionTreeClassifier\n",
    "from sklearn import tree\n",
    "from sklearn import metrics\n",
    "from sklearn.svm import SVC"
   ]
  },
  {
   "cell_type": "markdown",
   "metadata": {},
   "source": [
    "# Load data"
   ]
  },
  {
   "cell_type": "code",
   "execution_count": 129,
   "metadata": {},
   "outputs": [],
   "source": [
    "X = pd.read_csv('./data/hcvdat0.csv', index_col=0).reset_index(drop=True)"
   ]
  },
  {
   "cell_type": "markdown",
   "metadata": {},
   "source": [
    "# Pre-processing"
   ]
  },
  {
   "cell_type": "markdown",
   "metadata": {},
   "source": [
    "In this first part, we need to change the ``category`` attribute of the data because we need it to be int. In addition, we change the ``Sex`` attribute from m/f to $0/1$. All the other attributes are already floats, so we keep them as they are.\n",
    "\n",
    "> m $\\rightarrow 0$ and f $\\rightarrow 1$\n",
    "\n",
    "> Blood donor $\\rightarrow 0$, Suspect blood donor $\\rightarrow 1$, Hepatitis $\\rightarrow 2$, Fibrosis $\\rightarrow 3$ and Cirrhosis $\\rightarrow 4$"
   ]
  },
  {
   "cell_type": "markdown",
   "metadata": {},
   "source": [
    "## Change the sex and category attributes"
   ]
  },
  {
   "cell_type": "code",
   "execution_count": 130,
   "metadata": {},
   "outputs": [],
   "source": [
    "class_names = np.unique(X.Category)\n",
    "X = X.replace({'Sex': {'f':1,'m':0}, 'Category':{'0=Blood Donor':0,'0s=suspect Blood Donor':1, '1=Hepatitis':2, '2=Fibrosis':3, '3=Cirrhosis':4}})"
   ]
  },
  {
   "cell_type": "markdown",
   "metadata": {},
   "source": [
    "## Remove NaN values"
   ]
  },
  {
   "cell_type": "code",
   "execution_count": 131,
   "metadata": {},
   "outputs": [],
   "source": [
    "X = X.dropna()"
   ]
  },
  {
   "cell_type": "markdown",
   "metadata": {},
   "source": [
    "## Split X and y"
   ]
  },
  {
   "cell_type": "code",
   "execution_count": 132,
   "metadata": {},
   "outputs": [],
   "source": [
    "y = X.Category\n",
    "X = X.drop('Category', axis=1)"
   ]
  },
  {
   "cell_type": "markdown",
   "metadata": {},
   "source": [
    "## Split the data in train and test split"
   ]
  },
  {
   "cell_type": "code",
   "execution_count": 133,
   "metadata": {},
   "outputs": [],
   "source": [
    "X_train, X_test, y_train, y_test = train_test_split(X,y, test_size=0.25)"
   ]
  },
  {
   "cell_type": "markdown",
   "metadata": {},
   "source": [
    "# Decision tree"
   ]
  },
  {
   "cell_type": "markdown",
   "metadata": {},
   "source": [
    "## Build the tree"
   ]
  },
  {
   "cell_type": "code",
   "execution_count": 134,
   "metadata": {},
   "outputs": [
    {
     "data": {
      "text/plain": [
       "DecisionTreeClassifier(max_depth=3, random_state=42)"
      ]
     },
     "execution_count": 134,
     "metadata": {},
     "output_type": "execute_result"
    }
   ],
   "source": [
    "clf = DecisionTreeClassifier(criterion='gini', max_depth=3, random_state=42)\n",
    "clf.fit(X_train, y_train)"
   ]
  },
  {
   "cell_type": "markdown",
   "metadata": {},
   "source": [
    "## Compute the accuracy of the tree"
   ]
  },
  {
   "cell_type": "code",
   "execution_count": 135,
   "metadata": {},
   "outputs": [
    {
     "name": "stdout",
     "output_type": "stream",
     "text": [
      "Accuracy on the train set: 0.9614512471655329\n",
      "Accuracy on the test set: 0.9054054054054054\n"
     ]
    }
   ],
   "source": [
    "y_pred_train = clf.predict(X_train)\n",
    "accuracy_train = metrics.accuracy_score(y_train, y_pred_train)\n",
    "print('Accuracy on the train set:', accuracy_train)\n",
    "\n",
    "y_pred_test = clf.predict(X_test)\n",
    "accuracy_test = metrics.accuracy_score(y_test, y_pred_test)\n",
    "print('Accuracy on the test set:', accuracy_test)"
   ]
  },
  {
   "cell_type": "markdown",
   "metadata": {},
   "source": [
    "## Visualise the tree"
   ]
  },
  {
   "cell_type": "code",
   "execution_count": 136,
   "metadata": {},
   "outputs": [],
   "source": [
    "feature_names = X.columns\n",
    "plot_tree = tree.export_graphviz(clf, out_file=None, filled=True, rounded=True, feature_names=feature_names, class_names=class_names)\n",
    "graph = graphviz.Source(plot_tree)"
   ]
  },
  {
   "cell_type": "code",
   "execution_count": 137,
   "metadata": {
    "scrolled": false
   },
   "outputs": [
    {
     "data": {
      "image/svg+xml": [
       "<?xml version=\"1.0\" encoding=\"UTF-8\" standalone=\"no\"?>\n",
       "<!DOCTYPE svg PUBLIC \"-//W3C//DTD SVG 1.1//EN\"\n",
       " \"http://www.w3.org/Graphics/SVG/1.1/DTD/svg11.dtd\">\n",
       "<!-- Generated by graphviz version 2.40.1 (20161225.0304)\n",
       " -->\n",
       "<!-- Title: Tree Pages: 1 -->\n",
       "<svg width=\"1411pt\" height=\"433pt\"\n",
       " viewBox=\"0.00 0.00 1411.00 433.00\" xmlns=\"http://www.w3.org/2000/svg\" xmlns:xlink=\"http://www.w3.org/1999/xlink\">\n",
       "<g id=\"graph0\" class=\"graph\" transform=\"scale(1 1) rotate(0) translate(4 429)\">\n",
       "<title>Tree</title>\n",
       "<polygon fill=\"#ffffff\" stroke=\"transparent\" points=\"-4,4 -4,-429 1407,-429 1407,4 -4,4\"/>\n",
       "<!-- 0 -->\n",
       "<g id=\"node1\" class=\"node\">\n",
       "<title>0</title>\n",
       "<path fill=\"#e88f4f\" stroke=\"#000000\" d=\"M799.5,-425C799.5,-425 648.5,-425 648.5,-425 642.5,-425 636.5,-419 636.5,-413 636.5,-413 636.5,-354 636.5,-354 636.5,-348 642.5,-342 648.5,-342 648.5,-342 799.5,-342 799.5,-342 805.5,-342 811.5,-348 811.5,-354 811.5,-354 811.5,-413 811.5,-413 811.5,-419 805.5,-425 799.5,-425\"/>\n",
       "<text text-anchor=\"middle\" x=\"724\" y=\"-409.8\" font-family=\"Helvetica,sans-Serif\" font-size=\"14.00\" fill=\"#000000\">AST &lt;= 53.05</text>\n",
       "<text text-anchor=\"middle\" x=\"724\" y=\"-394.8\" font-family=\"Helvetica,sans-Serif\" font-size=\"14.00\" fill=\"#000000\">gini = 0.198</text>\n",
       "<text text-anchor=\"middle\" x=\"724\" y=\"-379.8\" font-family=\"Helvetica,sans-Serif\" font-size=\"14.00\" fill=\"#000000\">samples = 441</text>\n",
       "<text text-anchor=\"middle\" x=\"724\" y=\"-364.8\" font-family=\"Helvetica,sans-Serif\" font-size=\"14.00\" fill=\"#000000\">value = [394, 6, 16, 6, 19]</text>\n",
       "<text text-anchor=\"middle\" x=\"724\" y=\"-349.8\" font-family=\"Helvetica,sans-Serif\" font-size=\"14.00\" fill=\"#000000\">class = 0=Blood Donor</text>\n",
       "</g>\n",
       "<!-- 1 -->\n",
       "<g id=\"node2\" class=\"node\">\n",
       "<title>1</title>\n",
       "<path fill=\"#e68540\" stroke=\"#000000\" d=\"M587.5,-306C587.5,-306 452.5,-306 452.5,-306 446.5,-306 440.5,-300 440.5,-294 440.5,-294 440.5,-235 440.5,-235 440.5,-229 446.5,-223 452.5,-223 452.5,-223 587.5,-223 587.5,-223 593.5,-223 599.5,-229 599.5,-235 599.5,-235 599.5,-294 599.5,-294 599.5,-300 593.5,-306 587.5,-306\"/>\n",
       "<text text-anchor=\"middle\" x=\"520\" y=\"-290.8\" font-family=\"Helvetica,sans-Serif\" font-size=\"14.00\" fill=\"#000000\">ALT &lt;= 9.65</text>\n",
       "<text text-anchor=\"middle\" x=\"520\" y=\"-275.8\" font-family=\"Helvetica,sans-Serif\" font-size=\"14.00\" fill=\"#000000\">gini = 0.068</text>\n",
       "<text text-anchor=\"middle\" x=\"520\" y=\"-260.8\" font-family=\"Helvetica,sans-Serif\" font-size=\"14.00\" fill=\"#000000\">samples = 404</text>\n",
       "<text text-anchor=\"middle\" x=\"520\" y=\"-245.8\" font-family=\"Helvetica,sans-Serif\" font-size=\"14.00\" fill=\"#000000\">value = [390, 3, 7, 1, 3]</text>\n",
       "<text text-anchor=\"middle\" x=\"520\" y=\"-230.8\" font-family=\"Helvetica,sans-Serif\" font-size=\"14.00\" fill=\"#000000\">class = 0=Blood Donor</text>\n",
       "</g>\n",
       "<!-- 0&#45;&gt;1 -->\n",
       "<g id=\"edge1\" class=\"edge\">\n",
       "<title>0&#45;&gt;1</title>\n",
       "<path fill=\"none\" stroke=\"#000000\" d=\"M652.6507,-341.8796C635.7239,-332.0056 617.5556,-321.4075 600.2617,-311.3193\"/>\n",
       "<polygon fill=\"#000000\" stroke=\"#000000\" points=\"601.7104,-308.1125 591.309,-306.0969 598.1833,-314.1589 601.7104,-308.1125\"/>\n",
       "<text text-anchor=\"middle\" x=\"597.6713\" y=\"-326.5738\" font-family=\"Helvetica,sans-Serif\" font-size=\"14.00\" fill=\"#000000\">True</text>\n",
       "</g>\n",
       "<!-- 8 -->\n",
       "<g id=\"node9\" class=\"node\">\n",
       "<title>8</title>\n",
       "<path fill=\"#f8ceef\" stroke=\"#000000\" d=\"M977,-306C977,-306 849,-306 849,-306 843,-306 837,-300 837,-294 837,-294 837,-235 837,-235 837,-229 843,-223 849,-223 849,-223 977,-223 977,-223 983,-223 989,-229 989,-235 989,-235 989,-294 989,-294 989,-300 983,-306 977,-306\"/>\n",
       "<text text-anchor=\"middle\" x=\"913\" y=\"-290.8\" font-family=\"Helvetica,sans-Serif\" font-size=\"14.00\" fill=\"#000000\">CHE &lt;= 5.66</text>\n",
       "<text text-anchor=\"middle\" x=\"913\" y=\"-275.8\" font-family=\"Helvetica,sans-Serif\" font-size=\"14.00\" fill=\"#000000\">gini = 0.717</text>\n",
       "<text text-anchor=\"middle\" x=\"913\" y=\"-260.8\" font-family=\"Helvetica,sans-Serif\" font-size=\"14.00\" fill=\"#000000\">samples = 37</text>\n",
       "<text text-anchor=\"middle\" x=\"913\" y=\"-245.8\" font-family=\"Helvetica,sans-Serif\" font-size=\"14.00\" fill=\"#000000\">value = [4, 3, 9, 5, 16]</text>\n",
       "<text text-anchor=\"middle\" x=\"913\" y=\"-230.8\" font-family=\"Helvetica,sans-Serif\" font-size=\"14.00\" fill=\"#000000\">class = 3=Cirrhosis</text>\n",
       "</g>\n",
       "<!-- 0&#45;&gt;8 -->\n",
       "<g id=\"edge8\" class=\"edge\">\n",
       "<title>0&#45;&gt;8</title>\n",
       "<path fill=\"none\" stroke=\"#000000\" d=\"M790.103,-341.8796C805.6413,-332.0962 822.3088,-321.6019 838.1987,-311.5971\"/>\n",
       "<polygon fill=\"#000000\" stroke=\"#000000\" points=\"840.3368,-314.3869 846.9343,-306.0969 836.6071,-308.4633 840.3368,-314.3869\"/>\n",
       "<text text-anchor=\"middle\" x=\"841.3938\" y=\"-326.7752\" font-family=\"Helvetica,sans-Serif\" font-size=\"14.00\" fill=\"#000000\">False</text>\n",
       "</g>\n",
       "<!-- 2 -->\n",
       "<g id=\"node3\" class=\"node\">\n",
       "<title>2</title>\n",
       "<path fill=\"#ffffff\" stroke=\"#000000\" d=\"M308,-187C308,-187 174,-187 174,-187 168,-187 162,-181 162,-175 162,-175 162,-116 162,-116 162,-110 168,-104 174,-104 174,-104 308,-104 308,-104 314,-104 320,-110 320,-116 320,-116 320,-175 320,-175 320,-181 314,-187 308,-187\"/>\n",
       "<text text-anchor=\"middle\" x=\"241\" y=\"-171.8\" font-family=\"Helvetica,sans-Serif\" font-size=\"14.00\" fill=\"#000000\">ALP &lt;= 36.85</text>\n",
       "<text text-anchor=\"middle\" x=\"241\" y=\"-156.8\" font-family=\"Helvetica,sans-Serif\" font-size=\"14.00\" fill=\"#000000\">gini = 0.746</text>\n",
       "<text text-anchor=\"middle\" x=\"241\" y=\"-141.8\" font-family=\"Helvetica,sans-Serif\" font-size=\"14.00\" fill=\"#000000\">samples = 13</text>\n",
       "<text text-anchor=\"middle\" x=\"241\" y=\"-126.8\" font-family=\"Helvetica,sans-Serif\" font-size=\"14.00\" fill=\"#000000\">value = [4, 1, 4, 1, 3]</text>\n",
       "<text text-anchor=\"middle\" x=\"241\" y=\"-111.8\" font-family=\"Helvetica,sans-Serif\" font-size=\"14.00\" fill=\"#000000\">class = 0=Blood Donor</text>\n",
       "</g>\n",
       "<!-- 1&#45;&gt;2 -->\n",
       "<g id=\"edge2\" class=\"edge\">\n",
       "<title>1&#45;&gt;2</title>\n",
       "<path fill=\"none\" stroke=\"#000000\" d=\"M440.4232,-230.5586C405.8259,-215.8021 365.1572,-198.4559 329.6011,-183.2904\"/>\n",
       "<polygon fill=\"#000000\" stroke=\"#000000\" points=\"330.771,-179.9844 320.1995,-179.2805 328.0246,-186.4232 330.771,-179.9844\"/>\n",
       "</g>\n",
       "<!-- 5 -->\n",
       "<g id=\"node6\" class=\"node\">\n",
       "<title>5</title>\n",
       "<path fill=\"#e5833c\" stroke=\"#000000\" d=\"M587.5,-187C587.5,-187 452.5,-187 452.5,-187 446.5,-187 440.5,-181 440.5,-175 440.5,-175 440.5,-116 440.5,-116 440.5,-110 446.5,-104 452.5,-104 452.5,-104 587.5,-104 587.5,-104 593.5,-104 599.5,-110 599.5,-116 599.5,-116 599.5,-175 599.5,-175 599.5,-181 593.5,-187 587.5,-187\"/>\n",
       "<text text-anchor=\"middle\" x=\"520\" y=\"-171.8\" font-family=\"Helvetica,sans-Serif\" font-size=\"14.00\" fill=\"#000000\">GGT &lt;= 201.75</text>\n",
       "<text text-anchor=\"middle\" x=\"520\" y=\"-156.8\" font-family=\"Helvetica,sans-Serif\" font-size=\"14.00\" fill=\"#000000\">gini = 0.025</text>\n",
       "<text text-anchor=\"middle\" x=\"520\" y=\"-141.8\" font-family=\"Helvetica,sans-Serif\" font-size=\"14.00\" fill=\"#000000\">samples = 391</text>\n",
       "<text text-anchor=\"middle\" x=\"520\" y=\"-126.8\" font-family=\"Helvetica,sans-Serif\" font-size=\"14.00\" fill=\"#000000\">value = [386, 2, 3, 0, 0]</text>\n",
       "<text text-anchor=\"middle\" x=\"520\" y=\"-111.8\" font-family=\"Helvetica,sans-Serif\" font-size=\"14.00\" fill=\"#000000\">class = 0=Blood Donor</text>\n",
       "</g>\n",
       "<!-- 1&#45;&gt;5 -->\n",
       "<g id=\"edge5\" class=\"edge\">\n",
       "<title>1&#45;&gt;5</title>\n",
       "<path fill=\"none\" stroke=\"#000000\" d=\"M520,-222.8796C520,-214.6838 520,-205.9891 520,-197.5013\"/>\n",
       "<polygon fill=\"#000000\" stroke=\"#000000\" points=\"523.5001,-197.298 520,-187.2981 516.5001,-197.2981 523.5001,-197.298\"/>\n",
       "</g>\n",
       "<!-- 3 -->\n",
       "<g id=\"node4\" class=\"node\">\n",
       "<title>3</title>\n",
       "<path fill=\"#39e5c5\" stroke=\"#000000\" d=\"M132,-68C132,-68 12,-68 12,-68 6,-68 0,-62 0,-56 0,-56 0,-12 0,-12 0,-6 6,0 12,0 12,0 132,0 132,0 138,0 144,-6 144,-12 144,-12 144,-56 144,-56 144,-62 138,-68 132,-68\"/>\n",
       "<text text-anchor=\"middle\" x=\"72\" y=\"-52.8\" font-family=\"Helvetica,sans-Serif\" font-size=\"14.00\" fill=\"#000000\">gini = 0.0</text>\n",
       "<text text-anchor=\"middle\" x=\"72\" y=\"-37.8\" font-family=\"Helvetica,sans-Serif\" font-size=\"14.00\" fill=\"#000000\">samples = 4</text>\n",
       "<text text-anchor=\"middle\" x=\"72\" y=\"-22.8\" font-family=\"Helvetica,sans-Serif\" font-size=\"14.00\" fill=\"#000000\">value = [0, 0, 4, 0, 0]</text>\n",
       "<text text-anchor=\"middle\" x=\"72\" y=\"-7.8\" font-family=\"Helvetica,sans-Serif\" font-size=\"14.00\" fill=\"#000000\">class = 1=Hepatitis</text>\n",
       "</g>\n",
       "<!-- 2&#45;&gt;3 -->\n",
       "<g id=\"edge3\" class=\"edge\">\n",
       "<title>2&#45;&gt;3</title>\n",
       "<path fill=\"none\" stroke=\"#000000\" d=\"M178.0706,-103.9815C163.0868,-94.0957 147.1332,-83.5701 132.2718,-73.7651\"/>\n",
       "<polygon fill=\"#000000\" stroke=\"#000000\" points=\"133.9379,-70.6713 123.6634,-68.0856 130.083,-76.5142 133.9379,-70.6713\"/>\n",
       "</g>\n",
       "<!-- 4 -->\n",
       "<g id=\"node5\" class=\"node\">\n",
       "<title>4</title>\n",
       "<path fill=\"#fbeade\" stroke=\"#000000\" d=\"M308,-68C308,-68 174,-68 174,-68 168,-68 162,-62 162,-56 162,-56 162,-12 162,-12 162,-6 168,0 174,0 174,0 308,0 308,0 314,0 320,-6 320,-12 320,-12 320,-56 320,-56 320,-62 314,-68 308,-68\"/>\n",
       "<text text-anchor=\"middle\" x=\"241\" y=\"-52.8\" font-family=\"Helvetica,sans-Serif\" font-size=\"14.00\" fill=\"#000000\">gini = 0.667</text>\n",
       "<text text-anchor=\"middle\" x=\"241\" y=\"-37.8\" font-family=\"Helvetica,sans-Serif\" font-size=\"14.00\" fill=\"#000000\">samples = 9</text>\n",
       "<text text-anchor=\"middle\" x=\"241\" y=\"-22.8\" font-family=\"Helvetica,sans-Serif\" font-size=\"14.00\" fill=\"#000000\">value = [4, 1, 0, 1, 3]</text>\n",
       "<text text-anchor=\"middle\" x=\"241\" y=\"-7.8\" font-family=\"Helvetica,sans-Serif\" font-size=\"14.00\" fill=\"#000000\">class = 0=Blood Donor</text>\n",
       "</g>\n",
       "<!-- 2&#45;&gt;4 -->\n",
       "<g id=\"edge4\" class=\"edge\">\n",
       "<title>2&#45;&gt;4</title>\n",
       "<path fill=\"none\" stroke=\"#000000\" d=\"M241,-103.9815C241,-95.618 241,-86.7965 241,-78.3409\"/>\n",
       "<polygon fill=\"#000000\" stroke=\"#000000\" points=\"244.5001,-78.2636 241,-68.2637 237.5001,-78.2637 244.5001,-78.2636\"/>\n",
       "</g>\n",
       "<!-- 6 -->\n",
       "<g id=\"node7\" class=\"node\">\n",
       "<title>6</title>\n",
       "<path fill=\"#e5823b\" stroke=\"#000000\" d=\"M485.5,-68C485.5,-68 350.5,-68 350.5,-68 344.5,-68 338.5,-62 338.5,-56 338.5,-56 338.5,-12 338.5,-12 338.5,-6 344.5,0 350.5,0 350.5,0 485.5,0 485.5,0 491.5,0 497.5,-6 497.5,-12 497.5,-12 497.5,-56 497.5,-56 497.5,-62 491.5,-68 485.5,-68\"/>\n",
       "<text text-anchor=\"middle\" x=\"418\" y=\"-52.8\" font-family=\"Helvetica,sans-Serif\" font-size=\"14.00\" fill=\"#000000\">gini = 0.015</text>\n",
       "<text text-anchor=\"middle\" x=\"418\" y=\"-37.8\" font-family=\"Helvetica,sans-Serif\" font-size=\"14.00\" fill=\"#000000\">samples = 389</text>\n",
       "<text text-anchor=\"middle\" x=\"418\" y=\"-22.8\" font-family=\"Helvetica,sans-Serif\" font-size=\"14.00\" fill=\"#000000\">value = [386, 0, 3, 0, 0]</text>\n",
       "<text text-anchor=\"middle\" x=\"418\" y=\"-7.8\" font-family=\"Helvetica,sans-Serif\" font-size=\"14.00\" fill=\"#000000\">class = 0=Blood Donor</text>\n",
       "</g>\n",
       "<!-- 5&#45;&gt;6 -->\n",
       "<g id=\"edge6\" class=\"edge\">\n",
       "<title>5&#45;&gt;6</title>\n",
       "<path fill=\"none\" stroke=\"#000000\" d=\"M482.019,-103.9815C473.6114,-94.7908 464.6979,-85.0472 456.2785,-75.8436\"/>\n",
       "<polygon fill=\"#000000\" stroke=\"#000000\" points=\"458.6766,-73.2797 449.3443,-68.2637 453.5117,-78.0045 458.6766,-73.2797\"/>\n",
       "</g>\n",
       "<!-- 7 -->\n",
       "<g id=\"node8\" class=\"node\">\n",
       "<title>7</title>\n",
       "<path fill=\"#7be539\" stroke=\"#000000\" d=\"M720.5,-68C720.5,-68 527.5,-68 527.5,-68 521.5,-68 515.5,-62 515.5,-56 515.5,-56 515.5,-12 515.5,-12 515.5,-6 521.5,0 527.5,0 527.5,0 720.5,0 720.5,0 726.5,0 732.5,-6 732.5,-12 732.5,-12 732.5,-56 732.5,-56 732.5,-62 726.5,-68 720.5,-68\"/>\n",
       "<text text-anchor=\"middle\" x=\"624\" y=\"-52.8\" font-family=\"Helvetica,sans-Serif\" font-size=\"14.00\" fill=\"#000000\">gini = 0.0</text>\n",
       "<text text-anchor=\"middle\" x=\"624\" y=\"-37.8\" font-family=\"Helvetica,sans-Serif\" font-size=\"14.00\" fill=\"#000000\">samples = 2</text>\n",
       "<text text-anchor=\"middle\" x=\"624\" y=\"-22.8\" font-family=\"Helvetica,sans-Serif\" font-size=\"14.00\" fill=\"#000000\">value = [0, 2, 0, 0, 0]</text>\n",
       "<text text-anchor=\"middle\" x=\"624\" y=\"-7.8\" font-family=\"Helvetica,sans-Serif\" font-size=\"14.00\" fill=\"#000000\">class = 0s=suspect Blood Donor</text>\n",
       "</g>\n",
       "<!-- 5&#45;&gt;7 -->\n",
       "<g id=\"edge7\" class=\"edge\">\n",
       "<title>5&#45;&gt;7</title>\n",
       "<path fill=\"none\" stroke=\"#000000\" d=\"M558.7258,-103.9815C567.2982,-94.7908 576.3865,-85.0472 584.971,-75.8436\"/>\n",
       "<polygon fill=\"#000000\" stroke=\"#000000\" points=\"587.7796,-77.9637 592.0411,-68.2637 582.6607,-73.1891 587.7796,-77.9637\"/>\n",
       "</g>\n",
       "<!-- 9 -->\n",
       "<g id=\"node10\" class=\"node\">\n",
       "<title>9</title>\n",
       "<path fill=\"#e852c8\" stroke=\"#000000\" d=\"M977,-187C977,-187 849,-187 849,-187 843,-187 837,-181 837,-175 837,-175 837,-116 837,-116 837,-110 843,-104 849,-104 849,-104 977,-104 977,-104 983,-104 989,-110 989,-116 989,-116 989,-175 989,-175 989,-181 983,-187 977,-187\"/>\n",
       "<text text-anchor=\"middle\" x=\"913\" y=\"-171.8\" font-family=\"Helvetica,sans-Serif\" font-size=\"14.00\" fill=\"#000000\">ALT &lt;= 34.55</text>\n",
       "<text text-anchor=\"middle\" x=\"913\" y=\"-156.8\" font-family=\"Helvetica,sans-Serif\" font-size=\"14.00\" fill=\"#000000\">gini = 0.215</text>\n",
       "<text text-anchor=\"middle\" x=\"913\" y=\"-141.8\" font-family=\"Helvetica,sans-Serif\" font-size=\"14.00\" fill=\"#000000\">samples = 17</text>\n",
       "<text text-anchor=\"middle\" x=\"913\" y=\"-126.8\" font-family=\"Helvetica,sans-Serif\" font-size=\"14.00\" fill=\"#000000\">value = [1, 1, 0, 0, 15]</text>\n",
       "<text text-anchor=\"middle\" x=\"913\" y=\"-111.8\" font-family=\"Helvetica,sans-Serif\" font-size=\"14.00\" fill=\"#000000\">class = 3=Cirrhosis</text>\n",
       "</g>\n",
       "<!-- 8&#45;&gt;9 -->\n",
       "<g id=\"edge9\" class=\"edge\">\n",
       "<title>8&#45;&gt;9</title>\n",
       "<path fill=\"none\" stroke=\"#000000\" d=\"M913,-222.8796C913,-214.6838 913,-205.9891 913,-197.5013\"/>\n",
       "<polygon fill=\"#000000\" stroke=\"#000000\" points=\"916.5001,-197.298 913,-187.2981 909.5001,-197.2981 916.5001,-197.298\"/>\n",
       "</g>\n",
       "<!-- 12 -->\n",
       "<g id=\"node13\" class=\"node\">\n",
       "<title>12</title>\n",
       "<path fill=\"#caf8f0\" stroke=\"#000000\" d=\"M1229,-187C1229,-187 1109,-187 1109,-187 1103,-187 1097,-181 1097,-175 1097,-175 1097,-116 1097,-116 1097,-110 1103,-104 1109,-104 1109,-104 1229,-104 1229,-104 1235,-104 1241,-110 1241,-116 1241,-116 1241,-175 1241,-175 1241,-181 1235,-187 1229,-187\"/>\n",
       "<text text-anchor=\"middle\" x=\"1169\" y=\"-171.8\" font-family=\"Helvetica,sans-Serif\" font-size=\"14.00\" fill=\"#000000\">ALT &lt;= 11.15</text>\n",
       "<text text-anchor=\"middle\" x=\"1169\" y=\"-156.8\" font-family=\"Helvetica,sans-Serif\" font-size=\"14.00\" fill=\"#000000\">gini = 0.7</text>\n",
       "<text text-anchor=\"middle\" x=\"1169\" y=\"-141.8\" font-family=\"Helvetica,sans-Serif\" font-size=\"14.00\" fill=\"#000000\">samples = 20</text>\n",
       "<text text-anchor=\"middle\" x=\"1169\" y=\"-126.8\" font-family=\"Helvetica,sans-Serif\" font-size=\"14.00\" fill=\"#000000\">value = [3, 2, 9, 5, 1]</text>\n",
       "<text text-anchor=\"middle\" x=\"1169\" y=\"-111.8\" font-family=\"Helvetica,sans-Serif\" font-size=\"14.00\" fill=\"#000000\">class = 1=Hepatitis</text>\n",
       "</g>\n",
       "<!-- 8&#45;&gt;12 -->\n",
       "<g id=\"edge12\" class=\"edge\">\n",
       "<title>8&#45;&gt;12</title>\n",
       "<path fill=\"none\" stroke=\"#000000\" d=\"M989.1153,-229.1183C1020.1027,-214.714 1055.9736,-198.0396 1087.4922,-183.3884\"/>\n",
       "<polygon fill=\"#000000\" stroke=\"#000000\" points=\"1089.097,-186.5021 1096.6898,-179.1129 1086.1463,-180.1544 1089.097,-186.5021\"/>\n",
       "</g>\n",
       "<!-- 10 -->\n",
       "<g id=\"node11\" class=\"node\">\n",
       "<title>10</title>\n",
       "<path fill=\"#e539c0\" stroke=\"#000000\" d=\"M891,-68C891,-68 763,-68 763,-68 757,-68 751,-62 751,-56 751,-56 751,-12 751,-12 751,-6 757,0 763,0 763,0 891,0 891,0 897,0 903,-6 903,-12 903,-12 903,-56 903,-56 903,-62 897,-68 891,-68\"/>\n",
       "<text text-anchor=\"middle\" x=\"827\" y=\"-52.8\" font-family=\"Helvetica,sans-Serif\" font-size=\"14.00\" fill=\"#000000\">gini = 0.0</text>\n",
       "<text text-anchor=\"middle\" x=\"827\" y=\"-37.8\" font-family=\"Helvetica,sans-Serif\" font-size=\"14.00\" fill=\"#000000\">samples = 15</text>\n",
       "<text text-anchor=\"middle\" x=\"827\" y=\"-22.8\" font-family=\"Helvetica,sans-Serif\" font-size=\"14.00\" fill=\"#000000\">value = [0, 0, 0, 0, 15]</text>\n",
       "<text text-anchor=\"middle\" x=\"827\" y=\"-7.8\" font-family=\"Helvetica,sans-Serif\" font-size=\"14.00\" fill=\"#000000\">class = 3=Cirrhosis</text>\n",
       "</g>\n",
       "<!-- 9&#45;&gt;10 -->\n",
       "<g id=\"edge10\" class=\"edge\">\n",
       "<title>9&#45;&gt;10</title>\n",
       "<path fill=\"none\" stroke=\"#000000\" d=\"M880.9768,-103.9815C874.0298,-94.9747 866.6731,-85.4367 859.7004,-76.3965\"/>\n",
       "<polygon fill=\"#000000\" stroke=\"#000000\" points=\"862.3064,-74.0444 853.4276,-68.2637 856.7636,-78.3196 862.3064,-74.0444\"/>\n",
       "</g>\n",
       "<!-- 11 -->\n",
       "<g id=\"node12\" class=\"node\">\n",
       "<title>11</title>\n",
       "<path fill=\"#ffffff\" stroke=\"#000000\" d=\"M1067,-68C1067,-68 933,-68 933,-68 927,-68 921,-62 921,-56 921,-56 921,-12 921,-12 921,-6 927,0 933,0 933,0 1067,0 1067,0 1073,0 1079,-6 1079,-12 1079,-12 1079,-56 1079,-56 1079,-62 1073,-68 1067,-68\"/>\n",
       "<text text-anchor=\"middle\" x=\"1000\" y=\"-52.8\" font-family=\"Helvetica,sans-Serif\" font-size=\"14.00\" fill=\"#000000\">gini = 0.5</text>\n",
       "<text text-anchor=\"middle\" x=\"1000\" y=\"-37.8\" font-family=\"Helvetica,sans-Serif\" font-size=\"14.00\" fill=\"#000000\">samples = 2</text>\n",
       "<text text-anchor=\"middle\" x=\"1000\" y=\"-22.8\" font-family=\"Helvetica,sans-Serif\" font-size=\"14.00\" fill=\"#000000\">value = [1, 1, 0, 0, 0]</text>\n",
       "<text text-anchor=\"middle\" x=\"1000\" y=\"-7.8\" font-family=\"Helvetica,sans-Serif\" font-size=\"14.00\" fill=\"#000000\">class = 0=Blood Donor</text>\n",
       "</g>\n",
       "<!-- 9&#45;&gt;11 -->\n",
       "<g id=\"edge11\" class=\"edge\">\n",
       "<title>9&#45;&gt;11</title>\n",
       "<path fill=\"none\" stroke=\"#000000\" d=\"M945.3956,-103.9815C952.4234,-94.9747 959.8655,-85.4367 966.9193,-76.3965\"/>\n",
       "<polygon fill=\"#000000\" stroke=\"#000000\" points=\"969.8728,-78.3008 973.2651,-68.2637 964.354,-73.9946 969.8728,-78.3008\"/>\n",
       "</g>\n",
       "<!-- 13 -->\n",
       "<g id=\"node14\" class=\"node\">\n",
       "<title>13</title>\n",
       "<path fill=\"#3c39e5\" stroke=\"#000000\" d=\"M1229,-68C1229,-68 1109,-68 1109,-68 1103,-68 1097,-62 1097,-56 1097,-56 1097,-12 1097,-12 1097,-6 1103,0 1109,0 1109,0 1229,0 1229,0 1235,0 1241,-6 1241,-12 1241,-12 1241,-56 1241,-56 1241,-62 1235,-68 1229,-68\"/>\n",
       "<text text-anchor=\"middle\" x=\"1169\" y=\"-52.8\" font-family=\"Helvetica,sans-Serif\" font-size=\"14.00\" fill=\"#000000\">gini = 0.0</text>\n",
       "<text text-anchor=\"middle\" x=\"1169\" y=\"-37.8\" font-family=\"Helvetica,sans-Serif\" font-size=\"14.00\" fill=\"#000000\">samples = 3</text>\n",
       "<text text-anchor=\"middle\" x=\"1169\" y=\"-22.8\" font-family=\"Helvetica,sans-Serif\" font-size=\"14.00\" fill=\"#000000\">value = [0, 0, 0, 3, 0]</text>\n",
       "<text text-anchor=\"middle\" x=\"1169\" y=\"-7.8\" font-family=\"Helvetica,sans-Serif\" font-size=\"14.00\" fill=\"#000000\">class = 2=Fibrosis</text>\n",
       "</g>\n",
       "<!-- 12&#45;&gt;13 -->\n",
       "<g id=\"edge13\" class=\"edge\">\n",
       "<title>12&#45;&gt;13</title>\n",
       "<path fill=\"none\" stroke=\"#000000\" d=\"M1169,-103.9815C1169,-95.618 1169,-86.7965 1169,-78.3409\"/>\n",
       "<polygon fill=\"#000000\" stroke=\"#000000\" points=\"1172.5001,-78.2636 1169,-68.2637 1165.5001,-78.2637 1172.5001,-78.2636\"/>\n",
       "</g>\n",
       "<!-- 14 -->\n",
       "<g id=\"node15\" class=\"node\">\n",
       "<title>14</title>\n",
       "<path fill=\"#aaf4e6\" stroke=\"#000000\" d=\"M1391,-68C1391,-68 1271,-68 1271,-68 1265,-68 1259,-62 1259,-56 1259,-56 1259,-12 1259,-12 1259,-6 1265,0 1271,0 1271,0 1391,0 1391,0 1397,0 1403,-6 1403,-12 1403,-12 1403,-56 1403,-56 1403,-62 1397,-68 1391,-68\"/>\n",
       "<text text-anchor=\"middle\" x=\"1331\" y=\"-52.8\" font-family=\"Helvetica,sans-Serif\" font-size=\"14.00\" fill=\"#000000\">gini = 0.657</text>\n",
       "<text text-anchor=\"middle\" x=\"1331\" y=\"-37.8\" font-family=\"Helvetica,sans-Serif\" font-size=\"14.00\" fill=\"#000000\">samples = 17</text>\n",
       "<text text-anchor=\"middle\" x=\"1331\" y=\"-22.8\" font-family=\"Helvetica,sans-Serif\" font-size=\"14.00\" fill=\"#000000\">value = [3, 2, 9, 2, 1]</text>\n",
       "<text text-anchor=\"middle\" x=\"1331\" y=\"-7.8\" font-family=\"Helvetica,sans-Serif\" font-size=\"14.00\" fill=\"#000000\">class = 1=Hepatitis</text>\n",
       "</g>\n",
       "<!-- 12&#45;&gt;14 -->\n",
       "<g id=\"edge14\" class=\"edge\">\n",
       "<title>12&#45;&gt;14</title>\n",
       "<path fill=\"none\" stroke=\"#000000\" d=\"M1229.3228,-103.9815C1243.686,-94.0957 1258.9788,-83.5701 1273.2247,-73.7651\"/>\n",
       "<polygon fill=\"#000000\" stroke=\"#000000\" points=\"1275.2234,-76.6384 1281.4765,-68.0856 1271.2546,-70.8722 1275.2234,-76.6384\"/>\n",
       "</g>\n",
       "</g>\n",
       "</svg>\n"
      ],
      "text/plain": [
       "<graphviz.files.Source at 0x7fb0020193d0>"
      ]
     },
     "execution_count": 137,
     "metadata": {},
     "output_type": "execute_result"
    }
   ],
   "source": [
    "graph"
   ]
  },
  {
   "cell_type": "markdown",
   "metadata": {},
   "source": [
    "Use ``graph.render('name of the graph', view=True)`` when one wants to save the graph in a pdf file in the same directory as the one containing this notebook."
   ]
  },
  {
   "cell_type": "markdown",
   "metadata": {},
   "source": [
    "# SVM"
   ]
  },
  {
   "cell_type": "markdown",
   "metadata": {},
   "source": [
    "## One versus one classification"
   ]
  },
  {
   "cell_type": "code",
   "execution_count": 141,
   "metadata": {},
   "outputs": [
    {
     "data": {
      "text/plain": [
       "SVC(decision_function_shape='ovo')"
      ]
     },
     "execution_count": 141,
     "metadata": {},
     "output_type": "execute_result"
    }
   ],
   "source": [
    "clf_ovo = SVC(decision_function_shape='ovo')\n",
    "clf_ovo.fit(X_train, y_train)"
   ]
  },
  {
   "cell_type": "code",
   "execution_count": 143,
   "metadata": {},
   "outputs": [
    {
     "data": {
      "text/plain": [
       "0.918918918918919"
      ]
     },
     "execution_count": 143,
     "metadata": {},
     "output_type": "execute_result"
    }
   ],
   "source": [
    "clf_ovo.score(X_test, y_test)"
   ]
  },
  {
   "cell_type": "markdown",
   "metadata": {},
   "source": [
    "## One versus rest classification"
   ]
  },
  {
   "cell_type": "code",
   "execution_count": 142,
   "metadata": {},
   "outputs": [
    {
     "data": {
      "text/plain": [
       "SVC()"
      ]
     },
     "execution_count": 142,
     "metadata": {},
     "output_type": "execute_result"
    }
   ],
   "source": [
    "clf_ovr = SVC(decision_function_shape='ovr')\n",
    "clf_ovr.fit(X_train, y_train)"
   ]
  },
  {
   "cell_type": "code",
   "execution_count": 144,
   "metadata": {},
   "outputs": [
    {
     "data": {
      "text/plain": [
       "0.918918918918919"
      ]
     },
     "execution_count": 144,
     "metadata": {},
     "output_type": "execute_result"
    }
   ],
   "source": [
    "clf_ovr.score(X_test, y_test)"
   ]
  },
  {
   "cell_type": "markdown",
   "metadata": {},
   "source": [
    "We obtain the same results with the two different methods"
   ]
  },
  {
   "cell_type": "code",
   "execution_count": null,
   "metadata": {},
   "outputs": [],
   "source": []
  }
 ],
 "metadata": {
  "kernelspec": {
   "display_name": "Python 3.7.6 64-bit ('base': conda)",
   "language": "python",
   "name": "python37664bitbasecondae5433ad43d13444bb011d4b7eb072777"
  },
  "language_info": {
   "codemirror_mode": {
    "name": "ipython",
    "version": 3
   },
   "file_extension": ".py",
   "mimetype": "text/x-python",
   "name": "python",
   "nbconvert_exporter": "python",
   "pygments_lexer": "ipython3",
   "version": "3.7.6"
  },
  "toc": {
   "base_numbering": 1,
   "nav_menu": {},
   "number_sections": true,
   "sideBar": true,
   "skip_h1_title": false,
   "title_cell": "Table of Contents",
   "title_sidebar": "Contents",
   "toc_cell": false,
   "toc_position": {},
   "toc_section_display": true,
   "toc_window_display": false
  },
  "varInspector": {
   "cols": {
    "lenName": 16,
    "lenType": 16,
    "lenVar": 40
   },
   "kernels_config": {
    "python": {
     "delete_cmd_postfix": "",
     "delete_cmd_prefix": "del ",
     "library": "var_list.py",
     "varRefreshCmd": "print(var_dic_list())"
    },
    "r": {
     "delete_cmd_postfix": ") ",
     "delete_cmd_prefix": "rm(",
     "library": "var_list.r",
     "varRefreshCmd": "cat(var_dic_list()) "
    }
   },
   "types_to_exclude": [
    "module",
    "function",
    "builtin_function_or_method",
    "instance",
    "_Feature"
   ],
   "window_display": false
  }
 },
 "nbformat": 4,
 "nbformat_minor": 4
}
