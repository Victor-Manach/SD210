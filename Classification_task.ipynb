{
 "cells": [
  {
   "cell_type": "code",
   "execution_count": 1,
   "metadata": {},
   "outputs": [],
   "source": [
    "import numpy as np\n",
    "import pandas as pd\n",
    "import graphviz\n",
    "import matplotlib.pyplot as plt\n",
    "from sklearn.model_selection import train_test_split\n",
    "from sklearn.tree import DecisionTreeClassifier\n",
    "from sklearn.ensemble import BaggingClassifier\n",
    "from sklearn.ensemble import RandomForestClassifier\n",
    "from imblearn.ensemble import BalancedBaggingClassifier\n",
    "from sklearn import tree\n",
    "from sklearn import metrics\n",
    "from sklearn.svm import SVC\n",
    "from imblearn.under_sampling import RandomUnderSampler\n",
    "from imblearn.over_sampling import RandomOverSampler\n",
    "from sklearn.model_selection import GridSearchCV"
   ]
  },
  {
   "cell_type": "markdown",
   "metadata": {},
   "source": [
    "# Load data"
   ]
  },
  {
   "cell_type": "code",
   "execution_count": 2,
   "metadata": {},
   "outputs": [],
   "source": [
    "X = pd.read_csv('./data/hcvdat0.csv', index_col=0).reset_index(drop=True)"
   ]
  },
  {
   "cell_type": "markdown",
   "metadata": {},
   "source": [
    "# Pre-processing"
   ]
  },
  {
   "cell_type": "markdown",
   "metadata": {},
   "source": [
    "In this first part, we need to change the ``category`` attribute of the data because we need it to be int. In addition, we change the ``Sex`` attribute from m/f to $0/1$. All the other attributes are already floats, so we keep them as they are.\n",
    "\n",
    "> m $\\rightarrow 0$ and f $\\rightarrow 1$\n",
    "\n",
    "> Blood donor $\\rightarrow 0$, Suspect blood donor $\\rightarrow 1$, Hepatitis $\\rightarrow 2$, Fibrosis $\\rightarrow 3$ and Cirrhosis $\\rightarrow 4$"
   ]
  },
  {
   "cell_type": "markdown",
   "metadata": {},
   "source": [
    "## Change the sex and category attributes"
   ]
  },
  {
   "cell_type": "code",
   "execution_count": 3,
   "metadata": {},
   "outputs": [],
   "source": [
    "class_names = np.unique(X.Category)\n",
    "X = X.replace({'Sex': {'f':1,'m':0}, 'Category':{'0=Blood Donor':0,'0s=suspect Blood Donor':1, '1=Hepatitis':2, '2=Fibrosis':3, '3=Cirrhosis':4}})"
   ]
  },
  {
   "cell_type": "markdown",
   "metadata": {},
   "source": [
    "## Remove NaN values"
   ]
  },
  {
   "cell_type": "code",
   "execution_count": 4,
   "metadata": {},
   "outputs": [],
   "source": [
    "X = X.dropna()"
   ]
  },
  {
   "cell_type": "markdown",
   "metadata": {},
   "source": [
    "## Split X and y"
   ]
  },
  {
   "cell_type": "code",
   "execution_count": 5,
   "metadata": {},
   "outputs": [],
   "source": [
    "y = X.Category\n",
    "X = X.drop('Category', axis=1)"
   ]
  },
  {
   "cell_type": "markdown",
   "metadata": {},
   "source": [
    "## Split the data in train and test split"
   ]
  },
  {
   "cell_type": "code",
   "execution_count": 6,
   "metadata": {},
   "outputs": [],
   "source": [
    "x_train, x_test, y_train, y_test = train_test_split(X,y, test_size=0.25)"
   ]
  },
  {
   "cell_type": "markdown",
   "metadata": {},
   "source": [
    "## Over sampling smaller categories"
   ]
  },
  {
   "cell_type": "code",
   "execution_count": 7,
   "metadata": {},
   "outputs": [],
   "source": [
    "#On fait attention ici de ne pas toucher aux test sets\n",
    "x_train_eq,y_train_eq = RandomOverSampler().fit_resample(x_train,y_train)"
   ]
  },
  {
   "cell_type": "markdown",
   "metadata": {},
   "source": [
    "# Decision tree"
   ]
  },
  {
   "cell_type": "markdown",
   "metadata": {},
   "source": [
    "## Build the tree"
   ]
  },
  {
   "cell_type": "code",
   "execution_count": 8,
   "metadata": {},
   "outputs": [
    {
     "data": {
      "text/plain": [
       "DecisionTreeClassifier(max_depth=3, random_state=42)"
      ]
     },
     "execution_count": 8,
     "metadata": {},
     "output_type": "execute_result"
    }
   ],
   "source": [
    "clf = DecisionTreeClassifier(criterion='gini', max_depth=3, random_state=42)\n",
    "clf.fit(x_train, y_train)"
   ]
  },
  {
   "cell_type": "markdown",
   "metadata": {},
   "source": [
    "## Compute the accuracy of the tree"
   ]
  },
  {
   "cell_type": "code",
   "execution_count": 9,
   "metadata": {},
   "outputs": [
    {
     "name": "stdout",
     "output_type": "stream",
     "text": [
      "Accuracy on the train set: 0.9546485260770975\n",
      "Accuracy on the test set: 0.9256756756756757\n"
     ]
    }
   ],
   "source": [
    "y_pred_train = clf.predict(x_train)\n",
    "accuracy_train = metrics.accuracy_score(y_train, y_pred_train)\n",
    "print('Accuracy on the train set:', accuracy_train)\n",
    "\n",
    "y_pred_test = clf.predict(x_test)\n",
    "accuracy_test = metrics.accuracy_score(y_test, y_pred_test)\n",
    "print('Accuracy on the test set:', accuracy_test)"
   ]
  },
  {
   "cell_type": "markdown",
   "metadata": {},
   "source": [
    "## Visualise the tree"
   ]
  },
  {
   "cell_type": "code",
   "execution_count": 10,
   "metadata": {},
   "outputs": [],
   "source": [
    "feature_names = X.columns\n",
    "plot_tree = tree.export_graphviz(clf, out_file=None, filled=True, rounded=True, feature_names=feature_names, class_names=class_names)\n",
    "graph = graphviz.Source(plot_tree)"
   ]
  },
  {
   "cell_type": "code",
   "execution_count": 11,
   "metadata": {
    "scrolled": false
   },
   "outputs": [
    {
     "data": {
      "image/svg+xml": [
       "<?xml version=\"1.0\" encoding=\"UTF-8\" standalone=\"no\"?>\n",
       "<!DOCTYPE svg PUBLIC \"-//W3C//DTD SVG 1.1//EN\"\n",
       " \"http://www.w3.org/Graphics/SVG/1.1/DTD/svg11.dtd\">\n",
       "<!-- Generated by graphviz version 2.47.1 (20210417.1919)\n",
       " -->\n",
       "<!-- Title: Tree Pages: 1 -->\n",
       "<svg width=\"1390pt\" height=\"433pt\"\n",
       " viewBox=\"0.00 0.00 1390.00 433.00\" xmlns=\"http://www.w3.org/2000/svg\" xmlns:xlink=\"http://www.w3.org/1999/xlink\">\n",
       "<g id=\"graph0\" class=\"graph\" transform=\"scale(1 1) rotate(0) translate(4 429)\">\n",
       "<title>Tree</title>\n",
       "<polygon fill=\"white\" stroke=\"transparent\" points=\"-4,4 -4,-429 1386,-429 1386,4 -4,4\"/>\n",
       "<!-- 0 -->\n",
       "<g id=\"node1\" class=\"node\">\n",
       "<title>0</title>\n",
       "<path fill=\"#e88f4f\" stroke=\"black\" d=\"M786,-425C786,-425 640,-425 640,-425 634,-425 628,-419 628,-413 628,-413 628,-354 628,-354 628,-348 634,-342 640,-342 640,-342 786,-342 786,-342 792,-342 798,-348 798,-354 798,-354 798,-413 798,-413 798,-419 792,-425 786,-425\"/>\n",
       "<text text-anchor=\"middle\" x=\"713\" y=\"-409.8\" font-family=\"Helvetica,sans-Serif\" font-size=\"14.00\">AST &lt;= 54.15</text>\n",
       "<text text-anchor=\"middle\" x=\"713\" y=\"-394.8\" font-family=\"Helvetica,sans-Serif\" font-size=\"14.00\">gini = 0.195</text>\n",
       "<text text-anchor=\"middle\" x=\"713\" y=\"-379.8\" font-family=\"Helvetica,sans-Serif\" font-size=\"14.00\">samples = 441</text>\n",
       "<text text-anchor=\"middle\" x=\"713\" y=\"-364.8\" font-family=\"Helvetica,sans-Serif\" font-size=\"14.00\">value = [395, 5, 14, 9, 18]</text>\n",
       "<text text-anchor=\"middle\" x=\"713\" y=\"-349.8\" font-family=\"Helvetica,sans-Serif\" font-size=\"14.00\">class = 0=Blood Donor</text>\n",
       "</g>\n",
       "<!-- 1 -->\n",
       "<g id=\"node2\" class=\"node\">\n",
       "<title>1</title>\n",
       "<path fill=\"#e68640\" stroke=\"black\" d=\"M593.5,-306C593.5,-306 462.5,-306 462.5,-306 456.5,-306 450.5,-300 450.5,-294 450.5,-294 450.5,-235 450.5,-235 450.5,-229 456.5,-223 462.5,-223 462.5,-223 593.5,-223 593.5,-223 599.5,-223 605.5,-229 605.5,-235 605.5,-235 605.5,-294 605.5,-294 605.5,-300 599.5,-306 593.5,-306\"/>\n",
       "<text text-anchor=\"middle\" x=\"528\" y=\"-290.8\" font-family=\"Helvetica,sans-Serif\" font-size=\"14.00\">ALT &lt;= 9.65</text>\n",
       "<text text-anchor=\"middle\" x=\"528\" y=\"-275.8\" font-family=\"Helvetica,sans-Serif\" font-size=\"14.00\">gini = 0.072</text>\n",
       "<text text-anchor=\"middle\" x=\"528\" y=\"-260.8\" font-family=\"Helvetica,sans-Serif\" font-size=\"14.00\">samples = 405</text>\n",
       "<text text-anchor=\"middle\" x=\"528\" y=\"-245.8\" font-family=\"Helvetica,sans-Serif\" font-size=\"14.00\">value = [390, 2, 7, 3, 3]</text>\n",
       "<text text-anchor=\"middle\" x=\"528\" y=\"-230.8\" font-family=\"Helvetica,sans-Serif\" font-size=\"14.00\">class = 0=Blood Donor</text>\n",
       "</g>\n",
       "<!-- 0&#45;&gt;1 -->\n",
       "<g id=\"edge1\" class=\"edge\">\n",
       "<title>0&#45;&gt;1</title>\n",
       "<path fill=\"none\" stroke=\"black\" d=\"M648.82,-341.91C633.32,-332.11 616.65,-321.56 600.79,-311.53\"/>\n",
       "<polygon fill=\"black\" stroke=\"black\" points=\"602.39,-308.41 592.07,-306.02 598.65,-314.32 602.39,-308.41\"/>\n",
       "<text text-anchor=\"middle\" x=\"597.56\" y=\"-326.71\" font-family=\"Helvetica,sans-Serif\" font-size=\"14.00\">True</text>\n",
       "</g>\n",
       "<!-- 8 -->\n",
       "<g id=\"node9\" class=\"node\">\n",
       "<title>8</title>\n",
       "<path fill=\"#f8c8ee\" stroke=\"black\" d=\"M951.5,-306C951.5,-306 828.5,-306 828.5,-306 822.5,-306 816.5,-300 816.5,-294 816.5,-294 816.5,-235 816.5,-235 816.5,-229 822.5,-223 828.5,-223 828.5,-223 951.5,-223 951.5,-223 957.5,-223 963.5,-229 963.5,-235 963.5,-235 963.5,-294 963.5,-294 963.5,-300 957.5,-306 951.5,-306\"/>\n",
       "<text text-anchor=\"middle\" x=\"890\" y=\"-290.8\" font-family=\"Helvetica,sans-Serif\" font-size=\"14.00\">CHE &lt;= 6.43</text>\n",
       "<text text-anchor=\"middle\" x=\"890\" y=\"-275.8\" font-family=\"Helvetica,sans-Serif\" font-size=\"14.00\">gini = 0.735</text>\n",
       "<text text-anchor=\"middle\" x=\"890\" y=\"-260.8\" font-family=\"Helvetica,sans-Serif\" font-size=\"14.00\">samples = 36</text>\n",
       "<text text-anchor=\"middle\" x=\"890\" y=\"-245.8\" font-family=\"Helvetica,sans-Serif\" font-size=\"14.00\">value = [5, 3, 7, 6, 15]</text>\n",
       "<text text-anchor=\"middle\" x=\"890\" y=\"-230.8\" font-family=\"Helvetica,sans-Serif\" font-size=\"14.00\">class = 3=Cirrhosis</text>\n",
       "</g>\n",
       "<!-- 0&#45;&gt;8 -->\n",
       "<g id=\"edge8\" class=\"edge\">\n",
       "<title>0&#45;&gt;8</title>\n",
       "<path fill=\"none\" stroke=\"black\" d=\"M774.41,-341.91C789.1,-332.2 804.89,-321.76 819.94,-311.81\"/>\n",
       "<polygon fill=\"black\" stroke=\"black\" points=\"822.29,-314.45 828.7,-306.02 818.43,-308.62 822.29,-314.45\"/>\n",
       "<text text-anchor=\"middle\" x=\"823.7\" y=\"-326.82\" font-family=\"Helvetica,sans-Serif\" font-size=\"14.00\">False</text>\n",
       "</g>\n",
       "<!-- 2 -->\n",
       "<g id=\"node3\" class=\"node\">\n",
       "<title>2</title>\n",
       "<path fill=\"#fbece1\" stroke=\"black\" d=\"M300,-187C300,-187 170,-187 170,-187 164,-187 158,-181 158,-175 158,-175 158,-116 158,-116 158,-110 164,-104 170,-104 170,-104 300,-104 300,-104 306,-104 312,-110 312,-116 312,-116 312,-175 312,-175 312,-181 306,-187 300,-187\"/>\n",
       "<text text-anchor=\"middle\" x=\"235\" y=\"-171.8\" font-family=\"Helvetica,sans-Serif\" font-size=\"14.00\">ALP &lt;= 52.3</text>\n",
       "<text text-anchor=\"middle\" x=\"235\" y=\"-156.8\" font-family=\"Helvetica,sans-Serif\" font-size=\"14.00\">gini = 0.754</text>\n",
       "<text text-anchor=\"middle\" x=\"235\" y=\"-141.8\" font-family=\"Helvetica,sans-Serif\" font-size=\"14.00\">samples = 17</text>\n",
       "<text text-anchor=\"middle\" x=\"235\" y=\"-126.8\" font-family=\"Helvetica,sans-Serif\" font-size=\"14.00\">value = [6, 1, 4, 3, 3]</text>\n",
       "<text text-anchor=\"middle\" x=\"235\" y=\"-111.8\" font-family=\"Helvetica,sans-Serif\" font-size=\"14.00\">class = 0=Blood Donor</text>\n",
       "</g>\n",
       "<!-- 1&#45;&gt;2 -->\n",
       "<g id=\"edge2\" class=\"edge\">\n",
       "<title>1&#45;&gt;2</title>\n",
       "<path fill=\"none\" stroke=\"black\" d=\"M450.25,-232.45C410.61,-216.63 362.3,-197.33 321.49,-181.04\"/>\n",
       "<polygon fill=\"black\" stroke=\"black\" points=\"322.68,-177.74 312.1,-177.29 320.09,-184.24 322.68,-177.74\"/>\n",
       "</g>\n",
       "<!-- 5 -->\n",
       "<g id=\"node6\" class=\"node\">\n",
       "<title>5</title>\n",
       "<path fill=\"#e5823b\" stroke=\"black\" d=\"M593.5,-187C593.5,-187 462.5,-187 462.5,-187 456.5,-187 450.5,-181 450.5,-175 450.5,-175 450.5,-116 450.5,-116 450.5,-110 456.5,-104 462.5,-104 462.5,-104 593.5,-104 593.5,-104 599.5,-104 605.5,-110 605.5,-116 605.5,-116 605.5,-175 605.5,-175 605.5,-181 599.5,-187 593.5,-187\"/>\n",
       "<text text-anchor=\"middle\" x=\"528\" y=\"-171.8\" font-family=\"Helvetica,sans-Serif\" font-size=\"14.00\">ALB &lt;= 23.25</text>\n",
       "<text text-anchor=\"middle\" x=\"528\" y=\"-156.8\" font-family=\"Helvetica,sans-Serif\" font-size=\"14.00\">gini = 0.02</text>\n",
       "<text text-anchor=\"middle\" x=\"528\" y=\"-141.8\" font-family=\"Helvetica,sans-Serif\" font-size=\"14.00\">samples = 388</text>\n",
       "<text text-anchor=\"middle\" x=\"528\" y=\"-126.8\" font-family=\"Helvetica,sans-Serif\" font-size=\"14.00\">value = [384, 1, 3, 0, 0]</text>\n",
       "<text text-anchor=\"middle\" x=\"528\" y=\"-111.8\" font-family=\"Helvetica,sans-Serif\" font-size=\"14.00\">class = 0=Blood Donor</text>\n",
       "</g>\n",
       "<!-- 1&#45;&gt;5 -->\n",
       "<g id=\"edge5\" class=\"edge\">\n",
       "<title>1&#45;&gt;5</title>\n",
       "<path fill=\"none\" stroke=\"black\" d=\"M528,-222.91C528,-214.65 528,-205.86 528,-197.3\"/>\n",
       "<polygon fill=\"black\" stroke=\"black\" points=\"531.5,-197.02 528,-187.02 524.5,-197.02 531.5,-197.02\"/>\n",
       "</g>\n",
       "<!-- 3 -->\n",
       "<g id=\"node4\" class=\"node\">\n",
       "<title>3</title>\n",
       "<path fill=\"#defbf5\" stroke=\"black\" d=\"M128,-68C128,-68 12,-68 12,-68 6,-68 0,-62 0,-56 0,-56 0,-12 0,-12 0,-6 6,0 12,0 12,0 128,0 128,0 134,0 140,-6 140,-12 140,-12 140,-56 140,-56 140,-62 134,-68 128,-68\"/>\n",
       "<text text-anchor=\"middle\" x=\"70\" y=\"-52.8\" font-family=\"Helvetica,sans-Serif\" font-size=\"14.00\">gini = 0.667</text>\n",
       "<text text-anchor=\"middle\" x=\"70\" y=\"-37.8\" font-family=\"Helvetica,sans-Serif\" font-size=\"14.00\">samples = 9</text>\n",
       "<text text-anchor=\"middle\" x=\"70\" y=\"-22.8\" font-family=\"Helvetica,sans-Serif\" font-size=\"14.00\">value = [0, 1, 4, 3, 1]</text>\n",
       "<text text-anchor=\"middle\" x=\"70\" y=\"-7.8\" font-family=\"Helvetica,sans-Serif\" font-size=\"14.00\">class = 1=Hepatitis</text>\n",
       "</g>\n",
       "<!-- 2&#45;&gt;3 -->\n",
       "<g id=\"edge3\" class=\"edge\">\n",
       "<title>2&#45;&gt;3</title>\n",
       "<path fill=\"none\" stroke=\"black\" d=\"M173.56,-103.73C158.78,-93.92 143.03,-83.46 128.39,-73.75\"/>\n",
       "<polygon fill=\"black\" stroke=\"black\" points=\"130.18,-70.74 119.91,-68.13 126.31,-76.57 130.18,-70.74\"/>\n",
       "</g>\n",
       "<!-- 4 -->\n",
       "<g id=\"node5\" class=\"node\">\n",
       "<title>4</title>\n",
       "<path fill=\"#eeab7b\" stroke=\"black\" d=\"M300,-68C300,-68 170,-68 170,-68 164,-68 158,-62 158,-56 158,-56 158,-12 158,-12 158,-6 164,0 170,0 170,0 300,0 300,0 306,0 312,-6 312,-12 312,-12 312,-56 312,-56 312,-62 306,-68 300,-68\"/>\n",
       "<text text-anchor=\"middle\" x=\"235\" y=\"-52.8\" font-family=\"Helvetica,sans-Serif\" font-size=\"14.00\">gini = 0.375</text>\n",
       "<text text-anchor=\"middle\" x=\"235\" y=\"-37.8\" font-family=\"Helvetica,sans-Serif\" font-size=\"14.00\">samples = 8</text>\n",
       "<text text-anchor=\"middle\" x=\"235\" y=\"-22.8\" font-family=\"Helvetica,sans-Serif\" font-size=\"14.00\">value = [6, 0, 0, 0, 2]</text>\n",
       "<text text-anchor=\"middle\" x=\"235\" y=\"-7.8\" font-family=\"Helvetica,sans-Serif\" font-size=\"14.00\">class = 0=Blood Donor</text>\n",
       "</g>\n",
       "<!-- 2&#45;&gt;4 -->\n",
       "<g id=\"edge4\" class=\"edge\">\n",
       "<title>2&#45;&gt;4</title>\n",
       "<path fill=\"none\" stroke=\"black\" d=\"M235,-103.73C235,-95.52 235,-86.86 235,-78.56\"/>\n",
       "<polygon fill=\"black\" stroke=\"black\" points=\"238.5,-78.3 235,-68.3 231.5,-78.3 238.5,-78.3\"/>\n",
       "</g>\n",
       "<!-- 6 -->\n",
       "<g id=\"node7\" class=\"node\">\n",
       "<title>6</title>\n",
       "<path fill=\"#7be539\" stroke=\"black\" d=\"M529.5,-68C529.5,-68 342.5,-68 342.5,-68 336.5,-68 330.5,-62 330.5,-56 330.5,-56 330.5,-12 330.5,-12 330.5,-6 336.5,0 342.5,0 342.5,0 529.5,0 529.5,0 535.5,0 541.5,-6 541.5,-12 541.5,-12 541.5,-56 541.5,-56 541.5,-62 535.5,-68 529.5,-68\"/>\n",
       "<text text-anchor=\"middle\" x=\"436\" y=\"-52.8\" font-family=\"Helvetica,sans-Serif\" font-size=\"14.00\">gini = 0.0</text>\n",
       "<text text-anchor=\"middle\" x=\"436\" y=\"-37.8\" font-family=\"Helvetica,sans-Serif\" font-size=\"14.00\">samples = 1</text>\n",
       "<text text-anchor=\"middle\" x=\"436\" y=\"-22.8\" font-family=\"Helvetica,sans-Serif\" font-size=\"14.00\">value = [0, 1, 0, 0, 0]</text>\n",
       "<text text-anchor=\"middle\" x=\"436\" y=\"-7.8\" font-family=\"Helvetica,sans-Serif\" font-size=\"14.00\">class = 0s=suspect Blood Donor</text>\n",
       "</g>\n",
       "<!-- 5&#45;&gt;6 -->\n",
       "<g id=\"edge6\" class=\"edge\">\n",
       "<title>5&#45;&gt;6</title>\n",
       "<path fill=\"none\" stroke=\"black\" d=\"M493.74,-103.73C486.16,-94.7 478.11,-85.12 470.52,-76.08\"/>\n",
       "<polygon fill=\"black\" stroke=\"black\" points=\"473.09,-73.7 463.98,-68.3 467.73,-78.21 473.09,-73.7\"/>\n",
       "</g>\n",
       "<!-- 7 -->\n",
       "<g id=\"node8\" class=\"node\">\n",
       "<title>7</title>\n",
       "<path fill=\"#e5823b\" stroke=\"black\" d=\"M702.5,-68C702.5,-68 571.5,-68 571.5,-68 565.5,-68 559.5,-62 559.5,-56 559.5,-56 559.5,-12 559.5,-12 559.5,-6 565.5,0 571.5,0 571.5,0 702.5,0 702.5,0 708.5,0 714.5,-6 714.5,-12 714.5,-12 714.5,-56 714.5,-56 714.5,-62 708.5,-68 702.5,-68\"/>\n",
       "<text text-anchor=\"middle\" x=\"637\" y=\"-52.8\" font-family=\"Helvetica,sans-Serif\" font-size=\"14.00\">gini = 0.015</text>\n",
       "<text text-anchor=\"middle\" x=\"637\" y=\"-37.8\" font-family=\"Helvetica,sans-Serif\" font-size=\"14.00\">samples = 387</text>\n",
       "<text text-anchor=\"middle\" x=\"637\" y=\"-22.8\" font-family=\"Helvetica,sans-Serif\" font-size=\"14.00\">value = [384, 0, 3, 0, 0]</text>\n",
       "<text text-anchor=\"middle\" x=\"637\" y=\"-7.8\" font-family=\"Helvetica,sans-Serif\" font-size=\"14.00\">class = 0=Blood Donor</text>\n",
       "</g>\n",
       "<!-- 5&#45;&gt;7 -->\n",
       "<g id=\"edge7\" class=\"edge\">\n",
       "<title>5&#45;&gt;7</title>\n",
       "<path fill=\"none\" stroke=\"black\" d=\"M568.59,-103.73C577.76,-94.51 587.49,-84.74 596.65,-75.53\"/>\n",
       "<polygon fill=\"black\" stroke=\"black\" points=\"599.28,-77.86 603.85,-68.3 594.32,-72.92 599.28,-77.86\"/>\n",
       "</g>\n",
       "<!-- 9 -->\n",
       "<g id=\"node10\" class=\"node\">\n",
       "<title>9</title>\n",
       "<path fill=\"#ea5ccb\" stroke=\"black\" d=\"M951.5,-187C951.5,-187 828.5,-187 828.5,-187 822.5,-187 816.5,-181 816.5,-175 816.5,-175 816.5,-116 816.5,-116 816.5,-110 822.5,-104 828.5,-104 828.5,-104 951.5,-104 951.5,-104 957.5,-104 963.5,-110 963.5,-116 963.5,-116 963.5,-175 963.5,-175 963.5,-181 957.5,-187 951.5,-187\"/>\n",
       "<text text-anchor=\"middle\" x=\"890\" y=\"-171.8\" font-family=\"Helvetica,sans-Serif\" font-size=\"14.00\">ALT &lt;= 33.4</text>\n",
       "<text text-anchor=\"middle\" x=\"890\" y=\"-156.8\" font-family=\"Helvetica,sans-Serif\" font-size=\"14.00\">gini = 0.296</text>\n",
       "<text text-anchor=\"middle\" x=\"890\" y=\"-141.8\" font-family=\"Helvetica,sans-Serif\" font-size=\"14.00\">samples = 18</text>\n",
       "<text text-anchor=\"middle\" x=\"890\" y=\"-126.8\" font-family=\"Helvetica,sans-Serif\" font-size=\"14.00\">value = [1, 1, 1, 0, 15]</text>\n",
       "<text text-anchor=\"middle\" x=\"890\" y=\"-111.8\" font-family=\"Helvetica,sans-Serif\" font-size=\"14.00\">class = 3=Cirrhosis</text>\n",
       "</g>\n",
       "<!-- 8&#45;&gt;9 -->\n",
       "<g id=\"edge9\" class=\"edge\">\n",
       "<title>8&#45;&gt;9</title>\n",
       "<path fill=\"none\" stroke=\"black\" d=\"M890,-222.91C890,-214.65 890,-205.86 890,-197.3\"/>\n",
       "<polygon fill=\"black\" stroke=\"black\" points=\"893.5,-197.02 890,-187.02 886.5,-197.02 893.5,-197.02\"/>\n",
       "</g>\n",
       "<!-- 12 -->\n",
       "<g id=\"node13\" class=\"node\">\n",
       "<title>12</title>\n",
       "<path fill=\"#ffffff\" stroke=\"black\" d=\"M1198,-187C1198,-187 1082,-187 1082,-187 1076,-187 1070,-181 1070,-175 1070,-175 1070,-116 1070,-116 1070,-110 1076,-104 1082,-104 1082,-104 1198,-104 1198,-104 1204,-104 1210,-110 1210,-116 1210,-116 1210,-175 1210,-175 1210,-181 1204,-187 1198,-187\"/>\n",
       "<text text-anchor=\"middle\" x=\"1140\" y=\"-171.8\" font-family=\"Helvetica,sans-Serif\" font-size=\"14.00\">ALP &lt;= 40.15</text>\n",
       "<text text-anchor=\"middle\" x=\"1140\" y=\"-156.8\" font-family=\"Helvetica,sans-Serif\" font-size=\"14.00\">gini = 0.716</text>\n",
       "<text text-anchor=\"middle\" x=\"1140\" y=\"-141.8\" font-family=\"Helvetica,sans-Serif\" font-size=\"14.00\">samples = 18</text>\n",
       "<text text-anchor=\"middle\" x=\"1140\" y=\"-126.8\" font-family=\"Helvetica,sans-Serif\" font-size=\"14.00\">value = [4, 2, 6, 6, 0]</text>\n",
       "<text text-anchor=\"middle\" x=\"1140\" y=\"-111.8\" font-family=\"Helvetica,sans-Serif\" font-size=\"14.00\">class = 1=Hepatitis</text>\n",
       "</g>\n",
       "<!-- 8&#45;&gt;12 -->\n",
       "<g id=\"edge12\" class=\"edge\">\n",
       "<title>8&#45;&gt;12</title>\n",
       "<path fill=\"none\" stroke=\"black\" d=\"M963.66,-229.03C994.2,-214.73 1029.69,-198.12 1060.8,-183.57\"/>\n",
       "<polygon fill=\"black\" stroke=\"black\" points=\"1062.3,-186.73 1069.87,-179.32 1059.33,-180.39 1062.3,-186.73\"/>\n",
       "</g>\n",
       "<!-- 10 -->\n",
       "<g id=\"node11\" class=\"node\">\n",
       "<title>10</title>\n",
       "<path fill=\"#e539c0\" stroke=\"black\" d=\"M867.5,-68C867.5,-68 744.5,-68 744.5,-68 738.5,-68 732.5,-62 732.5,-56 732.5,-56 732.5,-12 732.5,-12 732.5,-6 738.5,0 744.5,0 744.5,0 867.5,0 867.5,0 873.5,0 879.5,-6 879.5,-12 879.5,-12 879.5,-56 879.5,-56 879.5,-62 873.5,-68 867.5,-68\"/>\n",
       "<text text-anchor=\"middle\" x=\"806\" y=\"-52.8\" font-family=\"Helvetica,sans-Serif\" font-size=\"14.00\">gini = 0.0</text>\n",
       "<text text-anchor=\"middle\" x=\"806\" y=\"-37.8\" font-family=\"Helvetica,sans-Serif\" font-size=\"14.00\">samples = 15</text>\n",
       "<text text-anchor=\"middle\" x=\"806\" y=\"-22.8\" font-family=\"Helvetica,sans-Serif\" font-size=\"14.00\">value = [0, 0, 0, 0, 15]</text>\n",
       "<text text-anchor=\"middle\" x=\"806\" y=\"-7.8\" font-family=\"Helvetica,sans-Serif\" font-size=\"14.00\">class = 3=Cirrhosis</text>\n",
       "</g>\n",
       "<!-- 9&#45;&gt;10 -->\n",
       "<g id=\"edge10\" class=\"edge\">\n",
       "<title>9&#45;&gt;10</title>\n",
       "<path fill=\"none\" stroke=\"black\" d=\"M858.72,-103.73C851.86,-94.79 844.6,-85.32 837.72,-76.36\"/>\n",
       "<polygon fill=\"black\" stroke=\"black\" points=\"840.41,-74.1 831.54,-68.3 834.85,-78.36 840.41,-74.1\"/>\n",
       "</g>\n",
       "<!-- 11 -->\n",
       "<g id=\"node12\" class=\"node\">\n",
       "<title>11</title>\n",
       "<path fill=\"#ffffff\" stroke=\"black\" d=\"M1040,-68C1040,-68 910,-68 910,-68 904,-68 898,-62 898,-56 898,-56 898,-12 898,-12 898,-6 904,0 910,0 910,0 1040,0 1040,0 1046,0 1052,-6 1052,-12 1052,-12 1052,-56 1052,-56 1052,-62 1046,-68 1040,-68\"/>\n",
       "<text text-anchor=\"middle\" x=\"975\" y=\"-52.8\" font-family=\"Helvetica,sans-Serif\" font-size=\"14.00\">gini = 0.667</text>\n",
       "<text text-anchor=\"middle\" x=\"975\" y=\"-37.8\" font-family=\"Helvetica,sans-Serif\" font-size=\"14.00\">samples = 3</text>\n",
       "<text text-anchor=\"middle\" x=\"975\" y=\"-22.8\" font-family=\"Helvetica,sans-Serif\" font-size=\"14.00\">value = [1, 1, 1, 0, 0]</text>\n",
       "<text text-anchor=\"middle\" x=\"975\" y=\"-7.8\" font-family=\"Helvetica,sans-Serif\" font-size=\"14.00\">class = 0=Blood Donor</text>\n",
       "</g>\n",
       "<!-- 9&#45;&gt;11 -->\n",
       "<g id=\"edge11\" class=\"edge\">\n",
       "<title>9&#45;&gt;11</title>\n",
       "<path fill=\"none\" stroke=\"black\" d=\"M921.65,-103.73C928.59,-94.79 935.94,-85.32 942.9,-76.36\"/>\n",
       "<polygon fill=\"black\" stroke=\"black\" points=\"945.78,-78.35 949.15,-68.3 940.25,-74.05 945.78,-78.35\"/>\n",
       "</g>\n",
       "<!-- 13 -->\n",
       "<g id=\"node14\" class=\"node\">\n",
       "<title>13</title>\n",
       "<path fill=\"#9cf2e2\" stroke=\"black\" d=\"M1198,-68C1198,-68 1082,-68 1082,-68 1076,-68 1070,-62 1070,-56 1070,-56 1070,-12 1070,-12 1070,-6 1076,0 1082,0 1082,0 1198,0 1198,0 1204,0 1210,-6 1210,-12 1210,-12 1210,-56 1210,-56 1210,-62 1204,-68 1198,-68\"/>\n",
       "<text text-anchor=\"middle\" x=\"1140\" y=\"-52.8\" font-family=\"Helvetica,sans-Serif\" font-size=\"14.00\">gini = 0.444</text>\n",
       "<text text-anchor=\"middle\" x=\"1140\" y=\"-37.8\" font-family=\"Helvetica,sans-Serif\" font-size=\"14.00\">samples = 9</text>\n",
       "<text text-anchor=\"middle\" x=\"1140\" y=\"-22.8\" font-family=\"Helvetica,sans-Serif\" font-size=\"14.00\">value = [0, 0, 6, 3, 0]</text>\n",
       "<text text-anchor=\"middle\" x=\"1140\" y=\"-7.8\" font-family=\"Helvetica,sans-Serif\" font-size=\"14.00\">class = 1=Hepatitis</text>\n",
       "</g>\n",
       "<!-- 12&#45;&gt;13 -->\n",
       "<g id=\"edge13\" class=\"edge\">\n",
       "<title>12&#45;&gt;13</title>\n",
       "<path fill=\"none\" stroke=\"black\" d=\"M1140,-103.73C1140,-95.52 1140,-86.86 1140,-78.56\"/>\n",
       "<polygon fill=\"black\" stroke=\"black\" points=\"1143.5,-78.3 1140,-68.3 1136.5,-78.3 1143.5,-78.3\"/>\n",
       "</g>\n",
       "<!-- 14 -->\n",
       "<g id=\"node15\" class=\"node\">\n",
       "<title>14</title>\n",
       "<path fill=\"#fbeade\" stroke=\"black\" d=\"M1370,-68C1370,-68 1240,-68 1240,-68 1234,-68 1228,-62 1228,-56 1228,-56 1228,-12 1228,-12 1228,-6 1234,0 1240,0 1240,0 1370,0 1370,0 1376,0 1382,-6 1382,-12 1382,-12 1382,-56 1382,-56 1382,-62 1376,-68 1370,-68\"/>\n",
       "<text text-anchor=\"middle\" x=\"1305\" y=\"-52.8\" font-family=\"Helvetica,sans-Serif\" font-size=\"14.00\">gini = 0.642</text>\n",
       "<text text-anchor=\"middle\" x=\"1305\" y=\"-37.8\" font-family=\"Helvetica,sans-Serif\" font-size=\"14.00\">samples = 9</text>\n",
       "<text text-anchor=\"middle\" x=\"1305\" y=\"-22.8\" font-family=\"Helvetica,sans-Serif\" font-size=\"14.00\">value = [4, 2, 0, 3, 0]</text>\n",
       "<text text-anchor=\"middle\" x=\"1305\" y=\"-7.8\" font-family=\"Helvetica,sans-Serif\" font-size=\"14.00\">class = 0=Blood Donor</text>\n",
       "</g>\n",
       "<!-- 12&#45;&gt;14 -->\n",
       "<g id=\"edge14\" class=\"edge\">\n",
       "<title>12&#45;&gt;14</title>\n",
       "<path fill=\"none\" stroke=\"black\" d=\"M1201.44,-103.73C1216.22,-93.92 1231.97,-83.46 1246.61,-73.75\"/>\n",
       "<polygon fill=\"black\" stroke=\"black\" points=\"1248.69,-76.57 1255.09,-68.13 1244.82,-70.74 1248.69,-76.57\"/>\n",
       "</g>\n",
       "</g>\n",
       "</svg>\n"
      ],
      "text/plain": [
       "<graphviz.files.Source at 0x7f8199d56310>"
      ]
     },
     "execution_count": 11,
     "metadata": {},
     "output_type": "execute_result"
    }
   ],
   "source": [
    "graph"
   ]
  },
  {
   "cell_type": "markdown",
   "metadata": {},
   "source": [
    "Use ``graph.render('name of the graph', view=True)`` when one wants to save the graph in a pdf file in the same directory as the one containing this notebook."
   ]
  },
  {
   "cell_type": "markdown",
   "metadata": {},
   "source": [
    "## Bagging"
   ]
  },
  {
   "cell_type": "code",
   "execution_count": 12,
   "metadata": {},
   "outputs": [
    {
     "data": {
      "text/plain": [
       "0.9391891891891891"
      ]
     },
     "execution_count": 12,
     "metadata": {},
     "output_type": "execute_result"
    }
   ],
   "source": [
    "Bagging = BaggingClassifier(n_estimators=100).fit(x_train,y_train)\n",
    "Bagging.score(x_test,y_test)"
   ]
  },
  {
   "cell_type": "code",
   "execution_count": 13,
   "metadata": {},
   "outputs": [
    {
     "data": {
      "text/plain": [
       "{'max_samples': 0.6}"
      ]
     },
     "execution_count": 13,
     "metadata": {},
     "output_type": "execute_result"
    }
   ],
   "source": [
    "bagging_grid = {'max_samples':np.arange(0.1,1.1,0.1)}\n",
    "bagging_cv = GridSearchCV(Bagging,bagging_grid,cv=4)\n",
    "#bagging_cv.fit(x_train_eq,y_train_eq) #to train on the oversampled training set\n",
    "bagging_cv.fit(x_train,y_train)\n",
    "bagging_cv.best_params_"
   ]
  },
  {
   "cell_type": "code",
   "execution_count": 14,
   "metadata": {},
   "outputs": [
    {
     "data": {
      "text/plain": [
       "0.9256756756756757"
      ]
     },
     "execution_count": 14,
     "metadata": {},
     "output_type": "execute_result"
    }
   ],
   "source": [
    "bagging_cv.score(x_test, y_test)"
   ]
  },
  {
   "cell_type": "markdown",
   "metadata": {},
   "source": [
    "## Random forest"
   ]
  },
  {
   "cell_type": "code",
   "execution_count": 15,
   "metadata": {},
   "outputs": [
    {
     "data": {
      "text/plain": [
       "0.9391891891891891"
      ]
     },
     "execution_count": 15,
     "metadata": {},
     "output_type": "execute_result"
    }
   ],
   "source": [
    "RF = RandomForestClassifier(n_estimators=100).fit(x_train,y_train)\n",
    "RF.score(x_test, y_test)"
   ]
  },
  {
   "cell_type": "code",
   "execution_count": 16,
   "metadata": {},
   "outputs": [
    {
     "data": {
      "text/plain": [
       "{'max_depth': 6, 'max_samples': 0.9}"
      ]
     },
     "execution_count": 16,
     "metadata": {},
     "output_type": "execute_result"
    }
   ],
   "source": [
    "param_RF = {'max_samples':np.arange(0.1,1,0.1),'max_depth':np.arange(1,10)}\n",
    "RF_cv = GridSearchCV(RF,param_grid=param_RF,cv=4)\n",
    "#RF_cv.fit(x_train_eq,y_train_eq)\n",
    "RF_cv.fit(x_train,y_train)\n",
    "RF_cv.best_params_"
   ]
  },
  {
   "cell_type": "code",
   "execution_count": 17,
   "metadata": {},
   "outputs": [
    {
     "data": {
      "text/plain": [
       "0.9324324324324325"
      ]
     },
     "execution_count": 17,
     "metadata": {},
     "output_type": "execute_result"
    }
   ],
   "source": [
    "RF_cv.score(x_test,y_test)"
   ]
  },
  {
   "cell_type": "markdown",
   "metadata": {},
   "source": [
    "# SVM"
   ]
  },
  {
   "cell_type": "markdown",
   "metadata": {},
   "source": [
    "## SVM Normal"
   ]
  },
  {
   "cell_type": "code",
   "execution_count": 18,
   "metadata": {},
   "outputs": [
    {
     "name": "stdout",
     "output_type": "stream",
     "text": [
      "CPU times: user 9.98 ms, sys: 2.28 ms, total: 12.3 ms\n",
      "Wall time: 11.6 ms\n"
     ]
    },
    {
     "data": {
      "text/plain": [
       "SVC(C=2.5)"
      ]
     },
     "execution_count": 18,
     "metadata": {},
     "output_type": "execute_result"
    }
   ],
   "source": [
    "%%time\n",
    "clf_rbf = SVC(kernel='rbf',C=2.5)\n",
    "clf_rbf.fit(x_train, y_train)"
   ]
  },
  {
   "cell_type": "code",
   "execution_count": 19,
   "metadata": {},
   "outputs": [
    {
     "data": {
      "text/plain": [
       "0.9391891891891891"
      ]
     },
     "execution_count": 19,
     "metadata": {},
     "output_type": "execute_result"
    }
   ],
   "source": [
    "clf_rbf.score(x_test, y_test)"
   ]
  },
  {
   "cell_type": "code",
   "execution_count": 20,
   "metadata": {},
   "outputs": [
    {
     "name": "stdout",
     "output_type": "stream",
     "text": [
      "{'C': 9}\n",
      "CPU times: user 406 ms, sys: 7.59 ms, total: 414 ms\n",
      "Wall time: 441 ms\n"
     ]
    }
   ],
   "source": [
    "%%time\n",
    "param_grid = {'C':np.arange(1,10,1)}\n",
    "clf_rbf_cv = GridSearchCV(clf_rbf, param_grid,cv=4)\n",
    "clf_rbf_cv.fit(x_train, y_train)\n",
    "print(clf_rbf_cv.best_params_)"
   ]
  },
  {
   "cell_type": "code",
   "execution_count": 21,
   "metadata": {},
   "outputs": [
    {
     "data": {
      "text/plain": [
       "0.9324324324324325"
      ]
     },
     "execution_count": 21,
     "metadata": {},
     "output_type": "execute_result"
    }
   ],
   "source": [
    "clf_rbf_cv.score(x_test, y_test)"
   ]
  },
  {
   "cell_type": "markdown",
   "metadata": {},
   "source": [
    "## One versus one classification"
   ]
  },
  {
   "cell_type": "code",
   "execution_count": 22,
   "metadata": {},
   "outputs": [
    {
     "data": {
      "text/plain": [
       "SVC(decision_function_shape='ovo')"
      ]
     },
     "execution_count": 22,
     "metadata": {},
     "output_type": "execute_result"
    }
   ],
   "source": [
    "clf_ovo = SVC(decision_function_shape='ovo')\n",
    "clf_ovo.fit(x_train, y_train)"
   ]
  },
  {
   "cell_type": "code",
   "execution_count": 23,
   "metadata": {},
   "outputs": [
    {
     "data": {
      "text/plain": [
       "0.9256756756756757"
      ]
     },
     "execution_count": 23,
     "metadata": {},
     "output_type": "execute_result"
    }
   ],
   "source": [
    "clf_ovo.score(x_test, y_test)"
   ]
  },
  {
   "cell_type": "markdown",
   "metadata": {},
   "source": [
    "## One versus rest classification"
   ]
  },
  {
   "cell_type": "code",
   "execution_count": 24,
   "metadata": {},
   "outputs": [
    {
     "data": {
      "text/plain": [
       "SVC()"
      ]
     },
     "execution_count": 24,
     "metadata": {},
     "output_type": "execute_result"
    }
   ],
   "source": [
    "clf_ovr = SVC(decision_function_shape='ovr')\n",
    "clf_ovr.fit(x_train, y_train)"
   ]
  },
  {
   "cell_type": "code",
   "execution_count": 25,
   "metadata": {},
   "outputs": [
    {
     "data": {
      "text/plain": [
       "0.9256756756756757"
      ]
     },
     "execution_count": 25,
     "metadata": {},
     "output_type": "execute_result"
    }
   ],
   "source": [
    "clf_ovr.score(x_test, y_test)"
   ]
  },
  {
   "cell_type": "markdown",
   "metadata": {},
   "source": [
    "We obtain the same results with the two different methods"
   ]
  },
  {
   "cell_type": "markdown",
   "metadata": {},
   "source": [
    "# Neural Network"
   ]
  },
  {
   "cell_type": "code",
   "execution_count": 26,
   "metadata": {},
   "outputs": [],
   "source": [
    "from sklearn.preprocessing import StandardScaler\n",
    "from keras.layers import Dense, Activation\n",
    "from keras.models import Sequential\n",
    "from keras import optimizers\n",
    "from keras.utils.np_utils import to_categorical"
   ]
  },
  {
   "cell_type": "code",
   "execution_count": 99,
   "metadata": {},
   "outputs": [],
   "source": [
    "sc = StandardScaler()\n",
    "#x_k_train = sc.fit_transform(x_train)\n",
    "x_k_train = np.array(x_train)\n",
    "x_k_train = (x_k_train-np.mean(x_k_train,axis=1,keepdims=True))/np.std(x_k_train,axis=1,keepdims=True)\n",
    "x_k_test = np.array(x_test)\n",
    "y_k_train = to_categorical(y_train)\n",
    "y_k_test = to_categorical(y_test)\n",
    "\n",
    "x_k_train_eq = np.array(x_train_eq)\n",
    "x_k_train_eq = (x_k_train_eq-np.mean(x_k_train_eq,axis=1,keepdims=True))/np.std(x_k_train_eq,axis=1,keepdims=True)\n",
    "y_k_train_eq = to_categorical(y_train_eq)"
   ]
  },
  {
   "cell_type": "code",
   "execution_count": 111,
   "metadata": {},
   "outputs": [],
   "source": [
    "model = Sequential()\n",
    "\n",
    "model.add(Dense(300, activation='relu', input_dim=12))\n",
    "model.add(Dense(128, activation='sigmoid'))\n",
    "model.add(Dense(5, activation='softmax'))\n",
    "\n",
    "sgd = optimizers.SGD(learning_rate=0.01)\n",
    "model.compile(loss='categorical_crossentropy', optimizer=sgd, metrics=['accuracy'])"
   ]
  },
  {
   "cell_type": "code",
   "execution_count": 107,
   "metadata": {
    "scrolled": true
   },
   "outputs": [
    {
     "name": "stdout",
     "output_type": "stream",
     "text": [
      "Epoch 1/100\n",
      "221/221 [==============================] - 1s 2ms/step - loss: 0.6570 - accuracy: 0.8342 - val_loss: 0.4318 - val_accuracy: 0.8919\n",
      "Epoch 2/100\n",
      "221/221 [==============================] - 0s 2ms/step - loss: 0.5277 - accuracy: 0.8598 - val_loss: 0.3951 - val_accuracy: 0.8986\n",
      "Epoch 3/100\n",
      "221/221 [==============================] - 0s 2ms/step - loss: 0.3692 - accuracy: 0.9058 - val_loss: 0.3516 - val_accuracy: 0.9122\n",
      "Epoch 4/100\n",
      "221/221 [==============================] - 0s 2ms/step - loss: 0.3951 - accuracy: 0.8827 - val_loss: 0.3466 - val_accuracy: 0.9122\n",
      "Epoch 5/100\n",
      "221/221 [==============================] - 0s 2ms/step - loss: 0.3741 - accuracy: 0.8833 - val_loss: 0.3463 - val_accuracy: 0.9054\n",
      "Epoch 6/100\n",
      "221/221 [==============================] - 1s 3ms/step - loss: 0.3094 - accuracy: 0.9040 - val_loss: 0.3366 - val_accuracy: 0.9054\n",
      "Epoch 7/100\n",
      "221/221 [==============================] - 0s 2ms/step - loss: 0.2321 - accuracy: 0.9203 - val_loss: 0.3517 - val_accuracy: 0.9054\n",
      "Epoch 8/100\n",
      "221/221 [==============================] - 1s 3ms/step - loss: 0.3058 - accuracy: 0.9043 - val_loss: 0.3590 - val_accuracy: 0.9054\n",
      "Epoch 9/100\n",
      "221/221 [==============================] - 0s 2ms/step - loss: 0.1988 - accuracy: 0.9403 - val_loss: 0.3647 - val_accuracy: 0.9122\n",
      "Epoch 10/100\n",
      "221/221 [==============================] - 1s 2ms/step - loss: 0.2886 - accuracy: 0.9066 - val_loss: 0.3558 - val_accuracy: 0.9122\n",
      "Epoch 11/100\n",
      "221/221 [==============================] - 1s 2ms/step - loss: 0.2140 - accuracy: 0.9295 - val_loss: 0.3576 - val_accuracy: 0.9054\n",
      "Epoch 12/100\n",
      "221/221 [==============================] - 0s 2ms/step - loss: 0.2033 - accuracy: 0.9333 - val_loss: 0.3399 - val_accuracy: 0.9054\n",
      "Epoch 13/100\n",
      "221/221 [==============================] - 0s 2ms/step - loss: 0.2409 - accuracy: 0.9253 - val_loss: 0.3530 - val_accuracy: 0.9122\n",
      "Epoch 14/100\n",
      "221/221 [==============================] - 1s 3ms/step - loss: 0.1935 - accuracy: 0.9285 - val_loss: 0.3372 - val_accuracy: 0.9054\n",
      "Epoch 15/100\n",
      "221/221 [==============================] - 1s 3ms/step - loss: 0.1667 - accuracy: 0.9476 - val_loss: 0.3268 - val_accuracy: 0.9054\n",
      "Epoch 16/100\n",
      "221/221 [==============================] - 1s 4ms/step - loss: 0.2049 - accuracy: 0.9358 - val_loss: 0.3302 - val_accuracy: 0.9189\n",
      "Epoch 17/100\n",
      "221/221 [==============================] - 0s 2ms/step - loss: 0.1933 - accuracy: 0.9310 - val_loss: 0.3153 - val_accuracy: 0.9054\n",
      "Epoch 18/100\n",
      "221/221 [==============================] - 0s 2ms/step - loss: 0.2288 - accuracy: 0.9163 - val_loss: 0.3114 - val_accuracy: 0.9257\n",
      "Epoch 19/100\n",
      "221/221 [==============================] - 0s 2ms/step - loss: 0.2157 - accuracy: 0.9260 - val_loss: 0.3088 - val_accuracy: 0.9122\n",
      "Epoch 20/100\n",
      "221/221 [==============================] - 0s 2ms/step - loss: 0.1975 - accuracy: 0.9404 - val_loss: 0.3079 - val_accuracy: 0.9257\n",
      "Epoch 21/100\n",
      "221/221 [==============================] - 0s 2ms/step - loss: 0.1802 - accuracy: 0.9452 - val_loss: 0.3097 - val_accuracy: 0.9257\n",
      "Epoch 22/100\n",
      "221/221 [==============================] - 0s 1ms/step - loss: 0.1590 - accuracy: 0.9414 - val_loss: 0.3085 - val_accuracy: 0.9257\n",
      "Epoch 23/100\n",
      "221/221 [==============================] - 0s 1ms/step - loss: 0.1542 - accuracy: 0.9441 - val_loss: 0.3049 - val_accuracy: 0.9257\n",
      "Epoch 24/100\n",
      "221/221 [==============================] - 0s 1ms/step - loss: 0.1761 - accuracy: 0.9400 - val_loss: 0.3119 - val_accuracy: 0.9257\n",
      "Epoch 25/100\n",
      "221/221 [==============================] - 0s 2ms/step - loss: 0.1255 - accuracy: 0.9488 - val_loss: 0.3071 - val_accuracy: 0.9257\n",
      "Epoch 26/100\n",
      "221/221 [==============================] - 0s 1ms/step - loss: 0.1821 - accuracy: 0.9397 - val_loss: 0.3201 - val_accuracy: 0.9257\n",
      "Epoch 27/100\n",
      "221/221 [==============================] - 0s 2ms/step - loss: 0.2145 - accuracy: 0.9178 - val_loss: 0.3162 - val_accuracy: 0.9257\n",
      "Epoch 28/100\n",
      "221/221 [==============================] - 0s 1ms/step - loss: 0.1329 - accuracy: 0.9490 - val_loss: 0.3060 - val_accuracy: 0.9189\n",
      "Epoch 29/100\n",
      "221/221 [==============================] - 0s 2ms/step - loss: 0.1980 - accuracy: 0.9531 - val_loss: 0.3140 - val_accuracy: 0.9257\n",
      "Epoch 30/100\n",
      "221/221 [==============================] - 0s 1ms/step - loss: 0.1313 - accuracy: 0.9530 - val_loss: 0.3057 - val_accuracy: 0.9189\n",
      "Epoch 31/100\n",
      "221/221 [==============================] - 0s 1ms/step - loss: 0.1329 - accuracy: 0.9651 - val_loss: 0.3087 - val_accuracy: 0.9189\n",
      "Epoch 32/100\n",
      "221/221 [==============================] - 0s 1ms/step - loss: 0.1918 - accuracy: 0.9416 - val_loss: 0.3103 - val_accuracy: 0.9257\n",
      "Epoch 33/100\n",
      "221/221 [==============================] - 0s 2ms/step - loss: 0.1397 - accuracy: 0.9620 - val_loss: 0.3116 - val_accuracy: 0.9257\n",
      "Epoch 34/100\n",
      "221/221 [==============================] - 0s 1ms/step - loss: 0.1247 - accuracy: 0.9511 - val_loss: 0.3143 - val_accuracy: 0.9257\n",
      "Epoch 35/100\n",
      "221/221 [==============================] - 0s 1ms/step - loss: 0.1622 - accuracy: 0.9330 - val_loss: 0.3188 - val_accuracy: 0.9189\n",
      "Epoch 36/100\n",
      "221/221 [==============================] - 0s 1ms/step - loss: 0.1238 - accuracy: 0.9629 - val_loss: 0.3127 - val_accuracy: 0.9189\n",
      "Epoch 37/100\n",
      "221/221 [==============================] - 0s 1ms/step - loss: 0.1594 - accuracy: 0.9520 - val_loss: 0.3150 - val_accuracy: 0.9324\n",
      "Epoch 38/100\n",
      "221/221 [==============================] - 0s 1ms/step - loss: 0.1621 - accuracy: 0.9491 - val_loss: 0.3113 - val_accuracy: 0.9257\n",
      "Epoch 39/100\n",
      "221/221 [==============================] - 0s 1ms/step - loss: 0.1613 - accuracy: 0.9453 - val_loss: 0.3136 - val_accuracy: 0.9257\n",
      "Epoch 40/100\n",
      "221/221 [==============================] - 0s 2ms/step - loss: 0.0785 - accuracy: 0.9713 - val_loss: 0.3045 - val_accuracy: 0.9257\n",
      "Epoch 41/100\n",
      "221/221 [==============================] - 0s 2ms/step - loss: 0.1323 - accuracy: 0.9678 - val_loss: 0.3085 - val_accuracy: 0.9392\n",
      "Epoch 42/100\n",
      "221/221 [==============================] - 0s 2ms/step - loss: 0.1569 - accuracy: 0.9456 - val_loss: 0.3081 - val_accuracy: 0.9392\n",
      "Epoch 43/100\n",
      "221/221 [==============================] - 0s 1ms/step - loss: 0.0946 - accuracy: 0.9678 - val_loss: 0.3032 - val_accuracy: 0.9189\n",
      "Epoch 44/100\n",
      "221/221 [==============================] - 0s 1ms/step - loss: 0.1546 - accuracy: 0.9484 - val_loss: 0.3069 - val_accuracy: 0.9257\n",
      "Epoch 45/100\n",
      "221/221 [==============================] - 0s 1ms/step - loss: 0.1012 - accuracy: 0.9645 - val_loss: 0.3067 - val_accuracy: 0.9257\n",
      "Epoch 46/100\n",
      "221/221 [==============================] - 0s 1ms/step - loss: 0.1344 - accuracy: 0.9540 - val_loss: 0.3113 - val_accuracy: 0.9392\n",
      "Epoch 47/100\n",
      "221/221 [==============================] - 0s 1ms/step - loss: 0.1039 - accuracy: 0.9606 - val_loss: 0.3051 - val_accuracy: 0.9257\n",
      "Epoch 48/100\n",
      "221/221 [==============================] - 0s 1ms/step - loss: 0.1372 - accuracy: 0.9565 - val_loss: 0.3059 - val_accuracy: 0.9324\n",
      "Epoch 49/100\n",
      "221/221 [==============================] - 0s 1ms/step - loss: 0.0889 - accuracy: 0.9704 - val_loss: 0.2999 - val_accuracy: 0.9257\n",
      "Epoch 50/100\n",
      "221/221 [==============================] - 0s 1ms/step - loss: 0.1228 - accuracy: 0.9673 - val_loss: 0.3029 - val_accuracy: 0.9257\n",
      "Epoch 51/100\n",
      "221/221 [==============================] - 0s 1ms/step - loss: 0.0808 - accuracy: 0.9771 - val_loss: 0.3046 - val_accuracy: 0.9257\n",
      "Epoch 52/100\n",
      "221/221 [==============================] - 0s 2ms/step - loss: 0.1148 - accuracy: 0.9571 - val_loss: 0.3070 - val_accuracy: 0.9392\n",
      "Epoch 53/100\n",
      "221/221 [==============================] - 0s 1ms/step - loss: 0.0902 - accuracy: 0.9691 - val_loss: 0.3095 - val_accuracy: 0.9257\n",
      "Epoch 54/100\n",
      "221/221 [==============================] - 0s 1ms/step - loss: 0.1017 - accuracy: 0.9715 - val_loss: 0.3098 - val_accuracy: 0.9392\n",
      "Epoch 55/100\n",
      "221/221 [==============================] - 0s 1ms/step - loss: 0.1295 - accuracy: 0.9617 - val_loss: 0.3019 - val_accuracy: 0.9324\n",
      "Epoch 56/100\n",
      "221/221 [==============================] - 0s 1ms/step - loss: 0.0814 - accuracy: 0.9777 - val_loss: 0.3004 - val_accuracy: 0.9324\n",
      "Epoch 57/100\n",
      "221/221 [==============================] - 0s 1ms/step - loss: 0.1048 - accuracy: 0.9581 - val_loss: 0.2993 - val_accuracy: 0.9324\n"
     ]
    },
    {
     "name": "stdout",
     "output_type": "stream",
     "text": [
      "Epoch 58/100\n",
      "221/221 [==============================] - 0s 2ms/step - loss: 0.0933 - accuracy: 0.9719 - val_loss: 0.3030 - val_accuracy: 0.9324\n",
      "Epoch 59/100\n",
      "221/221 [==============================] - 0s 2ms/step - loss: 0.0928 - accuracy: 0.9615 - val_loss: 0.3044 - val_accuracy: 0.9392\n",
      "Epoch 60/100\n",
      "221/221 [==============================] - 0s 2ms/step - loss: 0.1073 - accuracy: 0.9514 - val_loss: 0.3040 - val_accuracy: 0.9392\n",
      "Epoch 61/100\n",
      "221/221 [==============================] - 0s 2ms/step - loss: 0.1334 - accuracy: 0.9438 - val_loss: 0.3003 - val_accuracy: 0.9324\n",
      "Epoch 62/100\n",
      "221/221 [==============================] - 0s 2ms/step - loss: 0.1118 - accuracy: 0.9529 - val_loss: 0.3053 - val_accuracy: 0.9324\n",
      "Epoch 63/100\n",
      "221/221 [==============================] - 0s 2ms/step - loss: 0.1045 - accuracy: 0.9594 - val_loss: 0.2966 - val_accuracy: 0.9324\n",
      "Epoch 64/100\n",
      "221/221 [==============================] - 0s 2ms/step - loss: 0.1068 - accuracy: 0.9625 - val_loss: 0.3084 - val_accuracy: 0.9392\n",
      "Epoch 65/100\n",
      "221/221 [==============================] - 1s 2ms/step - loss: 0.1135 - accuracy: 0.9626 - val_loss: 0.3066 - val_accuracy: 0.9324\n",
      "Epoch 66/100\n",
      "221/221 [==============================] - 0s 1ms/step - loss: 0.0876 - accuracy: 0.9628 - val_loss: 0.2991 - val_accuracy: 0.9324\n",
      "Epoch 67/100\n",
      "221/221 [==============================] - 0s 2ms/step - loss: 0.0924 - accuracy: 0.9647 - val_loss: 0.2966 - val_accuracy: 0.9324\n",
      "Epoch 68/100\n",
      "221/221 [==============================] - 0s 2ms/step - loss: 0.0761 - accuracy: 0.9715 - val_loss: 0.3044 - val_accuracy: 0.9459\n",
      "Epoch 69/100\n",
      "221/221 [==============================] - 0s 2ms/step - loss: 0.1195 - accuracy: 0.9662 - val_loss: 0.2890 - val_accuracy: 0.9324\n",
      "Epoch 70/100\n",
      "221/221 [==============================] - 0s 1ms/step - loss: 0.0822 - accuracy: 0.9748 - val_loss: 0.2852 - val_accuracy: 0.9324\n",
      "Epoch 71/100\n",
      "221/221 [==============================] - 0s 1ms/step - loss: 0.0694 - accuracy: 0.9805 - val_loss: 0.2807 - val_accuracy: 0.9392\n",
      "Epoch 72/100\n",
      "221/221 [==============================] - 0s 1ms/step - loss: 0.0874 - accuracy: 0.9824 - val_loss: 0.2809 - val_accuracy: 0.9392\n",
      "Epoch 73/100\n",
      "221/221 [==============================] - 0s 2ms/step - loss: 0.0816 - accuracy: 0.9722 - val_loss: 0.2839 - val_accuracy: 0.9392\n",
      "Epoch 74/100\n",
      "221/221 [==============================] - 0s 2ms/step - loss: 0.0693 - accuracy: 0.9670 - val_loss: 0.2717 - val_accuracy: 0.9392\n",
      "Epoch 75/100\n",
      "221/221 [==============================] - 0s 2ms/step - loss: 0.1079 - accuracy: 0.9693 - val_loss: 0.2757 - val_accuracy: 0.9392\n",
      "Epoch 76/100\n",
      "221/221 [==============================] - 0s 2ms/step - loss: 0.0781 - accuracy: 0.9724 - val_loss: 0.2795 - val_accuracy: 0.9392\n",
      "Epoch 77/100\n",
      "221/221 [==============================] - 0s 2ms/step - loss: 0.0809 - accuracy: 0.9784 - val_loss: 0.2820 - val_accuracy: 0.9392\n",
      "Epoch 78/100\n",
      "221/221 [==============================] - 0s 2ms/step - loss: 0.0819 - accuracy: 0.9767 - val_loss: 0.2973 - val_accuracy: 0.9324\n",
      "Epoch 79/100\n",
      "221/221 [==============================] - 0s 2ms/step - loss: 0.0730 - accuracy: 0.9776 - val_loss: 0.2779 - val_accuracy: 0.9392\n",
      "Epoch 80/100\n",
      "221/221 [==============================] - 0s 2ms/step - loss: 0.0724 - accuracy: 0.9777 - val_loss: 0.2768 - val_accuracy: 0.9392\n",
      "Epoch 81/100\n",
      "221/221 [==============================] - 0s 2ms/step - loss: 0.0980 - accuracy: 0.9660 - val_loss: 0.2718 - val_accuracy: 0.9392\n",
      "Epoch 82/100\n",
      "221/221 [==============================] - 0s 2ms/step - loss: 0.0769 - accuracy: 0.9722 - val_loss: 0.2744 - val_accuracy: 0.9392\n",
      "Epoch 83/100\n",
      "221/221 [==============================] - 0s 2ms/step - loss: 0.0679 - accuracy: 0.9819 - val_loss: 0.2811 - val_accuracy: 0.9392\n",
      "Epoch 84/100\n",
      "221/221 [==============================] - 0s 2ms/step - loss: 0.0752 - accuracy: 0.9767 - val_loss: 0.2698 - val_accuracy: 0.9392\n",
      "Epoch 85/100\n",
      "221/221 [==============================] - 1s 3ms/step - loss: 0.0752 - accuracy: 0.9664 - val_loss: 0.2768 - val_accuracy: 0.9392\n",
      "Epoch 86/100\n",
      "221/221 [==============================] - 1s 3ms/step - loss: 0.0536 - accuracy: 0.9818 - val_loss: 0.2675 - val_accuracy: 0.9392\n",
      "Epoch 87/100\n",
      "221/221 [==============================] - 0s 2ms/step - loss: 0.0829 - accuracy: 0.9603 - val_loss: 0.2646 - val_accuracy: 0.9392\n",
      "Epoch 88/100\n",
      "221/221 [==============================] - 0s 2ms/step - loss: 0.0872 - accuracy: 0.9683 - val_loss: 0.2772 - val_accuracy: 0.9392\n",
      "Epoch 89/100\n",
      "221/221 [==============================] - 1s 3ms/step - loss: 0.0712 - accuracy: 0.9753 - val_loss: 0.2741 - val_accuracy: 0.9392\n",
      "Epoch 90/100\n",
      "221/221 [==============================] - 0s 2ms/step - loss: 0.0748 - accuracy: 0.9718 - val_loss: 0.2673 - val_accuracy: 0.9324\n",
      "Epoch 91/100\n",
      "221/221 [==============================] - 1s 2ms/step - loss: 0.0891 - accuracy: 0.9667 - val_loss: 0.2766 - val_accuracy: 0.9392\n",
      "Epoch 92/100\n",
      "221/221 [==============================] - 1s 2ms/step - loss: 0.0672 - accuracy: 0.9832 - val_loss: 0.2733 - val_accuracy: 0.9392\n",
      "Epoch 93/100\n",
      "221/221 [==============================] - 0s 2ms/step - loss: 0.0702 - accuracy: 0.9792 - val_loss: 0.2724 - val_accuracy: 0.9459\n",
      "Epoch 94/100\n",
      "221/221 [==============================] - 0s 2ms/step - loss: 0.1017 - accuracy: 0.9509 - val_loss: 0.2786 - val_accuracy: 0.9392\n",
      "Epoch 95/100\n",
      "221/221 [==============================] - 0s 2ms/step - loss: 0.0750 - accuracy: 0.9723 - val_loss: 0.2849 - val_accuracy: 0.9392\n",
      "Epoch 96/100\n",
      "221/221 [==============================] - 0s 2ms/step - loss: 0.0524 - accuracy: 0.9739 - val_loss: 0.2812 - val_accuracy: 0.9392\n",
      "Epoch 97/100\n",
      "221/221 [==============================] - 0s 2ms/step - loss: 0.0529 - accuracy: 0.9834 - val_loss: 0.2853 - val_accuracy: 0.9392\n",
      "Epoch 98/100\n",
      "221/221 [==============================] - 0s 2ms/step - loss: 0.0607 - accuracy: 0.9741 - val_loss: 0.2830 - val_accuracy: 0.9459\n",
      "Epoch 99/100\n",
      "221/221 [==============================] - 0s 2ms/step - loss: 0.0848 - accuracy: 0.9682 - val_loss: 0.2878 - val_accuracy: 0.9392\n",
      "Epoch 100/100\n",
      "221/221 [==============================] - 0s 2ms/step - loss: 0.0487 - accuracy: 0.9845 - val_loss: 0.2901 - val_accuracy: 0.9392\n"
     ]
    }
   ],
   "source": [
    "history = model.fit(x_k_train, y_k_train, batch_size = 2, epochs = 100, validation_data=(x_k_test, y_k_test), verbose=1)"
   ]
  },
  {
   "cell_type": "code",
   "execution_count": 108,
   "metadata": {},
   "outputs": [
    {
     "data": {
      "image/png": "[encoded data removed]",
      "text/plain": [
       "<Figure size 1080x576 with 1 Axes>"
      ]
     },
     "metadata": {
      "needs_background": "light"
     },
     "output_type": "display_data"
    }
   ],
   "source": [
    "loss = history.history['accuracy']\n",
    "val_loss = history.history['val_accuracy']\n",
    "plt.figure(figsize=(15,8))\n",
    "plt.plot(loss, c='b', marker='o', linestyle='--', label='train accuracy')\n",
    "plt.plot(val_loss, c='r', marker='o', linestyle='--', label='test accuracy')\n",
    "plt.title('Evolution of the accuracy with respect to the epochs', size=15)\n",
    "plt.legend(fontsize=13)\n",
    "plt.show()"
   ]
  },
  {
   "cell_type": "code",
   "execution_count": null,
   "metadata": {},
   "outputs": [],
   "source": []
  }
 ],
 "metadata": {
  "kernelspec": {
   "display_name": "Python 3",
   "language": "python",
   "name": "python3"
  },
  "language_info": {
   "codemirror_mode": {
    "name": "ipython",
    "version": 3
   },
   "file_extension": ".py",
   "mimetype": "text/x-python",
   "name": "python",
   "nbconvert_exporter": "python",
   "pygments_lexer": "ipython3",
   "version": "3.7.6"
  },
  "toc": {
   "base_numbering": 1,
   "nav_menu": {},
   "number_sections": true,
   "sideBar": true,
   "skip_h1_title": false,
   "title_cell": "Table of Contents",
   "title_sidebar": "Contents",
   "toc_cell": false,
   "toc_position": {},
   "toc_section_display": true,
   "toc_window_display": false
  },
  "varInspector": {
   "cols": {
    "lenName": 16,
    "lenType": 16,
    "lenVar": 40
   },
   "kernels_config": {
    "python": {
     "delete_cmd_postfix": "",
     "delete_cmd_prefix": "del ",
     "library": "var_list.py",
     "varRefreshCmd": "print(var_dic_list())"
    },
    "r": {
     "delete_cmd_postfix": ") ",
     "delete_cmd_prefix": "rm(",
     "library": "var_list.r",
     "varRefreshCmd": "cat(var_dic_list()) "
    }
   },
   "types_to_exclude": [
    "module",
    "function",
    "builtin_function_or_method",
    "instance",
    "_Feature"
   ],
   "window_display": false
  }
 },
 "nbformat": 4,
 "nbformat_minor": 4
}
