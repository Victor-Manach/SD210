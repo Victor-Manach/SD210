{
 "cells": [
  {
   "cell_type": "code",
   "execution_count": 5,
   "metadata": {},
   "outputs": [],
   "source": [
    "import numpy as np\n",
    "import pandas as pd\n",
    "import graphviz\n",
    "import matplotlib.pyplot as plt\n",
    "from sklearn.model_selection import train_test_split\n",
    "from sklearn.preprocessing import StandardScaler\n",
    "from sklearn.tree import DecisionTreeClassifier\n",
    "from sklearn.ensemble import BaggingClassifier\n",
    "from sklearn.ensemble import RandomForestClassifier\n",
    "from imblearn.ensemble import BalancedBaggingClassifier\n",
    "from sklearn import tree\n",
    "from sklearn import metrics\n",
    "from sklearn.svm import SVC\n",
    "from imblearn.under_sampling import RandomUnderSampler\n",
    "from imblearn.over_sampling import RandomOverSampler\n",
    "from sklearn.model_selection import GridSearchCV\n",
    "from sklearn.ensemble import AdaBoostClassifier,GradientBoostingClassifier"
   ]
  },
  {
   "cell_type": "markdown",
   "metadata": {},
   "source": [
    "# Load data"
   ]
  },
  {
   "cell_type": "code",
   "execution_count": 6,
   "metadata": {},
   "outputs": [],
   "source": [
    "X = pd.read_csv('./data/hcvdat0.csv', index_col=0).reset_index(drop=True)"
   ]
  },
  {
   "cell_type": "markdown",
   "metadata": {},
   "source": [
    "# Pre-processing"
   ]
  },
  {
   "cell_type": "markdown",
   "metadata": {},
   "source": [
    "In this first part, we need to change the ``category`` attribute of the data because we need it to be int. In addition, we change the ``Sex`` attribute from m/f to $0/1$. All the other attributes are already floats, so we keep them as they are.\n",
    "\n",
    "> m $\\rightarrow 0$ and f $\\rightarrow 1$\n",
    "\n",
    "> Blood donor $\\rightarrow 0$, Suspect blood donor $\\rightarrow 1$, Hepatitis $\\rightarrow 2$, Fibrosis $\\rightarrow 3$ and Cirrhosis $\\rightarrow 4$"
   ]
  },
  {
   "cell_type": "markdown",
   "metadata": {},
   "source": [
    "## Change the sex and category attributes"
   ]
  },
  {
   "cell_type": "code",
   "execution_count": 7,
   "metadata": {},
   "outputs": [],
   "source": [
    "class_names = np.unique(X.Category)\n",
    "X = X.replace({'Sex': {'f':1,'m':0}, 'Category':{'0=Blood Donor':0,'0s=suspect Blood Donor':1, '1=Hepatitis':2, '2=Fibrosis':3, '3=Cirrhosis':4}})"
   ]
  },
  {
   "cell_type": "markdown",
   "metadata": {},
   "source": [
    "## Remove NaN values"
   ]
  },
  {
   "cell_type": "code",
   "execution_count": 8,
   "metadata": {},
   "outputs": [],
   "source": [
    "X = X.dropna()"
   ]
  },
  {
   "cell_type": "markdown",
   "metadata": {},
   "source": [
    "## Split X and y"
   ]
  },
  {
   "cell_type": "code",
   "execution_count": 9,
   "metadata": {},
   "outputs": [],
   "source": [
    "y = X.Category\n",
    "X = X.drop('Category', axis=1)"
   ]
  },
  {
   "cell_type": "markdown",
   "metadata": {},
   "source": [
    "## Split the data in train and test split"
   ]
  },
  {
   "cell_type": "code",
   "execution_count": 10,
   "metadata": {},
   "outputs": [],
   "source": [
    "x_train, x_test, y_train, y_test = train_test_split(X,y, test_size=0.3,random_state=1)"
   ]
  },
  {
   "cell_type": "markdown",
   "metadata": {},
   "source": [
    "## Normalise the data"
   ]
  },
  {
   "cell_type": "code",
   "execution_count": 11,
   "metadata": {},
   "outputs": [],
   "source": [
    "sc = StandardScaler()\n",
    "x_train = sc.fit_transform(x_train)\n",
    "x_test = sc.transform(x_test)"
   ]
  },
  {
   "cell_type": "markdown",
   "metadata": {},
   "source": [
    "## Over sampling smaller categories"
   ]
  },
  {
   "cell_type": "code",
   "execution_count": 12,
   "metadata": {},
   "outputs": [],
   "source": [
    "#On fait attention ici de ne pas toucher aux test sets\n",
    "x_train_eq,y_train_eq = RandomOverSampler().fit_resample(x_train,y_train)"
   ]
  },
  {
   "cell_type": "markdown",
   "metadata": {},
   "source": [
    "# Decision tree"
   ]
  },
  {
   "cell_type": "markdown",
   "metadata": {},
   "source": [
    "## Build the tree"
   ]
  },
  {
   "cell_type": "code",
   "execution_count": 13,
   "metadata": {},
   "outputs": [
    {
     "data": {
      "text/plain": [
       "DecisionTreeClassifier(random_state=0)"
      ]
     },
     "execution_count": 13,
     "metadata": {},
     "output_type": "execute_result"
    }
   ],
   "source": [
    "clf = DecisionTreeClassifier(criterion='gini', random_state=0)\n",
    "clf.fit(x_train_eq, y_train_eq)"
   ]
  },
  {
   "cell_type": "markdown",
   "metadata": {},
   "source": [
    "## Compute the accuracy of the tree"
   ]
  },
  {
   "cell_type": "code",
   "execution_count": 14,
   "metadata": {},
   "outputs": [
    {
     "name": "stdout",
     "output_type": "stream",
     "text": [
      "Accuracy on the train set: 1.0\n",
      "Accuracy on the test set: 0.9152542372881356\n"
     ]
    }
   ],
   "source": [
    "y_pred_train = clf.predict(x_train_eq)\n",
    "accuracy_train = metrics.accuracy_score(y_train_eq, y_pred_train)\n",
    "print('Accuracy on the train set:', accuracy_train)\n",
    "\n",
    "y_pred_test = clf.predict(x_test)\n",
    "accuracy_test = metrics.accuracy_score(y_test, y_pred_test)\n",
    "print('Accuracy on the test set:', accuracy_test)"
   ]
  },
  {
   "cell_type": "markdown",
   "metadata": {},
   "source": [
    "## Visualise the tree"
   ]
  },
  {
   "cell_type": "code",
   "execution_count": 15,
   "metadata": {},
   "outputs": [],
   "source": [
    "feature_names = X.columns\n",
    "plot_tree = tree.export_graphviz(clf, out_file=None, filled=True, rounded=True, feature_names=feature_names, class_names=class_names)\n",
    "graph = graphviz.Source(plot_tree)"
   ]
  },
  {
   "cell_type": "markdown",
   "metadata": {},
   "source": [
    "Use ``graph.render('name of the graph', view=True)`` when one wants to save the graph in a pdf file in the same directory as the one containing this notebook."
   ]
  },
  {
   "cell_type": "code",
   "execution_count": 22,
   "metadata": {},
   "outputs": [
    {
     "data": {
      "text/plain": [
       "{'max_depth': 13}"
      ]
     },
     "execution_count": 22,
     "metadata": {},
     "output_type": "execute_result"
    }
   ],
   "source": [
    "grid_DT = {'max_depth':np.arange(1,20)}\n",
    "DT_cv = GridSearchCV(DecisionTreeClassifier(),param_grid=grid_DT)\n",
    "DT_cv.fit(x_train_eq,y_train_eq)\n",
    "DT_cv.best_params_"
   ]
  },
  {
   "cell_type": "code",
   "execution_count": 23,
   "metadata": {},
   "outputs": [
    {
     "data": {
      "text/plain": [
       "0.9152542372881356"
      ]
     },
     "execution_count": 23,
     "metadata": {},
     "output_type": "execute_result"
    }
   ],
   "source": [
    "DT_cv.score(x_test, y_test)"
   ]
  },
  {
   "cell_type": "markdown",
   "metadata": {},
   "source": [
    "## Bagging"
   ]
  },
  {
   "cell_type": "code",
   "execution_count": 24,
   "metadata": {},
   "outputs": [
    {
     "data": {
      "text/plain": [
       "0.9265536723163842"
      ]
     },
     "execution_count": 24,
     "metadata": {},
     "output_type": "execute_result"
    }
   ],
   "source": [
    "Bagging = BaggingClassifier(DecisionTreeClassifier(max_depth=12),n_estimators=200)\n",
    "Bagging.fit(x_train_eq,y_train_eq)\n",
    "Bagging.score(x_test,y_test)"
   ]
  },
  {
   "cell_type": "code",
   "execution_count": 25,
   "metadata": {},
   "outputs": [
    {
     "data": {
      "text/plain": [
       "{'max_samples': 0.2}"
      ]
     },
     "execution_count": 25,
     "metadata": {},
     "output_type": "execute_result"
    }
   ],
   "source": [
    "bagging_grid = {'max_samples':np.arange(0.1,1.1,0.1)}\n",
    "bagging_cv = GridSearchCV(Bagging,bagging_grid,cv=5)\n",
    "#bagging_cv.fit(x_train_eq,y_train_eq) #to train on the oversampled training set\n",
    "bagging_cv.fit(x_train_eq,y_train_eq)\n",
    "bagging_cv.best_params_"
   ]
  },
  {
   "cell_type": "code",
   "execution_count": 26,
   "metadata": {},
   "outputs": [
    {
     "data": {
      "text/plain": [
       "0.9265536723163842"
      ]
     },
     "execution_count": 26,
     "metadata": {},
     "output_type": "execute_result"
    }
   ],
   "source": [
    "bagging_cv.score(x_test, y_test)"
   ]
  },
  {
   "cell_type": "markdown",
   "metadata": {},
   "source": [
    "Amélioration de 0.02 par rapport au decision tree seul"
   ]
  },
  {
   "cell_type": "markdown",
   "metadata": {},
   "source": [
    "## Random forest"
   ]
  },
  {
   "cell_type": "code",
   "execution_count": 27,
   "metadata": {},
   "outputs": [
    {
     "data": {
      "text/plain": [
       "0.9209039548022598"
      ]
     },
     "execution_count": 27,
     "metadata": {},
     "output_type": "execute_result"
    }
   ],
   "source": [
    "RF = RandomForestClassifier(n_estimators=100)\n",
    "RF.fit(x_train_eq,y_train_eq)\n",
    "RF.score(x_test, y_test)"
   ]
  },
  {
   "cell_type": "code",
   "execution_count": 28,
   "metadata": {},
   "outputs": [
    {
     "data": {
      "text/plain": [
       "{'max_samples': 0.6}"
      ]
     },
     "execution_count": 28,
     "metadata": {},
     "output_type": "execute_result"
    }
   ],
   "source": [
    "param_RF = {'max_samples':np.arange(0.1,1,0.1)}\n",
    "RF_cv = GridSearchCV(RandomForestClassifier(n_estimators=100),param_grid=param_RF,cv=5)\n",
    "RF_cv.fit(x_train_eq,y_train_eq)\n",
    "#RF_cv.fit(x_train,y_train)\n",
    "RF_cv.best_params_"
   ]
  },
  {
   "cell_type": "code",
   "execution_count": 29,
   "metadata": {},
   "outputs": [
    {
     "data": {
      "text/plain": [
       "0.9265536723163842"
      ]
     },
     "execution_count": 29,
     "metadata": {},
     "output_type": "execute_result"
    }
   ],
   "source": [
    "RF_cv.score(x_test,y_test)"
   ]
  },
  {
   "cell_type": "markdown",
   "metadata": {},
   "source": [
    "Moins bien que Bagging"
   ]
  },
  {
   "cell_type": "markdown",
   "metadata": {},
   "source": [
    "## AdaBoost"
   ]
  },
  {
   "cell_type": "code",
   "execution_count": 30,
   "metadata": {},
   "outputs": [
    {
     "data": {
      "text/plain": [
       "0.9152542372881356"
      ]
     },
     "execution_count": 30,
     "metadata": {},
     "output_type": "execute_result"
    }
   ],
   "source": [
    "AdaB = AdaBoostClassifier(base_estimator=DecisionTreeClassifier(),n_estimators=200)\n",
    "AdaB.fit(x_train_eq,y_train_eq)\n",
    "AdaB.score(x_test,y_test)"
   ]
  },
  {
   "cell_type": "markdown",
   "metadata": {},
   "source": [
    "## Gradient Boosting"
   ]
  },
  {
   "cell_type": "code",
   "execution_count": 31,
   "metadata": {},
   "outputs": [
    {
     "data": {
      "text/plain": [
       "0.9152542372881356"
      ]
     },
     "execution_count": 31,
     "metadata": {},
     "output_type": "execute_result"
    }
   ],
   "source": [
    "GradB = GradientBoostingClassifier(n_estimators=100)\n",
    "GradB.fit(x_train_eq, y_train_eq)\n",
    "GradB.score(x_test, y_test)"
   ]
  },
  {
   "cell_type": "code",
   "execution_count": 32,
   "metadata": {},
   "outputs": [
    {
     "data": {
      "text/plain": [
       "{'learning_rate': 0.2, 'max_depth': 4}"
      ]
     },
     "execution_count": 32,
     "metadata": {},
     "output_type": "execute_result"
    }
   ],
   "source": [
    "param_GB = {'learning_rate':np.arange(0.1,0.5,0.1),'max_depth':np.arange(2,5)}\n",
    "GB_cv = GridSearchCV(GradientBoostingClassifier(n_estimators=100),param_grid=param_GB,cv=2)\n",
    "#GB_cv.fit(x_train_eq,y_train_eq)\n",
    "GB_cv.fit(x_train,y_train)\n",
    "GB_cv.best_params_"
   ]
  },
  {
   "cell_type": "code",
   "execution_count": 33,
   "metadata": {},
   "outputs": [
    {
     "data": {
      "text/plain": [
       "0.903954802259887"
      ]
     },
     "execution_count": 33,
     "metadata": {},
     "output_type": "execute_result"
    }
   ],
   "source": [
    "GB_cv.score(x_test,y_test)"
   ]
  },
  {
   "cell_type": "markdown",
   "metadata": {},
   "source": [
    "# SVM"
   ]
  },
  {
   "cell_type": "markdown",
   "metadata": {},
   "source": [
    "## SVM Normal on oversampled dataset"
   ]
  },
  {
   "cell_type": "code",
   "execution_count": 34,
   "metadata": {},
   "outputs": [
    {
     "name": "stdout",
     "output_type": "stream",
     "text": [
      "CPU times: user 28.7 ms, sys: 2.77 ms, total: 31.4 ms\n",
      "Wall time: 30.2 ms\n"
     ]
    },
    {
     "data": {
      "text/plain": [
       "SVC(C=2.5)"
      ]
     },
     "execution_count": 34,
     "metadata": {},
     "output_type": "execute_result"
    }
   ],
   "source": [
    "%%time\n",
    "clf_rbf = SVC(kernel='rbf',C=2.5)\n",
    "clf_rbf.fit(x_train_eq, y_train_eq)"
   ]
  },
  {
   "cell_type": "code",
   "execution_count": 35,
   "metadata": {},
   "outputs": [
    {
     "data": {
      "text/plain": [
       "0.9548022598870056"
      ]
     },
     "execution_count": 35,
     "metadata": {},
     "output_type": "execute_result"
    }
   ],
   "source": [
    "clf_rbf.score(x_test, y_test)"
   ]
  },
  {
   "cell_type": "code",
   "execution_count": 36,
   "metadata": {},
   "outputs": [
    {
     "data": {
      "text/plain": [
       "0.9994638069705094"
      ]
     },
     "execution_count": 36,
     "metadata": {},
     "output_type": "execute_result"
    }
   ],
   "source": [
    "clf_rbf.score(x_train_eq, y_train_eq)"
   ]
  },
  {
   "cell_type": "code",
   "execution_count": 37,
   "metadata": {},
   "outputs": [
    {
     "name": "stdout",
     "output_type": "stream",
     "text": [
      "{'C': 4}\n",
      "CPU times: user 557 ms, sys: 4.98 ms, total: 562 ms\n",
      "Wall time: 572 ms\n"
     ]
    }
   ],
   "source": [
    "%%time\n",
    "param_grid = {'C':np.arange(1,10,1),}\n",
    "clf_rbf_cv = GridSearchCV(clf_rbf, param_grid,cv=2)\n",
    "clf_rbf_cv.fit(x_train_eq, y_train_eq)\n",
    "print(clf_rbf_cv.best_params_)"
   ]
  },
  {
   "cell_type": "code",
   "execution_count": 38,
   "metadata": {},
   "outputs": [
    {
     "data": {
      "text/plain": [
       "0.9548022598870056"
      ]
     },
     "execution_count": 38,
     "metadata": {},
     "output_type": "execute_result"
    }
   ],
   "source": [
    "clf_rbf_cv.score(x_test, y_test)"
   ]
  },
  {
   "cell_type": "code",
   "execution_count": 39,
   "metadata": {},
   "outputs": [
    {
     "data": {
      "text/plain": [
       "0.9994638069705094"
      ]
     },
     "execution_count": 39,
     "metadata": {},
     "output_type": "execute_result"
    }
   ],
   "source": [
    "clf_rbf_cv.score(x_train_eq, y_train_eq)"
   ]
  },
  {
   "cell_type": "markdown",
   "metadata": {},
   "source": [
    "## One versus one classification"
   ]
  },
  {
   "cell_type": "code",
   "execution_count": 40,
   "metadata": {},
   "outputs": [
    {
     "data": {
      "text/plain": [
       "SVC(decision_function_shape='ovo')"
      ]
     },
     "execution_count": 40,
     "metadata": {},
     "output_type": "execute_result"
    }
   ],
   "source": [
    "clf_ovo = SVC(decision_function_shape='ovo')\n",
    "clf_ovo.fit(x_train, y_train)"
   ]
  },
  {
   "cell_type": "code",
   "execution_count": 41,
   "metadata": {},
   "outputs": [
    {
     "data": {
      "text/plain": [
       "0.8983050847457628"
      ]
     },
     "execution_count": 41,
     "metadata": {},
     "output_type": "execute_result"
    }
   ],
   "source": [
    "clf_ovo.score(x_test, y_test)"
   ]
  },
  {
   "cell_type": "markdown",
   "metadata": {},
   "source": [
    "## One versus rest classification"
   ]
  },
  {
   "cell_type": "code",
   "execution_count": 42,
   "metadata": {},
   "outputs": [
    {
     "data": {
      "text/plain": [
       "SVC()"
      ]
     },
     "execution_count": 42,
     "metadata": {},
     "output_type": "execute_result"
    }
   ],
   "source": [
    "clf_ovr = SVC(decision_function_shape='ovr')\n",
    "clf_ovr.fit(x_train, y_train)"
   ]
  },
  {
   "cell_type": "code",
   "execution_count": 43,
   "metadata": {},
   "outputs": [
    {
     "data": {
      "text/plain": [
       "0.8983050847457628"
      ]
     },
     "execution_count": 43,
     "metadata": {},
     "output_type": "execute_result"
    }
   ],
   "source": [
    "clf_ovr.score(x_test, y_test)"
   ]
  },
  {
   "cell_type": "markdown",
   "metadata": {},
   "source": [
    "We obtain the same results with the two different methods"
   ]
  },
  {
   "cell_type": "markdown",
   "metadata": {},
   "source": [
    "# Neural Network"
   ]
  },
  {
   "cell_type": "code",
   "execution_count": 76,
   "metadata": {},
   "outputs": [],
   "source": [
    "from sklearn.preprocessing import StandardScaler\n",
    "from keras.layers import Dense, Activation\n",
    "from keras.models import Sequential\n",
    "from keras import optimizers\n",
    "from keras.utils.np_utils import to_categorical"
   ]
  },
  {
   "cell_type": "code",
   "execution_count": 77,
   "metadata": {},
   "outputs": [],
   "source": [
    "y_k_train = to_categorical(y_train)\n",
    "y_k_test = to_categorical(y_test)"
   ]
  },
  {
   "cell_type": "code",
   "execution_count": 99,
   "metadata": {},
   "outputs": [],
   "source": [
    "model = Sequential()\n",
    "\n",
    "model.add(Dense(300, activation='relu', input_dim=12))\n",
    "model.add(Dense(128, activation='sigmoid'))\n",
    "model.add(Dense(5, activation='softmax'))\n",
    "\n",
    "sgd = optimizers.SGD(learning_rate=0.01)\n",
    "model.compile(loss='categorical_crossentropy', optimizer='adam', metrics=['accuracy'])"
   ]
  },
  {
   "cell_type": "code",
   "execution_count": 100,
   "metadata": {},
   "outputs": [],
   "source": [
    "#weights = {0:len(x_train)/len(y_train[y_train==0]), 1:len(x_train)/len(y_train[y_train==1]),2:len(x_train)/len(y_train[y_train==2]),3:len(x_train)/len(y_train[y_train==3]),4:len(x_train)/len(y_train[y_train==4])}\n",
    "from sklearn.utils import class_weight\n",
    "class_weights = class_weight.compute_class_weight(class_weight='balanced',classes=np.unique(y_train),y=y_train.values)"
   ]
  },
  {
   "cell_type": "code",
   "execution_count": 101,
   "metadata": {
    "scrolled": true
   },
   "outputs": [
    {
     "name": "stdout",
     "output_type": "stream",
     "text": [
      "Epoch 1/25\n",
      "103/103 [==============================] - 1s 4ms/step - loss: 2.4123 - accuracy: 0.1725 - val_loss: 1.1098 - val_accuracy: 0.7571\n",
      "Epoch 2/25\n",
      "103/103 [==============================] - 0s 3ms/step - loss: 1.0845 - accuracy: 0.8065 - val_loss: 0.6543 - val_accuracy: 0.8983\n",
      "Epoch 3/25\n",
      "103/103 [==============================] - 0s 3ms/step - loss: 0.4649 - accuracy: 0.9675 - val_loss: 0.7705 - val_accuracy: 0.7684\n",
      "Epoch 4/25\n",
      "103/103 [==============================] - 0s 2ms/step - loss: 0.4590 - accuracy: 0.9031 - val_loss: 0.4063 - val_accuracy: 0.9209\n",
      "Epoch 5/25\n",
      "103/103 [==============================] - 0s 3ms/step - loss: 0.5318 - accuracy: 0.9516 - val_loss: 0.4122 - val_accuracy: 0.8870\n",
      "Epoch 6/25\n",
      "103/103 [==============================] - 0s 3ms/step - loss: 0.2701 - accuracy: 0.9656 - val_loss: 0.3575 - val_accuracy: 0.9040\n",
      "Epoch 7/25\n",
      "103/103 [==============================] - 0s 2ms/step - loss: 0.2287 - accuracy: 0.9760 - val_loss: 0.2914 - val_accuracy: 0.9322\n",
      "Epoch 8/25\n",
      "103/103 [==============================] - 0s 3ms/step - loss: 0.2920 - accuracy: 0.9775 - val_loss: 0.2655 - val_accuracy: 0.9435\n",
      "Epoch 9/25\n",
      "103/103 [==============================] - 0s 2ms/step - loss: 0.1677 - accuracy: 0.9804 - val_loss: 0.2613 - val_accuracy: 0.9096\n",
      "Epoch 10/25\n",
      "103/103 [==============================] - 0s 2ms/step - loss: 0.1846 - accuracy: 0.9693 - val_loss: 0.2286 - val_accuracy: 0.9548\n",
      "Epoch 11/25\n",
      "103/103 [==============================] - 0s 2ms/step - loss: 0.1767 - accuracy: 0.9861 - val_loss: 0.2537 - val_accuracy: 0.9266\n",
      "Epoch 12/25\n",
      "103/103 [==============================] - 0s 2ms/step - loss: 0.1405 - accuracy: 0.9648 - val_loss: 0.2346 - val_accuracy: 0.9548\n",
      "Epoch 13/25\n",
      "103/103 [==============================] - 0s 3ms/step - loss: 0.1065 - accuracy: 0.9800 - val_loss: 0.2205 - val_accuracy: 0.9548\n",
      "Epoch 14/25\n",
      "103/103 [==============================] - 1s 5ms/step - loss: 0.1134 - accuracy: 0.9802 - val_loss: 0.2253 - val_accuracy: 0.9605\n",
      "Epoch 15/25\n",
      "103/103 [==============================] - 0s 3ms/step - loss: 0.1097 - accuracy: 0.9855 - val_loss: 0.2210 - val_accuracy: 0.9661\n",
      "Epoch 16/25\n",
      "103/103 [==============================] - 0s 3ms/step - loss: 0.0969 - accuracy: 0.9780 - val_loss: 0.2139 - val_accuracy: 0.9661\n",
      "Epoch 17/25\n",
      "103/103 [==============================] - 0s 3ms/step - loss: 0.0730 - accuracy: 0.9906 - val_loss: 0.2173 - val_accuracy: 0.9661\n",
      "Epoch 18/25\n",
      "103/103 [==============================] - 0s 2ms/step - loss: 0.0636 - accuracy: 0.9723 - val_loss: 0.2153 - val_accuracy: 0.9661\n",
      "Epoch 19/25\n",
      "103/103 [==============================] - 0s 3ms/step - loss: 0.0466 - accuracy: 0.9884 - val_loss: 0.2037 - val_accuracy: 0.9605\n",
      "Epoch 20/25\n",
      "103/103 [==============================] - 0s 2ms/step - loss: 0.0350 - accuracy: 0.9974 - val_loss: 0.2108 - val_accuracy: 0.9661\n",
      "Epoch 21/25\n",
      "103/103 [==============================] - 0s 2ms/step - loss: 0.0276 - accuracy: 0.9979 - val_loss: 0.2183 - val_accuracy: 0.9661\n",
      "Epoch 22/25\n",
      "103/103 [==============================] - 0s 3ms/step - loss: 0.0286 - accuracy: 0.9937 - val_loss: 0.2090 - val_accuracy: 0.9605\n",
      "Epoch 23/25\n",
      "103/103 [==============================] - 0s 3ms/step - loss: 0.0237 - accuracy: 0.9964 - val_loss: 0.2158 - val_accuracy: 0.9661\n",
      "Epoch 24/25\n",
      "103/103 [==============================] - 0s 3ms/step - loss: 0.0286 - accuracy: 0.9939 - val_loss: 0.2172 - val_accuracy: 0.9605\n",
      "Epoch 25/25\n",
      "103/103 [==============================] - 0s 3ms/step - loss: 0.0260 - accuracy: 0.9862 - val_loss: 0.2176 - val_accuracy: 0.9661\n"
     ]
    }
   ],
   "source": [
    "history = model.fit(x_train, y_k_train, batch_size = 4, epochs = 25, validation_data=(x_test, y_k_test),class_weight = {i:class_weights[i] for i in range(0,5)},verbose=1)"
   ]
  },
  {
   "cell_type": "code",
   "execution_count": 102,
   "metadata": {},
   "outputs": [
    {
     "data": {
      "image/png": "[encoded data removed]",
      "text/plain": [
       "<Figure size 1080x576 with 1 Axes>"
      ]
     },
     "metadata": {
      "needs_background": "light"
     },
     "output_type": "display_data"
    },
    {
     "data": {
      "image/png": "[encoded data removed]",
      "text/plain": [
       "<Figure size 1080x576 with 1 Axes>"
      ]
     },
     "metadata": {
      "needs_background": "light"
     },
     "output_type": "display_data"
    }
   ],
   "source": [
    "loss = history.history['loss']\n",
    "val_loss = history.history['val_loss']\n",
    "accuracy = history.history['accuracy']\n",
    "val_accuracy = history.history['val_accuracy']\n",
    "plt.figure(figsize=(15,8))\n",
    "plt.plot(loss, c='b', marker='o', linestyle='--', label='train loss')\n",
    "plt.plot(val_loss, c='r', marker='o', linestyle='--', label='test loss')\n",
    "plt.title('Evolution of the loss with respect to the epochs', size=15)\n",
    "plt.legend(fontsize=13)\n",
    "plt.show()\n",
    "\n",
    "plt.figure(figsize=(15,8))\n",
    "plt.plot(accuracy, c='b', marker='o', linestyle='--', label='train accuracy')\n",
    "plt.plot(val_accuracy, c='r', marker='o', linestyle='--', label='test accuracy')\n",
    "plt.title('Evolution of the accuracy with respect to the epochs', size=15)\n",
    "plt.legend(fontsize=13)\n",
    "plt.show()"
   ]
  },
  {
   "cell_type": "code",
   "execution_count": null,
   "metadata": {},
   "outputs": [],
   "source": []
  }
 ],
 "metadata": {
  "kernelspec": {
   "display_name": "Python 3",
   "language": "python",
   "name": "python3"
  },
  "language_info": {
   "codemirror_mode": {
    "name": "ipython",
    "version": 3
   },
   "file_extension": ".py",
   "mimetype": "text/x-python",
   "name": "python",
   "nbconvert_exporter": "python",
   "pygments_lexer": "ipython3",
   "version": "3.7.6"
  },
  "toc": {
   "base_numbering": 1,
   "nav_menu": {},
   "number_sections": true,
   "sideBar": true,
   "skip_h1_title": false,
   "title_cell": "Table of Contents",
   "title_sidebar": "Contents",
   "toc_cell": false,
   "toc_position": {},
   "toc_section_display": true,
   "toc_window_display": false
  },
  "varInspector": {
   "cols": {
    "lenName": 16,
    "lenType": 16,
    "lenVar": 40
   },
   "kernels_config": {
    "python": {
     "delete_cmd_postfix": "",
     "delete_cmd_prefix": "del ",
     "library": "var_list.py",
     "varRefreshCmd": "print(var_dic_list())"
    },
    "r": {
     "delete_cmd_postfix": ") ",
     "delete_cmd_prefix": "rm(",
     "library": "var_list.r",
     "varRefreshCmd": "cat(var_dic_list()) "
    }
   },
   "types_to_exclude": [
    "module",
    "function",
    "builtin_function_or_method",
    "instance",
    "_Feature"
   ],
   "window_display": false
  }
 },
 "nbformat": 4,
 "nbformat_minor": 4
}
