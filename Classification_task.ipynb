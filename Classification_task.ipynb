{
 "cells": [
  {
   "cell_type": "code",
   "execution_count": 1,
   "metadata": {},
   "outputs": [],
   "source": [
    "import numpy as np\n",
    "import pandas as pd\n",
    "import graphviz\n",
    "import matplotlib.pyplot as plt\n",
    "from sklearn.model_selection import train_test_split\n",
    "from sklearn.tree import DecisionTreeClassifier\n",
    "from sklearn.ensemble import BaggingClassifier\n",
    "from sklearn.ensemble import RandomForestClassifier\n",
    "from imblearn.ensemble import BalancedBaggingClassifier\n",
    "from sklearn import tree\n",
    "from sklearn import metrics\n",
    "from sklearn.svm import SVC\n",
    "from imblearn.under_sampling import RandomUnderSampler\n",
    "from imblearn.over_sampling import RandomOverSampler\n",
    "from sklearn.model_selection import GridSearchCV\n",
    "from sklearn.ensemble import AdaBoostClassifier,GradientBoostingClassifier"
   ]
  },
  {
   "cell_type": "markdown",
   "metadata": {},
   "source": [
    "# Load data"
   ]
  },
  {
   "cell_type": "code",
   "execution_count": 2,
   "metadata": {},
   "outputs": [],
   "source": [
    "X = pd.read_csv('./data/hcvdat0.csv', index_col=0).reset_index(drop=True)"
   ]
  },
  {
   "cell_type": "markdown",
   "metadata": {},
   "source": [
    "# Pre-processing"
   ]
  },
  {
   "cell_type": "markdown",
   "metadata": {},
   "source": [
    "In this first part, we need to change the ``category`` attribute of the data because we need it to be int. In addition, we change the ``Sex`` attribute from m/f to $0/1$. All the other attributes are already floats, so we keep them as they are.\n",
    "\n",
    "> m $\\rightarrow 0$ and f $\\rightarrow 1$\n",
    "\n",
    "> Blood donor $\\rightarrow 0$, Suspect blood donor $\\rightarrow 1$, Hepatitis $\\rightarrow 2$, Fibrosis $\\rightarrow 3$ and Cirrhosis $\\rightarrow 4$"
   ]
  },
  {
   "cell_type": "markdown",
   "metadata": {},
   "source": [
    "## Change the sex and category attributes"
   ]
  },
  {
   "cell_type": "code",
   "execution_count": 3,
   "metadata": {},
   "outputs": [],
   "source": [
    "class_names = np.unique(X.Category)\n",
    "X = X.replace({'Sex': {'f':1,'m':0}, 'Category':{'0=Blood Donor':0,'0s=suspect Blood Donor':1, '1=Hepatitis':2, '2=Fibrosis':3, '3=Cirrhosis':4}})"
   ]
  },
  {
   "cell_type": "markdown",
   "metadata": {},
   "source": [
    "## Remove NaN values"
   ]
  },
  {
   "cell_type": "code",
   "execution_count": 4,
   "metadata": {},
   "outputs": [],
   "source": [
    "X = X.dropna()"
   ]
  },
  {
   "cell_type": "markdown",
   "metadata": {},
   "source": [
    "## Split X and y"
   ]
  },
  {
   "cell_type": "code",
   "execution_count": 5,
   "metadata": {},
   "outputs": [],
   "source": [
    "y = X.Category\n",
    "X = X.drop('Category', axis=1)"
   ]
  },
  {
   "cell_type": "markdown",
   "metadata": {},
   "source": [
    "## Split the data in train and test split"
   ]
  },
  {
   "cell_type": "code",
   "execution_count": 6,
   "metadata": {},
   "outputs": [],
   "source": [
    "x_train, x_test, y_train, y_test = train_test_split(X,y, test_size=0.3,random_state=1)"
   ]
  },
  {
   "cell_type": "markdown",
   "metadata": {},
   "source": [
    "## Over sampling smaller categories"
   ]
  },
  {
   "cell_type": "code",
   "execution_count": 7,
   "metadata": {},
   "outputs": [],
   "source": [
    "#On fait attention ici de ne pas toucher aux test sets\n",
    "x_train_eq,y_train_eq = RandomOverSampler().fit_resample(x_train,y_train)"
   ]
  },
  {
   "cell_type": "markdown",
   "metadata": {},
   "source": [
    "# Decision tree"
   ]
  },
  {
   "cell_type": "markdown",
   "metadata": {},
   "source": [
    "## Build the tree"
   ]
  },
  {
   "cell_type": "code",
   "execution_count": 8,
   "metadata": {},
   "outputs": [
    {
     "data": {
      "text/plain": [
       "DecisionTreeClassifier(random_state=0)"
      ]
     },
     "execution_count": 8,
     "metadata": {},
     "output_type": "execute_result"
    }
   ],
   "source": [
    "clf = DecisionTreeClassifier(criterion='gini', random_state=0)\n",
    "clf.fit(x_train_eq, y_train_eq)"
   ]
  },
  {
   "cell_type": "markdown",
   "metadata": {},
   "source": [
    "## Compute the accuracy of the tree"
   ]
  },
  {
   "cell_type": "code",
   "execution_count": 26,
   "metadata": {},
   "outputs": [
    {
     "name": "stdout",
     "output_type": "stream",
     "text": [
      "Accuracy on the train set: 1.0\n",
      "Accuracy on the test set: 0.9152542372881356\n"
     ]
    }
   ],
   "source": [
    "y_pred_train = clf.predict(x_train_eq)\n",
    "accuracy_train = metrics.accuracy_score(y_train_eq, y_pred_train)\n",
    "print('Accuracy on the train set:', accuracy_train)\n",
    "\n",
    "y_pred_test = clf.predict(x_test)\n",
    "accuracy_test = metrics.accuracy_score(y_test, y_pred_test)\n",
    "print('Accuracy on the test set:', accuracy_test)"
   ]
  },
  {
   "cell_type": "markdown",
   "metadata": {},
   "source": [
    "## Visualise the tree"
   ]
  },
  {
   "cell_type": "code",
   "execution_count": 27,
   "metadata": {},
   "outputs": [],
   "source": [
    "feature_names = X.columns\n",
    "plot_tree = tree.export_graphviz(clf, out_file=None, filled=True, rounded=True, feature_names=feature_names, class_names=class_names)\n",
    "graph = graphviz.Source(plot_tree)"
   ]
  },
  {
   "cell_type": "code",
   "execution_count": 28,
   "metadata": {
    "scrolled": false
   },
   "outputs": [
    {
     "data": {
      "image/svg+xml": [
       "<?xml version=\"1.0\" encoding=\"UTF-8\" standalone=\"no\"?>\n",
       "<!DOCTYPE svg PUBLIC \"-//W3C//DTD SVG 1.1//EN\"\n",
       " \"http://www.w3.org/Graphics/SVG/1.1/DTD/svg11.dtd\">\n",
       "<!-- Generated by graphviz version 2.47.1 (20210417.1919)\n",
       " -->\n",
       "<!-- Title: Tree Pages: 1 -->\n",
       "<svg width=\"1760pt\" height=\"1147pt\"\n",
       " viewBox=\"0.00 0.00 1759.50 1147.00\" xmlns=\"http://www.w3.org/2000/svg\" xmlns:xlink=\"http://www.w3.org/1999/xlink\">\n",
       "<g id=\"graph0\" class=\"graph\" transform=\"scale(1 1) rotate(0) translate(4 1143)\">\n",
       "<title>Tree</title>\n",
       "<polygon fill=\"white\" stroke=\"transparent\" points=\"-4,4 -4,-1143 1755.5,-1143 1755.5,4 -4,4\"/>\n",
       "<!-- 0 -->\n",
       "<g id=\"node1\" class=\"node\">\n",
       "<title>0</title>\n",
       "<path fill=\"#ffffff\" stroke=\"black\" d=\"M928.5,-1139C928.5,-1139 737.5,-1139 737.5,-1139 731.5,-1139 725.5,-1133 725.5,-1127 725.5,-1127 725.5,-1068 725.5,-1068 725.5,-1062 731.5,-1056 737.5,-1056 737.5,-1056 928.5,-1056 928.5,-1056 934.5,-1056 940.5,-1062 940.5,-1068 940.5,-1068 940.5,-1127 940.5,-1127 940.5,-1133 934.5,-1139 928.5,-1139\"/>\n",
       "<text text-anchor=\"middle\" x=\"833\" y=\"-1123.8\" font-family=\"Helvetica,sans-Serif\" font-size=\"14.00\">PROT &lt;= 53.15</text>\n",
       "<text text-anchor=\"middle\" x=\"833\" y=\"-1108.8\" font-family=\"Helvetica,sans-Serif\" font-size=\"14.00\">gini = 0.8</text>\n",
       "<text text-anchor=\"middle\" x=\"833\" y=\"-1093.8\" font-family=\"Helvetica,sans-Serif\" font-size=\"14.00\">samples = 1865</text>\n",
       "<text text-anchor=\"middle\" x=\"833\" y=\"-1078.8\" font-family=\"Helvetica,sans-Serif\" font-size=\"14.00\">value = [373, 373, 373, 373, 373]</text>\n",
       "<text text-anchor=\"middle\" x=\"833\" y=\"-1063.8\" font-family=\"Helvetica,sans-Serif\" font-size=\"14.00\">class = 0=Blood Donor</text>\n",
       "</g>\n",
       "<!-- 1 -->\n",
       "<g id=\"node2\" class=\"node\">\n",
       "<title>1</title>\n",
       "<path fill=\"#7be53a\" stroke=\"black\" d=\"M814.5,-1020C814.5,-1020 627.5,-1020 627.5,-1020 621.5,-1020 615.5,-1014 615.5,-1008 615.5,-1008 615.5,-949 615.5,-949 615.5,-943 621.5,-937 627.5,-937 627.5,-937 814.5,-937 814.5,-937 820.5,-937 826.5,-943 826.5,-949 826.5,-949 826.5,-1008 826.5,-1008 826.5,-1014 820.5,-1020 814.5,-1020\"/>\n",
       "<text text-anchor=\"middle\" x=\"721\" y=\"-1004.8\" font-family=\"Helvetica,sans-Serif\" font-size=\"14.00\">GGT &lt;= 35.05</text>\n",
       "<text text-anchor=\"middle\" x=\"721\" y=\"-989.8\" font-family=\"Helvetica,sans-Serif\" font-size=\"14.00\">gini = 0.005</text>\n",
       "<text text-anchor=\"middle\" x=\"721\" y=\"-974.8\" font-family=\"Helvetica,sans-Serif\" font-size=\"14.00\">samples = 374</text>\n",
       "<text text-anchor=\"middle\" x=\"721\" y=\"-959.8\" font-family=\"Helvetica,sans-Serif\" font-size=\"14.00\">value = [1, 373, 0, 0, 0]</text>\n",
       "<text text-anchor=\"middle\" x=\"721\" y=\"-944.8\" font-family=\"Helvetica,sans-Serif\" font-size=\"14.00\">class = 0s=suspect Blood Donor</text>\n",
       "</g>\n",
       "<!-- 0&#45;&gt;1 -->\n",
       "<g id=\"edge1\" class=\"edge\">\n",
       "<title>0&#45;&gt;1</title>\n",
       "<path fill=\"none\" stroke=\"black\" d=\"M794.14,-1055.91C785.37,-1046.74 775.97,-1036.93 766.94,-1027.49\"/>\n",
       "<polygon fill=\"black\" stroke=\"black\" points=\"769.23,-1024.82 759.79,-1020.02 764.18,-1029.66 769.23,-1024.82\"/>\n",
       "<text text-anchor=\"middle\" x=\"759.24\" y=\"-1041.31\" font-family=\"Helvetica,sans-Serif\" font-size=\"14.00\">True</text>\n",
       "</g>\n",
       "<!-- 4 -->\n",
       "<g id=\"node5\" class=\"node\">\n",
       "<title>4</title>\n",
       "<path fill=\"#ffffff\" stroke=\"black\" d=\"M1033,-1020C1033,-1020 857,-1020 857,-1020 851,-1020 845,-1014 845,-1008 845,-1008 845,-949 845,-949 845,-943 851,-937 857,-937 857,-937 1033,-937 1033,-937 1039,-937 1045,-943 1045,-949 1045,-949 1045,-1008 1045,-1008 1045,-1014 1039,-1020 1033,-1020\"/>\n",
       "<text text-anchor=\"middle\" x=\"945\" y=\"-1004.8\" font-family=\"Helvetica,sans-Serif\" font-size=\"14.00\">ALP &lt;= 45.3</text>\n",
       "<text text-anchor=\"middle\" x=\"945\" y=\"-989.8\" font-family=\"Helvetica,sans-Serif\" font-size=\"14.00\">gini = 0.75</text>\n",
       "<text text-anchor=\"middle\" x=\"945\" y=\"-974.8\" font-family=\"Helvetica,sans-Serif\" font-size=\"14.00\">samples = 1491</text>\n",
       "<text text-anchor=\"middle\" x=\"945\" y=\"-959.8\" font-family=\"Helvetica,sans-Serif\" font-size=\"14.00\">value = [372, 0, 373, 373, 373]</text>\n",
       "<text text-anchor=\"middle\" x=\"945\" y=\"-944.8\" font-family=\"Helvetica,sans-Serif\" font-size=\"14.00\">class = 1=Hepatitis</text>\n",
       "</g>\n",
       "<!-- 0&#45;&gt;4 -->\n",
       "<g id=\"edge4\" class=\"edge\">\n",
       "<title>0&#45;&gt;4</title>\n",
       "<path fill=\"none\" stroke=\"black\" d=\"M871.86,-1055.91C880.63,-1046.74 890.03,-1036.93 899.06,-1027.49\"/>\n",
       "<polygon fill=\"black\" stroke=\"black\" points=\"901.82,-1029.66 906.21,-1020.02 896.77,-1024.82 901.82,-1029.66\"/>\n",
       "<text text-anchor=\"middle\" x=\"906.76\" y=\"-1041.31\" font-family=\"Helvetica,sans-Serif\" font-size=\"14.00\">False</text>\n",
       "</g>\n",
       "<!-- 2 -->\n",
       "<g id=\"node3\" class=\"node\">\n",
       "<title>2</title>\n",
       "<path fill=\"#e58139\" stroke=\"black\" d=\"M587,-893.5C587,-893.5 457,-893.5 457,-893.5 451,-893.5 445,-887.5 445,-881.5 445,-881.5 445,-837.5 445,-837.5 445,-831.5 451,-825.5 457,-825.5 457,-825.5 587,-825.5 587,-825.5 593,-825.5 599,-831.5 599,-837.5 599,-837.5 599,-881.5 599,-881.5 599,-887.5 593,-893.5 587,-893.5\"/>\n",
       "<text text-anchor=\"middle\" x=\"522\" y=\"-878.3\" font-family=\"Helvetica,sans-Serif\" font-size=\"14.00\">gini = 0.0</text>\n",
       "<text text-anchor=\"middle\" x=\"522\" y=\"-863.3\" font-family=\"Helvetica,sans-Serif\" font-size=\"14.00\">samples = 1</text>\n",
       "<text text-anchor=\"middle\" x=\"522\" y=\"-848.3\" font-family=\"Helvetica,sans-Serif\" font-size=\"14.00\">value = [1, 0, 0, 0, 0]</text>\n",
       "<text text-anchor=\"middle\" x=\"522\" y=\"-833.3\" font-family=\"Helvetica,sans-Serif\" font-size=\"14.00\">class = 0=Blood Donor</text>\n",
       "</g>\n",
       "<!-- 1&#45;&gt;2 -->\n",
       "<g id=\"edge2\" class=\"edge\">\n",
       "<title>1&#45;&gt;2</title>\n",
       "<path fill=\"none\" stroke=\"black\" d=\"M651.96,-936.91C630.94,-924.55 607.91,-911.01 587.16,-898.81\"/>\n",
       "<polygon fill=\"black\" stroke=\"black\" points=\"588.81,-895.72 578.41,-893.67 585.26,-901.75 588.81,-895.72\"/>\n",
       "</g>\n",
       "<!-- 3 -->\n",
       "<g id=\"node4\" class=\"node\">\n",
       "<title>3</title>\n",
       "<path fill=\"#7be539\" stroke=\"black\" d=\"M816.5,-893.5C816.5,-893.5 629.5,-893.5 629.5,-893.5 623.5,-893.5 617.5,-887.5 617.5,-881.5 617.5,-881.5 617.5,-837.5 617.5,-837.5 617.5,-831.5 623.5,-825.5 629.5,-825.5 629.5,-825.5 816.5,-825.5 816.5,-825.5 822.5,-825.5 828.5,-831.5 828.5,-837.5 828.5,-837.5 828.5,-881.5 828.5,-881.5 828.5,-887.5 822.5,-893.5 816.5,-893.5\"/>\n",
       "<text text-anchor=\"middle\" x=\"723\" y=\"-878.3\" font-family=\"Helvetica,sans-Serif\" font-size=\"14.00\">gini = 0.0</text>\n",
       "<text text-anchor=\"middle\" x=\"723\" y=\"-863.3\" font-family=\"Helvetica,sans-Serif\" font-size=\"14.00\">samples = 373</text>\n",
       "<text text-anchor=\"middle\" x=\"723\" y=\"-848.3\" font-family=\"Helvetica,sans-Serif\" font-size=\"14.00\">value = [0, 373, 0, 0, 0]</text>\n",
       "<text text-anchor=\"middle\" x=\"723\" y=\"-833.3\" font-family=\"Helvetica,sans-Serif\" font-size=\"14.00\">class = 0s=suspect Blood Donor</text>\n",
       "</g>\n",
       "<!-- 1&#45;&gt;3 -->\n",
       "<g id=\"edge3\" class=\"edge\">\n",
       "<title>1&#45;&gt;3</title>\n",
       "<path fill=\"none\" stroke=\"black\" d=\"M721.69,-936.91C721.88,-926.2 722.07,-914.62 722.26,-903.78\"/>\n",
       "<polygon fill=\"black\" stroke=\"black\" points=\"725.76,-903.73 722.43,-893.67 718.76,-903.61 725.76,-903.73\"/>\n",
       "</g>\n",
       "<!-- 5 -->\n",
       "<g id=\"node6\" class=\"node\">\n",
       "<title>5</title>\n",
       "<path fill=\"#ececfd\" stroke=\"black\" d=\"M1023.5,-901C1023.5,-901 862.5,-901 862.5,-901 856.5,-901 850.5,-895 850.5,-889 850.5,-889 850.5,-830 850.5,-830 850.5,-824 856.5,-818 862.5,-818 862.5,-818 1023.5,-818 1023.5,-818 1029.5,-818 1035.5,-824 1035.5,-830 1035.5,-830 1035.5,-889 1035.5,-889 1035.5,-895 1029.5,-901 1023.5,-901\"/>\n",
       "<text text-anchor=\"middle\" x=\"943\" y=\"-885.8\" font-family=\"Helvetica,sans-Serif\" font-size=\"14.00\">ALP &lt;= 39.7</text>\n",
       "<text text-anchor=\"middle\" x=\"943\" y=\"-870.8\" font-family=\"Helvetica,sans-Serif\" font-size=\"14.00\">gini = 0.595</text>\n",
       "<text text-anchor=\"middle\" x=\"943\" y=\"-855.8\" font-family=\"Helvetica,sans-Serif\" font-size=\"14.00\">samples = 788</text>\n",
       "<text text-anchor=\"middle\" x=\"943\" y=\"-840.8\" font-family=\"Helvetica,sans-Serif\" font-size=\"14.00\">value = [32, 0, 329, 373, 54]</text>\n",
       "<text text-anchor=\"middle\" x=\"943\" y=\"-825.8\" font-family=\"Helvetica,sans-Serif\" font-size=\"14.00\">class = 2=Fibrosis</text>\n",
       "</g>\n",
       "<!-- 4&#45;&gt;5 -->\n",
       "<g id=\"edge5\" class=\"edge\">\n",
       "<title>4&#45;&gt;5</title>\n",
       "<path fill=\"none\" stroke=\"black\" d=\"M944.31,-936.91C944.16,-928.56 944.01,-919.67 943.86,-911.02\"/>\n",
       "<polygon fill=\"black\" stroke=\"black\" points=\"947.36,-910.96 943.69,-901.02 940.36,-911.08 947.36,-910.96\"/>\n",
       "</g>\n",
       "<!-- 28 -->\n",
       "<g id=\"node29\" class=\"node\">\n",
       "<title>28</title>\n",
       "<path fill=\"#fef8f4\" stroke=\"black\" d=\"M1281.5,-901C1281.5,-901 1128.5,-901 1128.5,-901 1122.5,-901 1116.5,-895 1116.5,-889 1116.5,-889 1116.5,-830 1116.5,-830 1116.5,-824 1122.5,-818 1128.5,-818 1128.5,-818 1281.5,-818 1281.5,-818 1287.5,-818 1293.5,-824 1293.5,-830 1293.5,-830 1293.5,-889 1293.5,-889 1293.5,-895 1287.5,-901 1281.5,-901\"/>\n",
       "<text text-anchor=\"middle\" x=\"1205\" y=\"-885.8\" font-family=\"Helvetica,sans-Serif\" font-size=\"14.00\">AST &lt;= 44.15</text>\n",
       "<text text-anchor=\"middle\" x=\"1205\" y=\"-870.8\" font-family=\"Helvetica,sans-Serif\" font-size=\"14.00\">gini = 0.556</text>\n",
       "<text text-anchor=\"middle\" x=\"1205\" y=\"-855.8\" font-family=\"Helvetica,sans-Serif\" font-size=\"14.00\">samples = 703</text>\n",
       "<text text-anchor=\"middle\" x=\"1205\" y=\"-840.8\" font-family=\"Helvetica,sans-Serif\" font-size=\"14.00\">value = [340, 0, 44, 0, 319]</text>\n",
       "<text text-anchor=\"middle\" x=\"1205\" y=\"-825.8\" font-family=\"Helvetica,sans-Serif\" font-size=\"14.00\">class = 0=Blood Donor</text>\n",
       "</g>\n",
       "<!-- 4&#45;&gt;28 -->\n",
       "<g id=\"edge28\" class=\"edge\">\n",
       "<title>4&#45;&gt;28</title>\n",
       "<path fill=\"none\" stroke=\"black\" d=\"M1035.21,-936.91C1058.38,-926.48 1083.43,-915.21 1106.98,-904.61\"/>\n",
       "<polygon fill=\"black\" stroke=\"black\" points=\"1108.59,-907.72 1116.27,-900.43 1105.72,-901.34 1108.59,-907.72\"/>\n",
       "</g>\n",
       "<!-- 6 -->\n",
       "<g id=\"node7\" class=\"node\">\n",
       "<title>6</title>\n",
       "<path fill=\"#a8f4e5\" stroke=\"black\" d=\"M721.5,-782C721.5,-782 560.5,-782 560.5,-782 554.5,-782 548.5,-776 548.5,-770 548.5,-770 548.5,-711 548.5,-711 548.5,-705 554.5,-699 560.5,-699 560.5,-699 721.5,-699 721.5,-699 727.5,-699 733.5,-705 733.5,-711 733.5,-711 733.5,-770 733.5,-770 733.5,-776 727.5,-782 721.5,-782\"/>\n",
       "<text text-anchor=\"middle\" x=\"641\" y=\"-766.8\" font-family=\"Helvetica,sans-Serif\" font-size=\"14.00\">Age &lt;= 51.5</text>\n",
       "<text text-anchor=\"middle\" x=\"641\" y=\"-751.8\" font-family=\"Helvetica,sans-Serif\" font-size=\"14.00\">gini = 0.555</text>\n",
       "<text text-anchor=\"middle\" x=\"641\" y=\"-736.8\" font-family=\"Helvetica,sans-Serif\" font-size=\"14.00\">samples = 551</text>\n",
       "<text text-anchor=\"middle\" x=\"641\" y=\"-721.8\" font-family=\"Helvetica,sans-Serif\" font-size=\"14.00\">value = [14, 0, 329, 154, 54]</text>\n",
       "<text text-anchor=\"middle\" x=\"641\" y=\"-706.8\" font-family=\"Helvetica,sans-Serif\" font-size=\"14.00\">class = 1=Hepatitis</text>\n",
       "</g>\n",
       "<!-- 5&#45;&gt;6 -->\n",
       "<g id=\"edge6\" class=\"edge\">\n",
       "<title>5&#45;&gt;6</title>\n",
       "<path fill=\"none\" stroke=\"black\" d=\"M850.34,-822.6C816.5,-809.49 778.05,-794.59 743.41,-781.17\"/>\n",
       "<polygon fill=\"black\" stroke=\"black\" points=\"744.34,-777.78 733.75,-777.43 741.81,-784.31 744.34,-777.78\"/>\n",
       "</g>\n",
       "<!-- 23 -->\n",
       "<g id=\"node24\" class=\"node\">\n",
       "<title>23</title>\n",
       "<path fill=\"#4c49e7\" stroke=\"black\" d=\"M1012,-782C1012,-782 874,-782 874,-782 868,-782 862,-776 862,-770 862,-770 862,-711 862,-711 862,-705 868,-699 874,-699 874,-699 1012,-699 1012,-699 1018,-699 1024,-705 1024,-711 1024,-711 1024,-770 1024,-770 1024,-776 1018,-782 1012,-782\"/>\n",
       "<text text-anchor=\"middle\" x=\"943\" y=\"-766.8\" font-family=\"Helvetica,sans-Serif\" font-size=\"14.00\">AST &lt;= 50.3</text>\n",
       "<text text-anchor=\"middle\" x=\"943\" y=\"-751.8\" font-family=\"Helvetica,sans-Serif\" font-size=\"14.00\">gini = 0.14</text>\n",
       "<text text-anchor=\"middle\" x=\"943\" y=\"-736.8\" font-family=\"Helvetica,sans-Serif\" font-size=\"14.00\">samples = 237</text>\n",
       "<text text-anchor=\"middle\" x=\"943\" y=\"-721.8\" font-family=\"Helvetica,sans-Serif\" font-size=\"14.00\">value = [18, 0, 0, 219, 0]</text>\n",
       "<text text-anchor=\"middle\" x=\"943\" y=\"-706.8\" font-family=\"Helvetica,sans-Serif\" font-size=\"14.00\">class = 2=Fibrosis</text>\n",
       "</g>\n",
       "<!-- 5&#45;&gt;23 -->\n",
       "<g id=\"edge23\" class=\"edge\">\n",
       "<title>5&#45;&gt;23</title>\n",
       "<path fill=\"none\" stroke=\"black\" d=\"M943,-817.91C943,-809.65 943,-800.86 943,-792.3\"/>\n",
       "<polygon fill=\"black\" stroke=\"black\" points=\"946.5,-792.02 943,-782.02 939.5,-792.02 946.5,-792.02\"/>\n",
       "</g>\n",
       "<!-- 7 -->\n",
       "<g id=\"node8\" class=\"node\">\n",
       "<title>7</title>\n",
       "<path fill=\"#5be9cf\" stroke=\"black\" d=\"M530,-663C530,-663 384,-663 384,-663 378,-663 372,-657 372,-651 372,-651 372,-592 372,-592 372,-586 378,-580 384,-580 384,-580 530,-580 530,-580 536,-580 542,-586 542,-592 542,-592 542,-651 542,-651 542,-657 536,-663 530,-663\"/>\n",
       "<text text-anchor=\"middle\" x=\"457\" y=\"-647.8\" font-family=\"Helvetica,sans-Serif\" font-size=\"14.00\">ALT &lt;= 65.2</text>\n",
       "<text text-anchor=\"middle\" x=\"457\" y=\"-632.8\" font-family=\"Helvetica,sans-Serif\" font-size=\"14.00\">gini = 0.265</text>\n",
       "<text text-anchor=\"middle\" x=\"457\" y=\"-617.8\" font-family=\"Helvetica,sans-Serif\" font-size=\"14.00\">samples = 388</text>\n",
       "<text text-anchor=\"middle\" x=\"457\" y=\"-602.8\" font-family=\"Helvetica,sans-Serif\" font-size=\"14.00\">value = [12, 0, 329, 47, 0]</text>\n",
       "<text text-anchor=\"middle\" x=\"457\" y=\"-587.8\" font-family=\"Helvetica,sans-Serif\" font-size=\"14.00\">class = 1=Hepatitis</text>\n",
       "</g>\n",
       "<!-- 6&#45;&gt;7 -->\n",
       "<g id=\"edge7\" class=\"edge\">\n",
       "<title>6&#45;&gt;7</title>\n",
       "<path fill=\"none\" stroke=\"black\" d=\"M577.16,-698.91C561.75,-689.11 545.17,-678.56 529.39,-668.53\"/>\n",
       "<polygon fill=\"black\" stroke=\"black\" points=\"531.04,-665.43 520.73,-663.02 527.29,-671.34 531.04,-665.43\"/>\n",
       "</g>\n",
       "<!-- 18 -->\n",
       "<g id=\"node19\" class=\"node\">\n",
       "<title>18</title>\n",
       "<path fill=\"#a09ff2\" stroke=\"black\" d=\"M710,-663C710,-663 572,-663 572,-663 566,-663 560,-657 560,-651 560,-651 560,-592 560,-592 560,-586 566,-580 572,-580 572,-580 710,-580 710,-580 716,-580 722,-586 722,-592 722,-592 722,-651 722,-651 722,-657 716,-663 710,-663\"/>\n",
       "<text text-anchor=\"middle\" x=\"641\" y=\"-647.8\" font-family=\"Helvetica,sans-Serif\" font-size=\"14.00\">ALB &lt;= 41.6</text>\n",
       "<text text-anchor=\"middle\" x=\"641\" y=\"-632.8\" font-family=\"Helvetica,sans-Serif\" font-size=\"14.00\">gini = 0.459</text>\n",
       "<text text-anchor=\"middle\" x=\"641\" y=\"-617.8\" font-family=\"Helvetica,sans-Serif\" font-size=\"14.00\">samples = 163</text>\n",
       "<text text-anchor=\"middle\" x=\"641\" y=\"-602.8\" font-family=\"Helvetica,sans-Serif\" font-size=\"14.00\">value = [2, 0, 0, 107, 54]</text>\n",
       "<text text-anchor=\"middle\" x=\"641\" y=\"-587.8\" font-family=\"Helvetica,sans-Serif\" font-size=\"14.00\">class = 2=Fibrosis</text>\n",
       "</g>\n",
       "<!-- 6&#45;&gt;18 -->\n",
       "<g id=\"edge18\" class=\"edge\">\n",
       "<title>6&#45;&gt;18</title>\n",
       "<path fill=\"none\" stroke=\"black\" d=\"M641,-698.91C641,-690.65 641,-681.86 641,-673.3\"/>\n",
       "<polygon fill=\"black\" stroke=\"black\" points=\"644.5,-673.02 641,-663.02 637.5,-673.02 644.5,-673.02\"/>\n",
       "</g>\n",
       "<!-- 8 -->\n",
       "<g id=\"node9\" class=\"node\">\n",
       "<title>8</title>\n",
       "<path fill=\"#40e6c7\" stroke=\"black\" d=\"M362,-544C362,-544 224,-544 224,-544 218,-544 212,-538 212,-532 212,-532 212,-473 212,-473 212,-467 218,-461 224,-461 224,-461 362,-461 362,-461 368,-461 374,-467 374,-473 374,-473 374,-532 374,-532 374,-538 368,-544 362,-544\"/>\n",
       "<text text-anchor=\"middle\" x=\"293\" y=\"-528.8\" font-family=\"Helvetica,sans-Serif\" font-size=\"14.00\">CREA &lt;= 82.4</text>\n",
       "<text text-anchor=\"middle\" x=\"293\" y=\"-513.8\" font-family=\"Helvetica,sans-Serif\" font-size=\"14.00\">gini = 0.068</text>\n",
       "<text text-anchor=\"middle\" x=\"293\" y=\"-498.8\" font-family=\"Helvetica,sans-Serif\" font-size=\"14.00\">samples = 341</text>\n",
       "<text text-anchor=\"middle\" x=\"293\" y=\"-483.8\" font-family=\"Helvetica,sans-Serif\" font-size=\"14.00\">value = [12, 0, 329, 0, 0]</text>\n",
       "<text text-anchor=\"middle\" x=\"293\" y=\"-468.8\" font-family=\"Helvetica,sans-Serif\" font-size=\"14.00\">class = 1=Hepatitis</text>\n",
       "</g>\n",
       "<!-- 7&#45;&gt;8 -->\n",
       "<g id=\"edge8\" class=\"edge\">\n",
       "<title>7&#45;&gt;8</title>\n",
       "<path fill=\"none\" stroke=\"black\" d=\"M400.1,-579.91C386.62,-570.29 372.13,-559.95 358.31,-550.09\"/>\n",
       "<polygon fill=\"black\" stroke=\"black\" points=\"359.97,-546.98 349.8,-544.02 355.91,-552.68 359.97,-546.98\"/>\n",
       "</g>\n",
       "<!-- 17 -->\n",
       "<g id=\"node18\" class=\"node\">\n",
       "<title>17</title>\n",
       "<path fill=\"#3c39e5\" stroke=\"black\" d=\"M527.5,-536.5C527.5,-536.5 404.5,-536.5 404.5,-536.5 398.5,-536.5 392.5,-530.5 392.5,-524.5 392.5,-524.5 392.5,-480.5 392.5,-480.5 392.5,-474.5 398.5,-468.5 404.5,-468.5 404.5,-468.5 527.5,-468.5 527.5,-468.5 533.5,-468.5 539.5,-474.5 539.5,-480.5 539.5,-480.5 539.5,-524.5 539.5,-524.5 539.5,-530.5 533.5,-536.5 527.5,-536.5\"/>\n",
       "<text text-anchor=\"middle\" x=\"466\" y=\"-521.3\" font-family=\"Helvetica,sans-Serif\" font-size=\"14.00\">gini = 0.0</text>\n",
       "<text text-anchor=\"middle\" x=\"466\" y=\"-506.3\" font-family=\"Helvetica,sans-Serif\" font-size=\"14.00\">samples = 47</text>\n",
       "<text text-anchor=\"middle\" x=\"466\" y=\"-491.3\" font-family=\"Helvetica,sans-Serif\" font-size=\"14.00\">value = [0, 0, 0, 47, 0]</text>\n",
       "<text text-anchor=\"middle\" x=\"466\" y=\"-476.3\" font-family=\"Helvetica,sans-Serif\" font-size=\"14.00\">class = 2=Fibrosis</text>\n",
       "</g>\n",
       "<!-- 7&#45;&gt;17 -->\n",
       "<g id=\"edge17\" class=\"edge\">\n",
       "<title>7&#45;&gt;17</title>\n",
       "<path fill=\"none\" stroke=\"black\" d=\"M460.12,-579.91C460.95,-569.2 461.84,-557.62 462.67,-546.78\"/>\n",
       "<polygon fill=\"black\" stroke=\"black\" points=\"466.17,-546.91 463.45,-536.67 459.19,-546.37 466.17,-546.91\"/>\n",
       "</g>\n",
       "<!-- 9 -->\n",
       "<g id=\"node10\" class=\"node\">\n",
       "<title>9</title>\n",
       "<path fill=\"#3de5c6\" stroke=\"black\" d=\"M228.5,-425C228.5,-425 97.5,-425 97.5,-425 91.5,-425 85.5,-419 85.5,-413 85.5,-413 85.5,-354 85.5,-354 85.5,-348 91.5,-342 97.5,-342 97.5,-342 228.5,-342 228.5,-342 234.5,-342 240.5,-348 240.5,-354 240.5,-354 240.5,-413 240.5,-413 240.5,-419 234.5,-425 228.5,-425\"/>\n",
       "<text text-anchor=\"middle\" x=\"163\" y=\"-409.8\" font-family=\"Helvetica,sans-Serif\" font-size=\"14.00\">CHE &lt;= 5.635</text>\n",
       "<text text-anchor=\"middle\" x=\"163\" y=\"-394.8\" font-family=\"Helvetica,sans-Serif\" font-size=\"14.00\">gini = 0.035</text>\n",
       "<text text-anchor=\"middle\" x=\"163\" y=\"-379.8\" font-family=\"Helvetica,sans-Serif\" font-size=\"14.00\">samples = 335</text>\n",
       "<text text-anchor=\"middle\" x=\"163\" y=\"-364.8\" font-family=\"Helvetica,sans-Serif\" font-size=\"14.00\">value = [6, 0, 329, 0, 0]</text>\n",
       "<text text-anchor=\"middle\" x=\"163\" y=\"-349.8\" font-family=\"Helvetica,sans-Serif\" font-size=\"14.00\">class = 1=Hepatitis</text>\n",
       "</g>\n",
       "<!-- 8&#45;&gt;9 -->\n",
       "<g id=\"edge9\" class=\"edge\">\n",
       "<title>8&#45;&gt;9</title>\n",
       "<path fill=\"none\" stroke=\"black\" d=\"M247.9,-460.91C237.51,-451.56 226.38,-441.54 215.7,-431.93\"/>\n",
       "<polygon fill=\"black\" stroke=\"black\" points=\"217.8,-429.11 208.02,-425.02 213.11,-434.31 217.8,-429.11\"/>\n",
       "</g>\n",
       "<!-- 16 -->\n",
       "<g id=\"node17\" class=\"node\">\n",
       "<title>16</title>\n",
       "<path fill=\"#e58139\" stroke=\"black\" d=\"M401,-417.5C401,-417.5 271,-417.5 271,-417.5 265,-417.5 259,-411.5 259,-405.5 259,-405.5 259,-361.5 259,-361.5 259,-355.5 265,-349.5 271,-349.5 271,-349.5 401,-349.5 401,-349.5 407,-349.5 413,-355.5 413,-361.5 413,-361.5 413,-405.5 413,-405.5 413,-411.5 407,-417.5 401,-417.5\"/>\n",
       "<text text-anchor=\"middle\" x=\"336\" y=\"-402.3\" font-family=\"Helvetica,sans-Serif\" font-size=\"14.00\">gini = 0.0</text>\n",
       "<text text-anchor=\"middle\" x=\"336\" y=\"-387.3\" font-family=\"Helvetica,sans-Serif\" font-size=\"14.00\">samples = 6</text>\n",
       "<text text-anchor=\"middle\" x=\"336\" y=\"-372.3\" font-family=\"Helvetica,sans-Serif\" font-size=\"14.00\">value = [6, 0, 0, 0, 0]</text>\n",
       "<text text-anchor=\"middle\" x=\"336\" y=\"-357.3\" font-family=\"Helvetica,sans-Serif\" font-size=\"14.00\">class = 0=Blood Donor</text>\n",
       "</g>\n",
       "<!-- 8&#45;&gt;16 -->\n",
       "<g id=\"edge16\" class=\"edge\">\n",
       "<title>8&#45;&gt;16</title>\n",
       "<path fill=\"none\" stroke=\"black\" d=\"M307.92,-460.91C311.93,-449.98 316.29,-438.14 320.34,-427.11\"/>\n",
       "<polygon fill=\"black\" stroke=\"black\" points=\"323.65,-428.26 323.81,-417.67 317.08,-425.85 323.65,-428.26\"/>\n",
       "</g>\n",
       "<!-- 10 -->\n",
       "<g id=\"node11\" class=\"node\">\n",
       "<title>10</title>\n",
       "<path fill=\"#e58139\" stroke=\"black\" d=\"M142,-298.5C142,-298.5 12,-298.5 12,-298.5 6,-298.5 0,-292.5 0,-286.5 0,-286.5 0,-242.5 0,-242.5 0,-236.5 6,-230.5 12,-230.5 12,-230.5 142,-230.5 142,-230.5 148,-230.5 154,-236.5 154,-242.5 154,-242.5 154,-286.5 154,-286.5 154,-292.5 148,-298.5 142,-298.5\"/>\n",
       "<text text-anchor=\"middle\" x=\"77\" y=\"-283.3\" font-family=\"Helvetica,sans-Serif\" font-size=\"14.00\">gini = 0.0</text>\n",
       "<text text-anchor=\"middle\" x=\"77\" y=\"-268.3\" font-family=\"Helvetica,sans-Serif\" font-size=\"14.00\">samples = 3</text>\n",
       "<text text-anchor=\"middle\" x=\"77\" y=\"-253.3\" font-family=\"Helvetica,sans-Serif\" font-size=\"14.00\">value = [3, 0, 0, 0, 0]</text>\n",
       "<text text-anchor=\"middle\" x=\"77\" y=\"-238.3\" font-family=\"Helvetica,sans-Serif\" font-size=\"14.00\">class = 0=Blood Donor</text>\n",
       "</g>\n",
       "<!-- 9&#45;&gt;10 -->\n",
       "<g id=\"edge10\" class=\"edge\">\n",
       "<title>9&#45;&gt;10</title>\n",
       "<path fill=\"none\" stroke=\"black\" d=\"M133.16,-341.91C124.81,-330.54 115.72,-318.18 107.34,-306.77\"/>\n",
       "<polygon fill=\"black\" stroke=\"black\" points=\"110.12,-304.65 101.38,-298.67 104.48,-308.8 110.12,-304.65\"/>\n",
       "</g>\n",
       "<!-- 11 -->\n",
       "<g id=\"node12\" class=\"node\">\n",
       "<title>11</title>\n",
       "<path fill=\"#3be5c6\" stroke=\"black\" d=\"M315.5,-306C315.5,-306 184.5,-306 184.5,-306 178.5,-306 172.5,-300 172.5,-294 172.5,-294 172.5,-235 172.5,-235 172.5,-229 178.5,-223 184.5,-223 184.5,-223 315.5,-223 315.5,-223 321.5,-223 327.5,-229 327.5,-235 327.5,-235 327.5,-294 327.5,-294 327.5,-300 321.5,-306 315.5,-306\"/>\n",
       "<text text-anchor=\"middle\" x=\"250\" y=\"-290.8\" font-family=\"Helvetica,sans-Serif\" font-size=\"14.00\">GGT &lt;= 10.6</text>\n",
       "<text text-anchor=\"middle\" x=\"250\" y=\"-275.8\" font-family=\"Helvetica,sans-Serif\" font-size=\"14.00\">gini = 0.018</text>\n",
       "<text text-anchor=\"middle\" x=\"250\" y=\"-260.8\" font-family=\"Helvetica,sans-Serif\" font-size=\"14.00\">samples = 332</text>\n",
       "<text text-anchor=\"middle\" x=\"250\" y=\"-245.8\" font-family=\"Helvetica,sans-Serif\" font-size=\"14.00\">value = [3, 0, 329, 0, 0]</text>\n",
       "<text text-anchor=\"middle\" x=\"250\" y=\"-230.8\" font-family=\"Helvetica,sans-Serif\" font-size=\"14.00\">class = 1=Hepatitis</text>\n",
       "</g>\n",
       "<!-- 9&#45;&gt;11 -->\n",
       "<g id=\"edge11\" class=\"edge\">\n",
       "<title>9&#45;&gt;11</title>\n",
       "<path fill=\"none\" stroke=\"black\" d=\"M193.18,-341.91C199.86,-332.92 207.01,-323.32 213.9,-314.05\"/>\n",
       "<polygon fill=\"black\" stroke=\"black\" points=\"216.71,-316.13 219.87,-306.02 211.09,-311.96 216.71,-316.13\"/>\n",
       "</g>\n",
       "<!-- 12 -->\n",
       "<g id=\"node13\" class=\"node\">\n",
       "<title>12</title>\n",
       "<path fill=\"#e58139\" stroke=\"black\" d=\"M229,-179.5C229,-179.5 99,-179.5 99,-179.5 93,-179.5 87,-173.5 87,-167.5 87,-167.5 87,-123.5 87,-123.5 87,-117.5 93,-111.5 99,-111.5 99,-111.5 229,-111.5 229,-111.5 235,-111.5 241,-117.5 241,-123.5 241,-123.5 241,-167.5 241,-167.5 241,-173.5 235,-179.5 229,-179.5\"/>\n",
       "<text text-anchor=\"middle\" x=\"164\" y=\"-164.3\" font-family=\"Helvetica,sans-Serif\" font-size=\"14.00\">gini = 0.0</text>\n",
       "<text text-anchor=\"middle\" x=\"164\" y=\"-149.3\" font-family=\"Helvetica,sans-Serif\" font-size=\"14.00\">samples = 2</text>\n",
       "<text text-anchor=\"middle\" x=\"164\" y=\"-134.3\" font-family=\"Helvetica,sans-Serif\" font-size=\"14.00\">value = [2, 0, 0, 0, 0]</text>\n",
       "<text text-anchor=\"middle\" x=\"164\" y=\"-119.3\" font-family=\"Helvetica,sans-Serif\" font-size=\"14.00\">class = 0=Blood Donor</text>\n",
       "</g>\n",
       "<!-- 11&#45;&gt;12 -->\n",
       "<g id=\"edge12\" class=\"edge\">\n",
       "<title>11&#45;&gt;12</title>\n",
       "<path fill=\"none\" stroke=\"black\" d=\"M220.16,-222.91C211.81,-211.54 202.72,-199.18 194.34,-187.77\"/>\n",
       "<polygon fill=\"black\" stroke=\"black\" points=\"197.12,-185.65 188.38,-179.67 191.48,-189.8 197.12,-185.65\"/>\n",
       "</g>\n",
       "<!-- 13 -->\n",
       "<g id=\"node14\" class=\"node\">\n",
       "<title>13</title>\n",
       "<path fill=\"#3ae5c5\" stroke=\"black\" d=\"M402.5,-187C402.5,-187 271.5,-187 271.5,-187 265.5,-187 259.5,-181 259.5,-175 259.5,-175 259.5,-116 259.5,-116 259.5,-110 265.5,-104 271.5,-104 271.5,-104 402.5,-104 402.5,-104 408.5,-104 414.5,-110 414.5,-116 414.5,-116 414.5,-175 414.5,-175 414.5,-181 408.5,-187 402.5,-187\"/>\n",
       "<text text-anchor=\"middle\" x=\"337\" y=\"-171.8\" font-family=\"Helvetica,sans-Serif\" font-size=\"14.00\">BIL &lt;= 4.0</text>\n",
       "<text text-anchor=\"middle\" x=\"337\" y=\"-156.8\" font-family=\"Helvetica,sans-Serif\" font-size=\"14.00\">gini = 0.006</text>\n",
       "<text text-anchor=\"middle\" x=\"337\" y=\"-141.8\" font-family=\"Helvetica,sans-Serif\" font-size=\"14.00\">samples = 330</text>\n",
       "<text text-anchor=\"middle\" x=\"337\" y=\"-126.8\" font-family=\"Helvetica,sans-Serif\" font-size=\"14.00\">value = [1, 0, 329, 0, 0]</text>\n",
       "<text text-anchor=\"middle\" x=\"337\" y=\"-111.8\" font-family=\"Helvetica,sans-Serif\" font-size=\"14.00\">class = 1=Hepatitis</text>\n",
       "</g>\n",
       "<!-- 11&#45;&gt;13 -->\n",
       "<g id=\"edge13\" class=\"edge\">\n",
       "<title>11&#45;&gt;13</title>\n",
       "<path fill=\"none\" stroke=\"black\" d=\"M280.18,-222.91C286.86,-213.92 294.01,-204.32 300.9,-195.05\"/>\n",
       "<polygon fill=\"black\" stroke=\"black\" points=\"303.71,-197.13 306.87,-187.02 298.09,-192.96 303.71,-197.13\"/>\n",
       "</g>\n",
       "<!-- 14 -->\n",
       "<g id=\"node15\" class=\"node\">\n",
       "<title>14</title>\n",
       "<path fill=\"#e58139\" stroke=\"black\" d=\"M316,-68C316,-68 186,-68 186,-68 180,-68 174,-62 174,-56 174,-56 174,-12 174,-12 174,-6 180,0 186,0 186,0 316,0 316,0 322,0 328,-6 328,-12 328,-12 328,-56 328,-56 328,-62 322,-68 316,-68\"/>\n",
       "<text text-anchor=\"middle\" x=\"251\" y=\"-52.8\" font-family=\"Helvetica,sans-Serif\" font-size=\"14.00\">gini = 0.0</text>\n",
       "<text text-anchor=\"middle\" x=\"251\" y=\"-37.8\" font-family=\"Helvetica,sans-Serif\" font-size=\"14.00\">samples = 1</text>\n",
       "<text text-anchor=\"middle\" x=\"251\" y=\"-22.8\" font-family=\"Helvetica,sans-Serif\" font-size=\"14.00\">value = [1, 0, 0, 0, 0]</text>\n",
       "<text text-anchor=\"middle\" x=\"251\" y=\"-7.8\" font-family=\"Helvetica,sans-Serif\" font-size=\"14.00\">class = 0=Blood Donor</text>\n",
       "</g>\n",
       "<!-- 13&#45;&gt;14 -->\n",
       "<g id=\"edge14\" class=\"edge\">\n",
       "<title>13&#45;&gt;14</title>\n",
       "<path fill=\"none\" stroke=\"black\" d=\"M304.98,-103.73C297.96,-94.79 290.52,-85.32 283.48,-76.36\"/>\n",
       "<polygon fill=\"black\" stroke=\"black\" points=\"286.08,-74 277.15,-68.3 280.58,-78.33 286.08,-74\"/>\n",
       "</g>\n",
       "<!-- 15 -->\n",
       "<g id=\"node16\" class=\"node\">\n",
       "<title>15</title>\n",
       "<path fill=\"#39e5c5\" stroke=\"black\" d=\"M489.5,-68C489.5,-68 358.5,-68 358.5,-68 352.5,-68 346.5,-62 346.5,-56 346.5,-56 346.5,-12 346.5,-12 346.5,-6 352.5,0 358.5,0 358.5,0 489.5,0 489.5,0 495.5,0 501.5,-6 501.5,-12 501.5,-12 501.5,-56 501.5,-56 501.5,-62 495.5,-68 489.5,-68\"/>\n",
       "<text text-anchor=\"middle\" x=\"424\" y=\"-52.8\" font-family=\"Helvetica,sans-Serif\" font-size=\"14.00\">gini = 0.0</text>\n",
       "<text text-anchor=\"middle\" x=\"424\" y=\"-37.8\" font-family=\"Helvetica,sans-Serif\" font-size=\"14.00\">samples = 329</text>\n",
       "<text text-anchor=\"middle\" x=\"424\" y=\"-22.8\" font-family=\"Helvetica,sans-Serif\" font-size=\"14.00\">value = [0, 0, 329, 0, 0]</text>\n",
       "<text text-anchor=\"middle\" x=\"424\" y=\"-7.8\" font-family=\"Helvetica,sans-Serif\" font-size=\"14.00\">class = 1=Hepatitis</text>\n",
       "</g>\n",
       "<!-- 13&#45;&gt;15 -->\n",
       "<g id=\"edge15\" class=\"edge\">\n",
       "<title>13&#45;&gt;15</title>\n",
       "<path fill=\"none\" stroke=\"black\" d=\"M369.4,-103.73C376.5,-94.79 384.02,-85.32 391.14,-76.36\"/>\n",
       "<polygon fill=\"black\" stroke=\"black\" points=\"394.06,-78.31 397.54,-68.3 388.58,-73.95 394.06,-78.31\"/>\n",
       "</g>\n",
       "<!-- 19 -->\n",
       "<g id=\"node20\" class=\"node\">\n",
       "<title>19</title>\n",
       "<path fill=\"#e640c2\" stroke=\"black\" d=\"M694.5,-544C694.5,-544 571.5,-544 571.5,-544 565.5,-544 559.5,-538 559.5,-532 559.5,-532 559.5,-473 559.5,-473 559.5,-467 565.5,-461 571.5,-461 571.5,-461 694.5,-461 694.5,-461 700.5,-461 706.5,-467 706.5,-473 706.5,-473 706.5,-532 706.5,-532 706.5,-538 700.5,-544 694.5,-544\"/>\n",
       "<text text-anchor=\"middle\" x=\"633\" y=\"-528.8\" font-family=\"Helvetica,sans-Serif\" font-size=\"14.00\">ALB &lt;= 39.45</text>\n",
       "<text text-anchor=\"middle\" x=\"633\" y=\"-513.8\" font-family=\"Helvetica,sans-Serif\" font-size=\"14.00\">gini = 0.069</text>\n",
       "<text text-anchor=\"middle\" x=\"633\" y=\"-498.8\" font-family=\"Helvetica,sans-Serif\" font-size=\"14.00\">samples = 56</text>\n",
       "<text text-anchor=\"middle\" x=\"633\" y=\"-483.8\" font-family=\"Helvetica,sans-Serif\" font-size=\"14.00\">value = [2, 0, 0, 0, 54]</text>\n",
       "<text text-anchor=\"middle\" x=\"633\" y=\"-468.8\" font-family=\"Helvetica,sans-Serif\" font-size=\"14.00\">class = 3=Cirrhosis</text>\n",
       "</g>\n",
       "<!-- 18&#45;&gt;19 -->\n",
       "<g id=\"edge19\" class=\"edge\">\n",
       "<title>18&#45;&gt;19</title>\n",
       "<path fill=\"none\" stroke=\"black\" d=\"M638.22,-579.91C637.65,-571.56 637.05,-562.67 636.45,-554.02\"/>\n",
       "<polygon fill=\"black\" stroke=\"black\" points=\"639.94,-553.76 635.77,-544.02 632.96,-554.24 639.94,-553.76\"/>\n",
       "</g>\n",
       "<!-- 22 -->\n",
       "<g id=\"node23\" class=\"node\">\n",
       "<title>22</title>\n",
       "<path fill=\"#3c39e5\" stroke=\"black\" d=\"M867.5,-536.5C867.5,-536.5 736.5,-536.5 736.5,-536.5 730.5,-536.5 724.5,-530.5 724.5,-524.5 724.5,-524.5 724.5,-480.5 724.5,-480.5 724.5,-474.5 730.5,-468.5 736.5,-468.5 736.5,-468.5 867.5,-468.5 867.5,-468.5 873.5,-468.5 879.5,-474.5 879.5,-480.5 879.5,-480.5 879.5,-524.5 879.5,-524.5 879.5,-530.5 873.5,-536.5 867.5,-536.5\"/>\n",
       "<text text-anchor=\"middle\" x=\"802\" y=\"-521.3\" font-family=\"Helvetica,sans-Serif\" font-size=\"14.00\">gini = 0.0</text>\n",
       "<text text-anchor=\"middle\" x=\"802\" y=\"-506.3\" font-family=\"Helvetica,sans-Serif\" font-size=\"14.00\">samples = 107</text>\n",
       "<text text-anchor=\"middle\" x=\"802\" y=\"-491.3\" font-family=\"Helvetica,sans-Serif\" font-size=\"14.00\">value = [0, 0, 0, 107, 0]</text>\n",
       "<text text-anchor=\"middle\" x=\"802\" y=\"-476.3\" font-family=\"Helvetica,sans-Serif\" font-size=\"14.00\">class = 2=Fibrosis</text>\n",
       "</g>\n",
       "<!-- 18&#45;&gt;22 -->\n",
       "<g id=\"edge22\" class=\"edge\">\n",
       "<title>18&#45;&gt;22</title>\n",
       "<path fill=\"none\" stroke=\"black\" d=\"M696.86,-579.91C713.41,-567.88 731.5,-554.73 747.93,-542.79\"/>\n",
       "<polygon fill=\"black\" stroke=\"black\" points=\"750.33,-545.38 756.36,-536.67 746.21,-539.71 750.33,-545.38\"/>\n",
       "</g>\n",
       "<!-- 20 -->\n",
       "<g id=\"node21\" class=\"node\">\n",
       "<title>20</title>\n",
       "<path fill=\"#e539c0\" stroke=\"black\" d=\"M651.5,-417.5C651.5,-417.5 528.5,-417.5 528.5,-417.5 522.5,-417.5 516.5,-411.5 516.5,-405.5 516.5,-405.5 516.5,-361.5 516.5,-361.5 516.5,-355.5 522.5,-349.5 528.5,-349.5 528.5,-349.5 651.5,-349.5 651.5,-349.5 657.5,-349.5 663.5,-355.5 663.5,-361.5 663.5,-361.5 663.5,-405.5 663.5,-405.5 663.5,-411.5 657.5,-417.5 651.5,-417.5\"/>\n",
       "<text text-anchor=\"middle\" x=\"590\" y=\"-402.3\" font-family=\"Helvetica,sans-Serif\" font-size=\"14.00\">gini = 0.0</text>\n",
       "<text text-anchor=\"middle\" x=\"590\" y=\"-387.3\" font-family=\"Helvetica,sans-Serif\" font-size=\"14.00\">samples = 54</text>\n",
       "<text text-anchor=\"middle\" x=\"590\" y=\"-372.3\" font-family=\"Helvetica,sans-Serif\" font-size=\"14.00\">value = [0, 0, 0, 0, 54]</text>\n",
       "<text text-anchor=\"middle\" x=\"590\" y=\"-357.3\" font-family=\"Helvetica,sans-Serif\" font-size=\"14.00\">class = 3=Cirrhosis</text>\n",
       "</g>\n",
       "<!-- 19&#45;&gt;20 -->\n",
       "<g id=\"edge20\" class=\"edge\">\n",
       "<title>19&#45;&gt;20</title>\n",
       "<path fill=\"none\" stroke=\"black\" d=\"M618.08,-460.91C614.07,-449.98 609.71,-438.14 605.66,-427.11\"/>\n",
       "<polygon fill=\"black\" stroke=\"black\" points=\"608.92,-425.85 602.19,-417.67 602.35,-428.26 608.92,-425.85\"/>\n",
       "</g>\n",
       "<!-- 21 -->\n",
       "<g id=\"node22\" class=\"node\">\n",
       "<title>21</title>\n",
       "<path fill=\"#e58139\" stroke=\"black\" d=\"M824,-417.5C824,-417.5 694,-417.5 694,-417.5 688,-417.5 682,-411.5 682,-405.5 682,-405.5 682,-361.5 682,-361.5 682,-355.5 688,-349.5 694,-349.5 694,-349.5 824,-349.5 824,-349.5 830,-349.5 836,-355.5 836,-361.5 836,-361.5 836,-405.5 836,-405.5 836,-411.5 830,-417.5 824,-417.5\"/>\n",
       "<text text-anchor=\"middle\" x=\"759\" y=\"-402.3\" font-family=\"Helvetica,sans-Serif\" font-size=\"14.00\">gini = 0.0</text>\n",
       "<text text-anchor=\"middle\" x=\"759\" y=\"-387.3\" font-family=\"Helvetica,sans-Serif\" font-size=\"14.00\">samples = 2</text>\n",
       "<text text-anchor=\"middle\" x=\"759\" y=\"-372.3\" font-family=\"Helvetica,sans-Serif\" font-size=\"14.00\">value = [2, 0, 0, 0, 0]</text>\n",
       "<text text-anchor=\"middle\" x=\"759\" y=\"-357.3\" font-family=\"Helvetica,sans-Serif\" font-size=\"14.00\">class = 0=Blood Donor</text>\n",
       "</g>\n",
       "<!-- 19&#45;&gt;21 -->\n",
       "<g id=\"edge21\" class=\"edge\">\n",
       "<title>19&#45;&gt;21</title>\n",
       "<path fill=\"none\" stroke=\"black\" d=\"M676.72,-460.91C689.31,-449.21 703.05,-436.46 715.62,-424.78\"/>\n",
       "<polygon fill=\"black\" stroke=\"black\" points=\"718.34,-427.04 723.28,-417.67 713.57,-421.91 718.34,-427.04\"/>\n",
       "</g>\n",
       "<!-- 24 -->\n",
       "<g id=\"node25\" class=\"node\">\n",
       "<title>24</title>\n",
       "<path fill=\"#e58139\" stroke=\"black\" d=\"M882,-655.5C882,-655.5 752,-655.5 752,-655.5 746,-655.5 740,-649.5 740,-643.5 740,-643.5 740,-599.5 740,-599.5 740,-593.5 746,-587.5 752,-587.5 752,-587.5 882,-587.5 882,-587.5 888,-587.5 894,-593.5 894,-599.5 894,-599.5 894,-643.5 894,-643.5 894,-649.5 888,-655.5 882,-655.5\"/>\n",
       "<text text-anchor=\"middle\" x=\"817\" y=\"-640.3\" font-family=\"Helvetica,sans-Serif\" font-size=\"14.00\">gini = 0.0</text>\n",
       "<text text-anchor=\"middle\" x=\"817\" y=\"-625.3\" font-family=\"Helvetica,sans-Serif\" font-size=\"14.00\">samples = 17</text>\n",
       "<text text-anchor=\"middle\" x=\"817\" y=\"-610.3\" font-family=\"Helvetica,sans-Serif\" font-size=\"14.00\">value = [17, 0, 0, 0, 0]</text>\n",
       "<text text-anchor=\"middle\" x=\"817\" y=\"-595.3\" font-family=\"Helvetica,sans-Serif\" font-size=\"14.00\">class = 0=Blood Donor</text>\n",
       "</g>\n",
       "<!-- 23&#45;&gt;24 -->\n",
       "<g id=\"edge24\" class=\"edge\">\n",
       "<title>23&#45;&gt;24</title>\n",
       "<path fill=\"none\" stroke=\"black\" d=\"M899.28,-698.91C886.69,-687.21 872.95,-674.46 860.38,-662.78\"/>\n",
       "<polygon fill=\"black\" stroke=\"black\" points=\"862.43,-659.91 852.72,-655.67 857.66,-665.04 862.43,-659.91\"/>\n",
       "</g>\n",
       "<!-- 25 -->\n",
       "<g id=\"node26\" class=\"node\">\n",
       "<title>25</title>\n",
       "<path fill=\"#3d3ae5\" stroke=\"black\" d=\"M1055.5,-663C1055.5,-663 924.5,-663 924.5,-663 918.5,-663 912.5,-657 912.5,-651 912.5,-651 912.5,-592 912.5,-592 912.5,-586 918.5,-580 924.5,-580 924.5,-580 1055.5,-580 1055.5,-580 1061.5,-580 1067.5,-586 1067.5,-592 1067.5,-592 1067.5,-651 1067.5,-651 1067.5,-657 1061.5,-663 1055.5,-663\"/>\n",
       "<text text-anchor=\"middle\" x=\"990\" y=\"-647.8\" font-family=\"Helvetica,sans-Serif\" font-size=\"14.00\">CHE &lt;= 7.73</text>\n",
       "<text text-anchor=\"middle\" x=\"990\" y=\"-632.8\" font-family=\"Helvetica,sans-Serif\" font-size=\"14.00\">gini = 0.009</text>\n",
       "<text text-anchor=\"middle\" x=\"990\" y=\"-617.8\" font-family=\"Helvetica,sans-Serif\" font-size=\"14.00\">samples = 220</text>\n",
       "<text text-anchor=\"middle\" x=\"990\" y=\"-602.8\" font-family=\"Helvetica,sans-Serif\" font-size=\"14.00\">value = [1, 0, 0, 219, 0]</text>\n",
       "<text text-anchor=\"middle\" x=\"990\" y=\"-587.8\" font-family=\"Helvetica,sans-Serif\" font-size=\"14.00\">class = 2=Fibrosis</text>\n",
       "</g>\n",
       "<!-- 23&#45;&gt;25 -->\n",
       "<g id=\"edge25\" class=\"edge\">\n",
       "<title>23&#45;&gt;25</title>\n",
       "<path fill=\"none\" stroke=\"black\" d=\"M959.31,-698.91C962.73,-690.38 966.39,-681.28 969.93,-672.46\"/>\n",
       "<polygon fill=\"black\" stroke=\"black\" points=\"973.24,-673.6 973.72,-663.02 966.75,-671 973.24,-673.6\"/>\n",
       "</g>\n",
       "<!-- 26 -->\n",
       "<g id=\"node27\" class=\"node\">\n",
       "<title>26</title>\n",
       "<path fill=\"#e58139\" stroke=\"black\" d=\"M1048,-536.5C1048,-536.5 918,-536.5 918,-536.5 912,-536.5 906,-530.5 906,-524.5 906,-524.5 906,-480.5 906,-480.5 906,-474.5 912,-468.5 918,-468.5 918,-468.5 1048,-468.5 1048,-468.5 1054,-468.5 1060,-474.5 1060,-480.5 1060,-480.5 1060,-524.5 1060,-524.5 1060,-530.5 1054,-536.5 1048,-536.5\"/>\n",
       "<text text-anchor=\"middle\" x=\"983\" y=\"-521.3\" font-family=\"Helvetica,sans-Serif\" font-size=\"14.00\">gini = 0.0</text>\n",
       "<text text-anchor=\"middle\" x=\"983\" y=\"-506.3\" font-family=\"Helvetica,sans-Serif\" font-size=\"14.00\">samples = 1</text>\n",
       "<text text-anchor=\"middle\" x=\"983\" y=\"-491.3\" font-family=\"Helvetica,sans-Serif\" font-size=\"14.00\">value = [1, 0, 0, 0, 0]</text>\n",
       "<text text-anchor=\"middle\" x=\"983\" y=\"-476.3\" font-family=\"Helvetica,sans-Serif\" font-size=\"14.00\">class = 0=Blood Donor</text>\n",
       "</g>\n",
       "<!-- 25&#45;&gt;26 -->\n",
       "<g id=\"edge26\" class=\"edge\">\n",
       "<title>25&#45;&gt;26</title>\n",
       "<path fill=\"none\" stroke=\"black\" d=\"M987.57,-579.91C986.93,-569.2 986.24,-557.62 985.59,-546.78\"/>\n",
       "<polygon fill=\"black\" stroke=\"black\" points=\"989.08,-546.44 984.98,-536.67 982.09,-546.86 989.08,-546.44\"/>\n",
       "</g>\n",
       "<!-- 27 -->\n",
       "<g id=\"node28\" class=\"node\">\n",
       "<title>27</title>\n",
       "<path fill=\"#3c39e5\" stroke=\"black\" d=\"M1221.5,-536.5C1221.5,-536.5 1090.5,-536.5 1090.5,-536.5 1084.5,-536.5 1078.5,-530.5 1078.5,-524.5 1078.5,-524.5 1078.5,-480.5 1078.5,-480.5 1078.5,-474.5 1084.5,-468.5 1090.5,-468.5 1090.5,-468.5 1221.5,-468.5 1221.5,-468.5 1227.5,-468.5 1233.5,-474.5 1233.5,-480.5 1233.5,-480.5 1233.5,-524.5 1233.5,-524.5 1233.5,-530.5 1227.5,-536.5 1221.5,-536.5\"/>\n",
       "<text text-anchor=\"middle\" x=\"1156\" y=\"-521.3\" font-family=\"Helvetica,sans-Serif\" font-size=\"14.00\">gini = 0.0</text>\n",
       "<text text-anchor=\"middle\" x=\"1156\" y=\"-506.3\" font-family=\"Helvetica,sans-Serif\" font-size=\"14.00\">samples = 219</text>\n",
       "<text text-anchor=\"middle\" x=\"1156\" y=\"-491.3\" font-family=\"Helvetica,sans-Serif\" font-size=\"14.00\">value = [0, 0, 0, 219, 0]</text>\n",
       "<text text-anchor=\"middle\" x=\"1156\" y=\"-476.3\" font-family=\"Helvetica,sans-Serif\" font-size=\"14.00\">class = 2=Fibrosis</text>\n",
       "</g>\n",
       "<!-- 25&#45;&gt;27 -->\n",
       "<g id=\"edge27\" class=\"edge\">\n",
       "<title>25&#45;&gt;27</title>\n",
       "<path fill=\"none\" stroke=\"black\" d=\"M1047.59,-579.91C1064.81,-567.77 1083.65,-554.49 1100.72,-542.46\"/>\n",
       "<polygon fill=\"black\" stroke=\"black\" points=\"1102.79,-545.29 1108.94,-536.67 1098.75,-539.57 1102.79,-545.29\"/>\n",
       "</g>\n",
       "<!-- 29 -->\n",
       "<g id=\"node30\" class=\"node\">\n",
       "<title>29</title>\n",
       "<path fill=\"#e78a47\" stroke=\"black\" d=\"M1274,-782C1274,-782 1136,-782 1136,-782 1130,-782 1124,-776 1124,-770 1124,-770 1124,-711 1124,-711 1124,-705 1130,-699 1136,-699 1136,-699 1274,-699 1274,-699 1280,-699 1286,-705 1286,-711 1286,-711 1286,-770 1286,-770 1286,-776 1280,-782 1274,-782\"/>\n",
       "<text text-anchor=\"middle\" x=\"1205\" y=\"-766.8\" font-family=\"Helvetica,sans-Serif\" font-size=\"14.00\">ALT &lt;= 4.65</text>\n",
       "<text text-anchor=\"middle\" x=\"1205\" y=\"-751.8\" font-family=\"Helvetica,sans-Serif\" font-size=\"14.00\">gini = 0.122</text>\n",
       "<text text-anchor=\"middle\" x=\"1205\" y=\"-736.8\" font-family=\"Helvetica,sans-Serif\" font-size=\"14.00\">samples = 351</text>\n",
       "<text text-anchor=\"middle\" x=\"1205\" y=\"-721.8\" font-family=\"Helvetica,sans-Serif\" font-size=\"14.00\">value = [328, 0, 0, 0, 23]</text>\n",
       "<text text-anchor=\"middle\" x=\"1205\" y=\"-706.8\" font-family=\"Helvetica,sans-Serif\" font-size=\"14.00\">class = 0=Blood Donor</text>\n",
       "</g>\n",
       "<!-- 28&#45;&gt;29 -->\n",
       "<g id=\"edge29\" class=\"edge\">\n",
       "<title>28&#45;&gt;29</title>\n",
       "<path fill=\"none\" stroke=\"black\" d=\"M1205,-817.91C1205,-809.65 1205,-800.86 1205,-792.3\"/>\n",
       "<polygon fill=\"black\" stroke=\"black\" points=\"1208.5,-792.02 1205,-782.02 1201.5,-792.02 1208.5,-792.02\"/>\n",
       "</g>\n",
       "<!-- 32 -->\n",
       "<g id=\"node33\" class=\"node\">\n",
       "<title>32</title>\n",
       "<path fill=\"#ea5dcb\" stroke=\"black\" d=\"M1578,-782C1578,-782 1432,-782 1432,-782 1426,-782 1420,-776 1420,-770 1420,-770 1420,-711 1420,-711 1420,-705 1426,-699 1432,-699 1432,-699 1578,-699 1578,-699 1584,-699 1590,-705 1590,-711 1590,-711 1590,-770 1590,-770 1590,-776 1584,-782 1578,-782\"/>\n",
       "<text text-anchor=\"middle\" x=\"1505\" y=\"-766.8\" font-family=\"Helvetica,sans-Serif\" font-size=\"14.00\">AST &lt;= 321.9</text>\n",
       "<text text-anchor=\"middle\" x=\"1505\" y=\"-751.8\" font-family=\"Helvetica,sans-Serif\" font-size=\"14.00\">gini = 0.276</text>\n",
       "<text text-anchor=\"middle\" x=\"1505\" y=\"-736.8\" font-family=\"Helvetica,sans-Serif\" font-size=\"14.00\">samples = 352</text>\n",
       "<text text-anchor=\"middle\" x=\"1505\" y=\"-721.8\" font-family=\"Helvetica,sans-Serif\" font-size=\"14.00\">value = [12, 0, 44, 0, 296]</text>\n",
       "<text text-anchor=\"middle\" x=\"1505\" y=\"-706.8\" font-family=\"Helvetica,sans-Serif\" font-size=\"14.00\">class = 3=Cirrhosis</text>\n",
       "</g>\n",
       "<!-- 28&#45;&gt;32 -->\n",
       "<g id=\"edge32\" class=\"edge\">\n",
       "<title>28&#45;&gt;32</title>\n",
       "<path fill=\"none\" stroke=\"black\" d=\"M1293.79,-823.87C1330.51,-809.55 1373.13,-792.93 1410.42,-778.38\"/>\n",
       "<polygon fill=\"black\" stroke=\"black\" points=\"1411.74,-781.63 1419.79,-774.73 1409.2,-775.11 1411.74,-781.63\"/>\n",
       "</g>\n",
       "<!-- 30 -->\n",
       "<g id=\"node31\" class=\"node\">\n",
       "<title>30</title>\n",
       "<path fill=\"#e539c0\" stroke=\"black\" d=\"M1220.5,-655.5C1220.5,-655.5 1097.5,-655.5 1097.5,-655.5 1091.5,-655.5 1085.5,-649.5 1085.5,-643.5 1085.5,-643.5 1085.5,-599.5 1085.5,-599.5 1085.5,-593.5 1091.5,-587.5 1097.5,-587.5 1097.5,-587.5 1220.5,-587.5 1220.5,-587.5 1226.5,-587.5 1232.5,-593.5 1232.5,-599.5 1232.5,-599.5 1232.5,-643.5 1232.5,-643.5 1232.5,-649.5 1226.5,-655.5 1220.5,-655.5\"/>\n",
       "<text text-anchor=\"middle\" x=\"1159\" y=\"-640.3\" font-family=\"Helvetica,sans-Serif\" font-size=\"14.00\">gini = 0.0</text>\n",
       "<text text-anchor=\"middle\" x=\"1159\" y=\"-625.3\" font-family=\"Helvetica,sans-Serif\" font-size=\"14.00\">samples = 23</text>\n",
       "<text text-anchor=\"middle\" x=\"1159\" y=\"-610.3\" font-family=\"Helvetica,sans-Serif\" font-size=\"14.00\">value = [0, 0, 0, 0, 23]</text>\n",
       "<text text-anchor=\"middle\" x=\"1159\" y=\"-595.3\" font-family=\"Helvetica,sans-Serif\" font-size=\"14.00\">class = 3=Cirrhosis</text>\n",
       "</g>\n",
       "<!-- 29&#45;&gt;30 -->\n",
       "<g id=\"edge30\" class=\"edge\">\n",
       "<title>29&#45;&gt;30</title>\n",
       "<path fill=\"none\" stroke=\"black\" d=\"M1189.04,-698.91C1184.75,-687.98 1180.09,-676.14 1175.75,-665.11\"/>\n",
       "<polygon fill=\"black\" stroke=\"black\" points=\"1178.96,-663.69 1172.04,-655.67 1172.44,-666.25 1178.96,-663.69\"/>\n",
       "</g>\n",
       "<!-- 31 -->\n",
       "<g id=\"node32\" class=\"node\">\n",
       "<title>31</title>\n",
       "<path fill=\"#e58139\" stroke=\"black\" d=\"M1393.5,-655.5C1393.5,-655.5 1262.5,-655.5 1262.5,-655.5 1256.5,-655.5 1250.5,-649.5 1250.5,-643.5 1250.5,-643.5 1250.5,-599.5 1250.5,-599.5 1250.5,-593.5 1256.5,-587.5 1262.5,-587.5 1262.5,-587.5 1393.5,-587.5 1393.5,-587.5 1399.5,-587.5 1405.5,-593.5 1405.5,-599.5 1405.5,-599.5 1405.5,-643.5 1405.5,-643.5 1405.5,-649.5 1399.5,-655.5 1393.5,-655.5\"/>\n",
       "<text text-anchor=\"middle\" x=\"1328\" y=\"-640.3\" font-family=\"Helvetica,sans-Serif\" font-size=\"14.00\">gini = 0.0</text>\n",
       "<text text-anchor=\"middle\" x=\"1328\" y=\"-625.3\" font-family=\"Helvetica,sans-Serif\" font-size=\"14.00\">samples = 328</text>\n",
       "<text text-anchor=\"middle\" x=\"1328\" y=\"-610.3\" font-family=\"Helvetica,sans-Serif\" font-size=\"14.00\">value = [328, 0, 0, 0, 0]</text>\n",
       "<text text-anchor=\"middle\" x=\"1328\" y=\"-595.3\" font-family=\"Helvetica,sans-Serif\" font-size=\"14.00\">class = 0=Blood Donor</text>\n",
       "</g>\n",
       "<!-- 29&#45;&gt;31 -->\n",
       "<g id=\"edge31\" class=\"edge\">\n",
       "<title>29&#45;&gt;31</title>\n",
       "<path fill=\"none\" stroke=\"black\" d=\"M1247.67,-698.91C1259.97,-687.21 1273.38,-674.46 1285.65,-662.78\"/>\n",
       "<polygon fill=\"black\" stroke=\"black\" points=\"1288.3,-665.1 1293.13,-655.67 1283.47,-660.02 1288.3,-665.1\"/>\n",
       "</g>\n",
       "<!-- 33 -->\n",
       "<g id=\"node34\" class=\"node\">\n",
       "<title>33</title>\n",
       "<path fill=\"#e641c3\" stroke=\"black\" d=\"M1574,-663C1574,-663 1436,-663 1436,-663 1430,-663 1424,-657 1424,-651 1424,-651 1424,-592 1424,-592 1424,-586 1430,-580 1436,-580 1436,-580 1574,-580 1574,-580 1580,-580 1586,-586 1586,-592 1586,-592 1586,-651 1586,-651 1586,-657 1580,-663 1574,-663\"/>\n",
       "<text text-anchor=\"middle\" x=\"1505\" y=\"-647.8\" font-family=\"Helvetica,sans-Serif\" font-size=\"14.00\">CHE &lt;= 6.13</text>\n",
       "<text text-anchor=\"middle\" x=\"1505\" y=\"-632.8\" font-family=\"Helvetica,sans-Serif\" font-size=\"14.00\">gini = 0.075</text>\n",
       "<text text-anchor=\"middle\" x=\"1505\" y=\"-617.8\" font-family=\"Helvetica,sans-Serif\" font-size=\"14.00\">samples = 308</text>\n",
       "<text text-anchor=\"middle\" x=\"1505\" y=\"-602.8\" font-family=\"Helvetica,sans-Serif\" font-size=\"14.00\">value = [12, 0, 0, 0, 296]</text>\n",
       "<text text-anchor=\"middle\" x=\"1505\" y=\"-587.8\" font-family=\"Helvetica,sans-Serif\" font-size=\"14.00\">class = 3=Cirrhosis</text>\n",
       "</g>\n",
       "<!-- 32&#45;&gt;33 -->\n",
       "<g id=\"edge33\" class=\"edge\">\n",
       "<title>32&#45;&gt;33</title>\n",
       "<path fill=\"none\" stroke=\"black\" d=\"M1505,-698.91C1505,-690.65 1505,-681.86 1505,-673.3\"/>\n",
       "<polygon fill=\"black\" stroke=\"black\" points=\"1508.5,-673.02 1505,-663.02 1501.5,-673.02 1508.5,-673.02\"/>\n",
       "</g>\n",
       "<!-- 36 -->\n",
       "<g id=\"node37\" class=\"node\">\n",
       "<title>36</title>\n",
       "<path fill=\"#39e5c5\" stroke=\"black\" d=\"M1739.5,-655.5C1739.5,-655.5 1616.5,-655.5 1616.5,-655.5 1610.5,-655.5 1604.5,-649.5 1604.5,-643.5 1604.5,-643.5 1604.5,-599.5 1604.5,-599.5 1604.5,-593.5 1610.5,-587.5 1616.5,-587.5 1616.5,-587.5 1739.5,-587.5 1739.5,-587.5 1745.5,-587.5 1751.5,-593.5 1751.5,-599.5 1751.5,-599.5 1751.5,-643.5 1751.5,-643.5 1751.5,-649.5 1745.5,-655.5 1739.5,-655.5\"/>\n",
       "<text text-anchor=\"middle\" x=\"1678\" y=\"-640.3\" font-family=\"Helvetica,sans-Serif\" font-size=\"14.00\">gini = 0.0</text>\n",
       "<text text-anchor=\"middle\" x=\"1678\" y=\"-625.3\" font-family=\"Helvetica,sans-Serif\" font-size=\"14.00\">samples = 44</text>\n",
       "<text text-anchor=\"middle\" x=\"1678\" y=\"-610.3\" font-family=\"Helvetica,sans-Serif\" font-size=\"14.00\">value = [0, 0, 44, 0, 0]</text>\n",
       "<text text-anchor=\"middle\" x=\"1678\" y=\"-595.3\" font-family=\"Helvetica,sans-Serif\" font-size=\"14.00\">class = 1=Hepatitis</text>\n",
       "</g>\n",
       "<!-- 32&#45;&gt;36 -->\n",
       "<g id=\"edge36\" class=\"edge\">\n",
       "<title>32&#45;&gt;36</title>\n",
       "<path fill=\"none\" stroke=\"black\" d=\"M1565.02,-698.91C1582.97,-686.77 1602.6,-673.49 1620.39,-661.46\"/>\n",
       "<polygon fill=\"black\" stroke=\"black\" points=\"1622.64,-664.17 1628.96,-655.67 1618.71,-658.37 1622.64,-664.17\"/>\n",
       "</g>\n",
       "<!-- 34 -->\n",
       "<g id=\"node35\" class=\"node\">\n",
       "<title>34</title>\n",
       "<path fill=\"#e539c0\" stroke=\"black\" d=\"M1478.5,-536.5C1478.5,-536.5 1347.5,-536.5 1347.5,-536.5 1341.5,-536.5 1335.5,-530.5 1335.5,-524.5 1335.5,-524.5 1335.5,-480.5 1335.5,-480.5 1335.5,-474.5 1341.5,-468.5 1347.5,-468.5 1347.5,-468.5 1478.5,-468.5 1478.5,-468.5 1484.5,-468.5 1490.5,-474.5 1490.5,-480.5 1490.5,-480.5 1490.5,-524.5 1490.5,-524.5 1490.5,-530.5 1484.5,-536.5 1478.5,-536.5\"/>\n",
       "<text text-anchor=\"middle\" x=\"1413\" y=\"-521.3\" font-family=\"Helvetica,sans-Serif\" font-size=\"14.00\">gini = 0.0</text>\n",
       "<text text-anchor=\"middle\" x=\"1413\" y=\"-506.3\" font-family=\"Helvetica,sans-Serif\" font-size=\"14.00\">samples = 296</text>\n",
       "<text text-anchor=\"middle\" x=\"1413\" y=\"-491.3\" font-family=\"Helvetica,sans-Serif\" font-size=\"14.00\">value = [0, 0, 0, 0, 296]</text>\n",
       "<text text-anchor=\"middle\" x=\"1413\" y=\"-476.3\" font-family=\"Helvetica,sans-Serif\" font-size=\"14.00\">class = 3=Cirrhosis</text>\n",
       "</g>\n",
       "<!-- 33&#45;&gt;34 -->\n",
       "<g id=\"edge34\" class=\"edge\">\n",
       "<title>33&#45;&gt;34</title>\n",
       "<path fill=\"none\" stroke=\"black\" d=\"M1473.08,-579.91C1464.14,-568.54 1454.42,-556.18 1445.45,-544.77\"/>\n",
       "<polygon fill=\"black\" stroke=\"black\" points=\"1448.01,-542.36 1439.08,-536.67 1442.51,-546.69 1448.01,-542.36\"/>\n",
       "</g>\n",
       "<!-- 35 -->\n",
       "<g id=\"node36\" class=\"node\">\n",
       "<title>35</title>\n",
       "<path fill=\"#e58139\" stroke=\"black\" d=\"M1651,-536.5C1651,-536.5 1521,-536.5 1521,-536.5 1515,-536.5 1509,-530.5 1509,-524.5 1509,-524.5 1509,-480.5 1509,-480.5 1509,-474.5 1515,-468.5 1521,-468.5 1521,-468.5 1651,-468.5 1651,-468.5 1657,-468.5 1663,-474.5 1663,-480.5 1663,-480.5 1663,-524.5 1663,-524.5 1663,-530.5 1657,-536.5 1651,-536.5\"/>\n",
       "<text text-anchor=\"middle\" x=\"1586\" y=\"-521.3\" font-family=\"Helvetica,sans-Serif\" font-size=\"14.00\">gini = 0.0</text>\n",
       "<text text-anchor=\"middle\" x=\"1586\" y=\"-506.3\" font-family=\"Helvetica,sans-Serif\" font-size=\"14.00\">samples = 12</text>\n",
       "<text text-anchor=\"middle\" x=\"1586\" y=\"-491.3\" font-family=\"Helvetica,sans-Serif\" font-size=\"14.00\">value = [12, 0, 0, 0, 0]</text>\n",
       "<text text-anchor=\"middle\" x=\"1586\" y=\"-476.3\" font-family=\"Helvetica,sans-Serif\" font-size=\"14.00\">class = 0=Blood Donor</text>\n",
       "</g>\n",
       "<!-- 33&#45;&gt;35 -->\n",
       "<g id=\"edge35\" class=\"edge\">\n",
       "<title>33&#45;&gt;35</title>\n",
       "<path fill=\"none\" stroke=\"black\" d=\"M1533.1,-579.91C1540.89,-568.65 1549.36,-556.42 1557.2,-545.11\"/>\n",
       "<polygon fill=\"black\" stroke=\"black\" points=\"1560.22,-546.88 1563.04,-536.67 1554.47,-542.9 1560.22,-546.88\"/>\n",
       "</g>\n",
       "</g>\n",
       "</svg>\n"
      ],
      "text/plain": [
       "<graphviz.files.Source at 0x7ff1ab037a90>"
      ]
     },
     "execution_count": 28,
     "metadata": {},
     "output_type": "execute_result"
    }
   ],
   "source": [
    "graph"
   ]
  },
  {
   "cell_type": "markdown",
   "metadata": {},
   "source": [
    "Use ``graph.render('name of the graph', view=True)`` when one wants to save the graph in a pdf file in the same directory as the one containing this notebook."
   ]
  },
  {
   "cell_type": "code",
   "execution_count": 43,
   "metadata": {},
   "outputs": [
    {
     "data": {
      "text/plain": [
       "{'max_depth': 12}"
      ]
     },
     "execution_count": 43,
     "metadata": {},
     "output_type": "execute_result"
    }
   ],
   "source": [
    "grid_DT = {'max_depth':np.arange(1,20)}\n",
    "DT_cv = GridSearchCV(DecisionTreeClassifier(),param_grid=grid_DT)\n",
    "DT_cv.fit(x_train_eq,y_train_eq)\n",
    "DT_cv.best_params_"
   ]
  },
  {
   "cell_type": "code",
   "execution_count": 44,
   "metadata": {},
   "outputs": [
    {
     "data": {
      "text/plain": [
       "0.9209039548022598"
      ]
     },
     "execution_count": 44,
     "metadata": {},
     "output_type": "execute_result"
    }
   ],
   "source": [
    "DT_cv.score(x_test, y_test)"
   ]
  },
  {
   "cell_type": "markdown",
   "metadata": {},
   "source": [
    "## Bagging"
   ]
  },
  {
   "cell_type": "code",
   "execution_count": 45,
   "metadata": {},
   "outputs": [
    {
     "data": {
      "text/plain": [
       "0.9265536723163842"
      ]
     },
     "execution_count": 45,
     "metadata": {},
     "output_type": "execute_result"
    }
   ],
   "source": [
    "Bagging = BaggingClassifier(DecisionTreeClassifier(max_depth=12),n_estimators=200)\n",
    "Bagging.fit(x_train_eq,y_train_eq)\n",
    "Bagging.score(x_test,y_test)"
   ]
  },
  {
   "cell_type": "code",
   "execution_count": 47,
   "metadata": {},
   "outputs": [
    {
     "data": {
      "text/plain": [
       "{'max_samples': 0.7000000000000001}"
      ]
     },
     "execution_count": 47,
     "metadata": {},
     "output_type": "execute_result"
    }
   ],
   "source": [
    "bagging_grid = {'max_samples':np.arange(0.1,1.1,0.1)}\n",
    "bagging_cv = GridSearchCV(Bagging,bagging_grid,cv=5)\n",
    "#bagging_cv.fit(x_train_eq,y_train_eq) #to train on the oversampled training set\n",
    "bagging_cv.fit(x_train_eq,y_train_eq)\n",
    "bagging_cv.best_params_"
   ]
  },
  {
   "cell_type": "code",
   "execution_count": 48,
   "metadata": {},
   "outputs": [
    {
     "data": {
      "text/plain": [
       "0.9378531073446328"
      ]
     },
     "execution_count": 48,
     "metadata": {},
     "output_type": "execute_result"
    }
   ],
   "source": [
    "bagging_cv.score(x_test, y_test)"
   ]
  },
  {
   "cell_type": "markdown",
   "metadata": {},
   "source": [
    "Amélioration de 0.02 par rapport au decision tree seul"
   ]
  },
  {
   "cell_type": "markdown",
   "metadata": {},
   "source": [
    "## Random forest"
   ]
  },
  {
   "cell_type": "code",
   "execution_count": 54,
   "metadata": {},
   "outputs": [
    {
     "data": {
      "text/plain": [
       "0.9152542372881356"
      ]
     },
     "execution_count": 54,
     "metadata": {},
     "output_type": "execute_result"
    }
   ],
   "source": [
    "RF = RandomForestClassifier(n_estimators=100)\n",
    "RF.fit(x_train_eq,y_train_eq)\n",
    "RF.score(x_test, y_test)"
   ]
  },
  {
   "cell_type": "code",
   "execution_count": 55,
   "metadata": {},
   "outputs": [
    {
     "data": {
      "text/plain": [
       "{'max_samples': 0.9}"
      ]
     },
     "execution_count": 55,
     "metadata": {},
     "output_type": "execute_result"
    }
   ],
   "source": [
    "param_RF = {'max_samples':np.arange(0.1,1,0.1)}\n",
    "RF_cv = GridSearchCV(RandomForestClassifier(n_estimators=100),param_grid=param_RF,cv=5)\n",
    "RF_cv.fit(x_train_eq,y_train_eq)\n",
    "#RF_cv.fit(x_train,y_train)\n",
    "RF_cv.best_params_"
   ]
  },
  {
   "cell_type": "code",
   "execution_count": 56,
   "metadata": {},
   "outputs": [
    {
     "data": {
      "text/plain": [
       "0.9096045197740112"
      ]
     },
     "execution_count": 56,
     "metadata": {},
     "output_type": "execute_result"
    }
   ],
   "source": [
    "RF_cv.score(x_test,y_test)"
   ]
  },
  {
   "cell_type": "markdown",
   "metadata": {},
   "source": [
    "Moins bien que Bagging"
   ]
  },
  {
   "cell_type": "markdown",
   "metadata": {},
   "source": [
    "## AdaBoost"
   ]
  },
  {
   "cell_type": "code",
   "execution_count": 65,
   "metadata": {},
   "outputs": [
    {
     "data": {
      "text/plain": [
       "0.9152542372881356"
      ]
     },
     "execution_count": 65,
     "metadata": {},
     "output_type": "execute_result"
    }
   ],
   "source": [
    "AdaB = AdaBoostClassifier(base_estimator=DecisionTreeClassifier(),n_estimators=200)\n",
    "AdaB.fit(x_train_eq,y_train_eq)\n",
    "AdaB.score(x_test,y_test)"
   ]
  },
  {
   "cell_type": "markdown",
   "metadata": {},
   "source": [
    "## Gradient Boosting"
   ]
  },
  {
   "cell_type": "code",
   "execution_count": 66,
   "metadata": {},
   "outputs": [
    {
     "data": {
      "text/plain": [
       "0.9096045197740112"
      ]
     },
     "execution_count": 66,
     "metadata": {},
     "output_type": "execute_result"
    }
   ],
   "source": [
    "GradB = GradientBoostingClassifier(n_estimators=100)\n",
    "GradB.fit(x_train_eq, y_train_eq)\n",
    "GradB.score(x_test, y_test)"
   ]
  },
  {
   "cell_type": "code",
   "execution_count": 67,
   "metadata": {},
   "outputs": [
    {
     "data": {
      "text/plain": [
       "{'learning_rate': 0.30000000000000004, 'max_depth': 3}"
      ]
     },
     "execution_count": 67,
     "metadata": {},
     "output_type": "execute_result"
    }
   ],
   "source": [
    "param_GB = {'learning_rate':np.arange(0.1,0.5,0.1),'max_depth':np.arange(2,5)}\n",
    "GB_cv = GridSearchCV(GradientBoostingClassifier(n_estimators=100),param_grid=param_GB,cv=2)\n",
    "#GB_cv.fit(x_train_eq,y_train_eq)\n",
    "GB_cv.fit(x_train,y_train)\n",
    "GB_cv.best_params_"
   ]
  },
  {
   "cell_type": "code",
   "execution_count": 68,
   "metadata": {},
   "outputs": [
    {
     "data": {
      "text/plain": [
       "0.9152542372881356"
      ]
     },
     "execution_count": 68,
     "metadata": {},
     "output_type": "execute_result"
    }
   ],
   "source": [
    "GB_cv.score(x_test,y_test)"
   ]
  },
  {
   "cell_type": "markdown",
   "metadata": {},
   "source": [
    "# SVM"
   ]
  },
  {
   "cell_type": "markdown",
   "metadata": {},
   "source": [
    "## SVM Normal on oversampled dataset"
   ]
  },
  {
   "cell_type": "code",
   "execution_count": 69,
   "metadata": {},
   "outputs": [
    {
     "name": "stdout",
     "output_type": "stream",
     "text": [
      "CPU times: user 50.3 ms, sys: 2.57 ms, total: 52.9 ms\n",
      "Wall time: 51.2 ms\n"
     ]
    },
    {
     "data": {
      "text/plain": [
       "SVC(C=2.5)"
      ]
     },
     "execution_count": 69,
     "metadata": {},
     "output_type": "execute_result"
    }
   ],
   "source": [
    "%%time\n",
    "clf_rbf = SVC(kernel='rbf',C=2.5)\n",
    "clf_rbf.fit(x_train_eq, y_train_eq)"
   ]
  },
  {
   "cell_type": "code",
   "execution_count": 70,
   "metadata": {},
   "outputs": [
    {
     "data": {
      "text/plain": [
       "0.9209039548022598"
      ]
     },
     "execution_count": 70,
     "metadata": {},
     "output_type": "execute_result"
    }
   ],
   "source": [
    "clf_rbf.score(x_test, y_test)"
   ]
  },
  {
   "cell_type": "code",
   "execution_count": 79,
   "metadata": {},
   "outputs": [
    {
     "data": {
      "text/plain": [
       "0.9828418230563003"
      ]
     },
     "execution_count": 79,
     "metadata": {},
     "output_type": "execute_result"
    }
   ],
   "source": [
    "clf_rbf.score(x_train_eq, y_train_eq)"
   ]
  },
  {
   "cell_type": "code",
   "execution_count": 72,
   "metadata": {},
   "outputs": [
    {
     "name": "stdout",
     "output_type": "stream",
     "text": [
      "{'C': 5}\n",
      "CPU times: user 908 ms, sys: 4.97 ms, total: 913 ms\n",
      "Wall time: 915 ms\n"
     ]
    }
   ],
   "source": [
    "%%time\n",
    "param_grid = {'C':np.arange(1,10,1),}\n",
    "clf_rbf_cv = GridSearchCV(clf_rbf, param_grid,cv=2)\n",
    "clf_rbf_cv.fit(x_train_eq, y_train_eq)\n",
    "print(clf_rbf_cv.best_params_)"
   ]
  },
  {
   "cell_type": "code",
   "execution_count": 73,
   "metadata": {},
   "outputs": [
    {
     "data": {
      "text/plain": [
       "0.9265536723163842"
      ]
     },
     "execution_count": 73,
     "metadata": {},
     "output_type": "execute_result"
    }
   ],
   "source": [
    "clf_rbf_cv.score(x_test, y_test)"
   ]
  },
  {
   "cell_type": "code",
   "execution_count": 74,
   "metadata": {},
   "outputs": [
    {
     "data": {
      "text/plain": [
       "0.9839142091152815"
      ]
     },
     "execution_count": 74,
     "metadata": {},
     "output_type": "execute_result"
    }
   ],
   "source": [
    "clf_rbf_cv.score(x_train_eq, y_train_eq)"
   ]
  },
  {
   "cell_type": "markdown",
   "metadata": {},
   "source": [
    "## One versus one classification"
   ]
  },
  {
   "cell_type": "code",
   "execution_count": 75,
   "metadata": {},
   "outputs": [
    {
     "data": {
      "text/plain": [
       "SVC(decision_function_shape='ovo')"
      ]
     },
     "execution_count": 75,
     "metadata": {},
     "output_type": "execute_result"
    }
   ],
   "source": [
    "clf_ovo = SVC(decision_function_shape='ovo')\n",
    "clf_ovo.fit(x_train, y_train)"
   ]
  },
  {
   "cell_type": "code",
   "execution_count": 76,
   "metadata": {},
   "outputs": [
    {
     "data": {
      "text/plain": [
       "0.8983050847457628"
      ]
     },
     "execution_count": 76,
     "metadata": {},
     "output_type": "execute_result"
    }
   ],
   "source": [
    "clf_ovo.score(x_test, y_test)"
   ]
  },
  {
   "cell_type": "markdown",
   "metadata": {},
   "source": [
    "## One versus rest classification"
   ]
  },
  {
   "cell_type": "code",
   "execution_count": 77,
   "metadata": {},
   "outputs": [
    {
     "data": {
      "text/plain": [
       "SVC()"
      ]
     },
     "execution_count": 77,
     "metadata": {},
     "output_type": "execute_result"
    }
   ],
   "source": [
    "clf_ovr = SVC(decision_function_shape='ovr')\n",
    "clf_ovr.fit(x_train, y_train)"
   ]
  },
  {
   "cell_type": "code",
   "execution_count": 78,
   "metadata": {},
   "outputs": [
    {
     "data": {
      "text/plain": [
       "0.8983050847457628"
      ]
     },
     "execution_count": 78,
     "metadata": {},
     "output_type": "execute_result"
    }
   ],
   "source": [
    "clf_ovr.score(x_test, y_test)"
   ]
  },
  {
   "cell_type": "markdown",
   "metadata": {},
   "source": [
    "We obtain the same results with the two different methods"
   ]
  },
  {
   "cell_type": "markdown",
   "metadata": {},
   "source": [
    "# Neural Network"
   ]
  },
  {
   "cell_type": "code",
   "execution_count": 80,
   "metadata": {},
   "outputs": [],
   "source": [
    "from sklearn.preprocessing import StandardScaler\n",
    "from keras.layers import Dense, Activation\n",
    "from keras.models import Sequential\n",
    "from keras import optimizers\n",
    "from keras.utils.np_utils import to_categorical"
   ]
  },
  {
   "cell_type": "code",
   "execution_count": 113,
   "metadata": {},
   "outputs": [],
   "source": [
    "sc = StandardScaler()\n",
    "#x_k_train = sc.fit_transform(x_train)\n",
    "x_k_train = np.array(x_train)\n",
    "x_k_train = (x_k_train-np.mean(x_k_train,axis=1,keepdims=True))/np.std(x_k_train,axis=1,keepdims=True)\n",
    "x_k_test = np.array(x_test)\n",
    "y_k_train = to_categorical(y_train)\n",
    "y_k_test = to_categorical(y_test)\n",
    "\n",
    "x_k_train_eq = np.array(x_train_eq)\n",
    "x_k_train_eq = (x_k_train_eq-np.mean(x_k_train_eq,axis=1,keepdims=True))/np.std(x_k_train_eq,axis=1,keepdims=True)\n",
    "y_k_train_eq = to_categorical(y_train_eq)"
   ]
  },
  {
   "cell_type": "code",
   "execution_count": 216,
   "metadata": {},
   "outputs": [],
   "source": [
    "model = Sequential()\n",
    "\n",
    "model.add(Dense(300, activation='relu', input_dim=12))\n",
    "model.add(Dense(128, activation='relu'))\n",
    "model.add(Dense(5, activation='softmax'))\n",
    "\n",
    "sgd = optimizers.SGD(learning_rate=0.01)\n",
    "model.compile(loss='categorical_crossentropy', optimizer=sgd, metrics=['accuracy'])"
   ]
  },
  {
   "cell_type": "code",
   "execution_count": 217,
   "metadata": {},
   "outputs": [
    {
     "name": "stderr",
     "output_type": "stream",
     "text": [
      "/Users/gregoirebellan/opt/anaconda3/lib/python3.7/site-packages/sklearn/utils/validation.py:72: FutureWarning: Pass classes=[0 1 2 3 4], y=[3 0 1 0 0 0 0 0 0 0 0 0 0 3 0 0 0 0 0 0 0 0 0 0 0 0 0 0 0 0 0 0 0 2 0 0 0\n",
      " 0 0 0 0 0 4 0 0 0 0 0 0 0 0 0 0 0 0 0 0 0 4 4 4 0 0 0 3 0 0 0 0 0 0 0 0 0\n",
      " 0 0 0 0 0 0 0 0 0 0 0 0 0 0 0 0 0 0 0 0 0 0 0 0 2 4 0 0 0 0 0 0 0 0 0 0 0\n",
      " 0 0 0 0 4 0 0 4 0 0 0 0 0 0 0 3 2 0 0 0 0 0 0 0 0 0 0 0 0 0 0 0 4 0 0 4 0\n",
      " 0 0 0 0 3 0 0 0 0 0 0 0 0 0 0 0 0 0 0 0 0 0 0 0 0 4 0 0 1 0 0 0 0 0 0 0 0\n",
      " 0 0 0 4 4 0 0 0 0 0 0 4 0 0 0 0 0 0 0 0 0 0 0 0 0 0 0 0 0 0 0 0 0 0 1 0 0\n",
      " 0 0 0 0 0 0 0 0 0 0 0 0 4 0 0 0 0 0 0 0 0 0 0 4 0 0 0 0 0 0 0 0 0 0 0 0 0\n",
      " 4 4 2 0 0 0 0 0 0 0 0 0 0 0 0 0 0 0 0 0 0 0 0 0 3 0 0 0 0 0 0 0 0 0 0 0 0\n",
      " 0 0 0 0 0 0 0 0 0 0 0 0 0 0 0 0 0 0 0 0 0 0 0 0 0 0 0 0 0 0 0 0 2 0 0 0 0\n",
      " 0 0 0 2 0 0 0 0 0 0 0 0 0 0 0 2 0 0 0 2 0 0 0 0 0 0 0 0 0 0 0 0 0 0 0 0 0\n",
      " 0 0 0 3 0 0 0 2 0 0 0 0 0 0 0 2 0 0 0 0 0 0 0 0 3 0 0 0 0 0 0 0 0 0 0 0 4\n",
      " 0 0 0 0 0] as keyword args. From version 1.0 (renaming of 0.25) passing these as positional arguments will result in an error\n",
      "  \"will result in an error\", FutureWarning)\n"
     ]
    }
   ],
   "source": [
    "#weights = {0:len(x_train)/len(y_train[y_train==0]), 1:len(x_train)/len(y_train[y_train==1]),2:len(x_train)/len(y_train[y_train==2]),3:len(x_train)/len(y_train[y_train==3]),4:len(x_train)/len(y_train[y_train==4])}\n",
    "from sklearn.utils import class_weight\n",
    "class_weights = class_weight.compute_class_weight('balanced',np.unique(np.array(y_train)),np.array(y_train))"
   ]
  },
  {
   "cell_type": "code",
   "execution_count": 218,
   "metadata": {
    "scrolled": true
   },
   "outputs": [
    {
     "name": "stdout",
     "output_type": "stream",
     "text": [
      "Epoch 1/100\n",
      "52/52 [==============================] - 1s 5ms/step - loss: 1.7319 - accuracy: 0.0829 - val_loss: 1.4215 - val_accuracy: 0.8418\n",
      "Epoch 2/100\n",
      "52/52 [==============================] - 0s 3ms/step - loss: 1.4954 - accuracy: 0.8521 - val_loss: 1.2837 - val_accuracy: 0.8927\n",
      "Epoch 3/100\n",
      "52/52 [==============================] - 0s 4ms/step - loss: 1.2192 - accuracy: 0.8717 - val_loss: 1.6149 - val_accuracy: 0.8927\n",
      "Epoch 4/100\n",
      "52/52 [==============================] - 0s 4ms/step - loss: 1.1404 - accuracy: 0.8734 - val_loss: 1.7009 - val_accuracy: 0.9096\n",
      "Epoch 5/100\n",
      "52/52 [==============================] - 0s 3ms/step - loss: 0.7610 - accuracy: 0.9204 - val_loss: 1.7731 - val_accuracy: 0.9040\n",
      "Epoch 6/100\n",
      "52/52 [==============================] - 0s 3ms/step - loss: 0.6335 - accuracy: 0.9347 - val_loss: 2.7482 - val_accuracy: 0.8644\n",
      "Epoch 7/100\n",
      "52/52 [==============================] - 0s 3ms/step - loss: 0.7888 - accuracy: 0.8649 - val_loss: 2.4242 - val_accuracy: 0.9040\n",
      "Epoch 8/100\n",
      "52/52 [==============================] - 0s 4ms/step - loss: 0.6215 - accuracy: 0.8639 - val_loss: 2.7291 - val_accuracy: 0.9096\n",
      "Epoch 9/100\n",
      "52/52 [==============================] - 0s 5ms/step - loss: 0.4817 - accuracy: 0.9391 - val_loss: 2.8645 - val_accuracy: 0.8983\n",
      "Epoch 10/100\n",
      "52/52 [==============================] - 0s 3ms/step - loss: 0.6655 - accuracy: 0.8664 - val_loss: 2.6974 - val_accuracy: 0.9040\n",
      "Epoch 11/100\n",
      "52/52 [==============================] - 0s 3ms/step - loss: 0.4833 - accuracy: 0.9439 - val_loss: 3.7559 - val_accuracy: 0.8644\n",
      "Epoch 12/100\n",
      "52/52 [==============================] - 0s 3ms/step - loss: 0.4871 - accuracy: 0.8329 - val_loss: 3.3397 - val_accuracy: 0.9153\n",
      "Epoch 13/100\n",
      "52/52 [==============================] - 0s 4ms/step - loss: 0.4737 - accuracy: 0.9530 - val_loss: 3.8969 - val_accuracy: 0.8927\n",
      "Epoch 14/100\n",
      "52/52 [==============================] - 0s 4ms/step - loss: 0.5577 - accuracy: 0.8988 - val_loss: 4.0029 - val_accuracy: 0.9153\n",
      "Epoch 15/100\n",
      "52/52 [==============================] - 0s 4ms/step - loss: 0.5857 - accuracy: 0.9092 - val_loss: 3.9020 - val_accuracy: 0.9153\n",
      "Epoch 16/100\n",
      "52/52 [==============================] - 0s 3ms/step - loss: 0.5449 - accuracy: 0.9198 - val_loss: 4.1922 - val_accuracy: 0.9153\n",
      "Epoch 17/100\n",
      "52/52 [==============================] - 0s 2ms/step - loss: 0.3933 - accuracy: 0.9251 - val_loss: 5.1169 - val_accuracy: 0.8531\n",
      "Epoch 18/100\n",
      "52/52 [==============================] - 0s 4ms/step - loss: 0.4594 - accuracy: 0.9286 - val_loss: 4.1887 - val_accuracy: 0.9322\n",
      "Epoch 19/100\n",
      "52/52 [==============================] - 0s 3ms/step - loss: 0.4306 - accuracy: 0.9420 - val_loss: 5.1250 - val_accuracy: 0.8927\n",
      "Epoch 20/100\n",
      "52/52 [==============================] - 0s 3ms/step - loss: 0.4653 - accuracy: 0.8712 - val_loss: 4.8906 - val_accuracy: 0.9322\n",
      "Epoch 21/100\n",
      "52/52 [==============================] - 0s 4ms/step - loss: 0.4791 - accuracy: 0.9040 - val_loss: 4.9700 - val_accuracy: 0.9322\n",
      "Epoch 22/100\n",
      "52/52 [==============================] - 0s 4ms/step - loss: 0.3096 - accuracy: 0.9394 - val_loss: 5.7111 - val_accuracy: 0.9096\n",
      "Epoch 23/100\n",
      "52/52 [==============================] - 0s 4ms/step - loss: 0.3603 - accuracy: 0.9119 - val_loss: 5.3040 - val_accuracy: 0.9153\n",
      "Epoch 24/100\n",
      "52/52 [==============================] - 0s 4ms/step - loss: 0.2736 - accuracy: 0.9433 - val_loss: 5.5611 - val_accuracy: 0.9266\n",
      "Epoch 25/100\n",
      "52/52 [==============================] - 0s 4ms/step - loss: 0.3864 - accuracy: 0.9494 - val_loss: 5.5414 - val_accuracy: 0.9040\n",
      "Epoch 26/100\n",
      "52/52 [==============================] - 0s 4ms/step - loss: 0.3513 - accuracy: 0.9491 - val_loss: 5.5599 - val_accuracy: 0.9096\n",
      "Epoch 27/100\n",
      "52/52 [==============================] - 0s 4ms/step - loss: 0.3785 - accuracy: 0.9275 - val_loss: 5.7899 - val_accuracy: 0.9096\n",
      "Epoch 28/100\n",
      "52/52 [==============================] - 0s 4ms/step - loss: 0.3929 - accuracy: 0.9266 - val_loss: 5.7042 - val_accuracy: 0.9266\n",
      "Epoch 29/100\n",
      "52/52 [==============================] - 0s 4ms/step - loss: 0.3591 - accuracy: 0.9334 - val_loss: 5.7131 - val_accuracy: 0.9096\n",
      "Epoch 30/100\n",
      "52/52 [==============================] - 0s 4ms/step - loss: 0.3524 - accuracy: 0.9438 - val_loss: 6.5246 - val_accuracy: 0.9096\n",
      "Epoch 31/100\n",
      "52/52 [==============================] - 0s 3ms/step - loss: 0.2188 - accuracy: 0.9517 - val_loss: 6.2325 - val_accuracy: 0.9266\n",
      "Epoch 32/100\n",
      "52/52 [==============================] - 0s 4ms/step - loss: 0.2635 - accuracy: 0.9425 - val_loss: 6.0518 - val_accuracy: 0.9266\n",
      "Epoch 33/100\n",
      "52/52 [==============================] - 0s 4ms/step - loss: 0.3366 - accuracy: 0.9440 - val_loss: 6.6204 - val_accuracy: 0.9209\n",
      "Epoch 34/100\n",
      "52/52 [==============================] - 0s 4ms/step - loss: 0.2573 - accuracy: 0.9521 - val_loss: 5.3132 - val_accuracy: 0.9209\n",
      "Epoch 35/100\n",
      "52/52 [==============================] - 0s 3ms/step - loss: 0.3452 - accuracy: 0.9635 - val_loss: 6.6632 - val_accuracy: 0.9209\n",
      "Epoch 36/100\n",
      "52/52 [==============================] - 0s 3ms/step - loss: 0.3365 - accuracy: 0.9447 - val_loss: 7.1630 - val_accuracy: 0.9322\n",
      "Epoch 37/100\n",
      "52/52 [==============================] - 0s 4ms/step - loss: 0.2017 - accuracy: 0.9519 - val_loss: 6.9867 - val_accuracy: 0.9153\n",
      "Epoch 38/100\n",
      "52/52 [==============================] - 0s 5ms/step - loss: 0.2471 - accuracy: 0.9610 - val_loss: 7.4151 - val_accuracy: 0.9096\n",
      "Epoch 39/100\n",
      "52/52 [==============================] - 0s 4ms/step - loss: 0.3129 - accuracy: 0.9536 - val_loss: 7.5182 - val_accuracy: 0.9209\n",
      "Epoch 40/100\n",
      "52/52 [==============================] - 0s 4ms/step - loss: 0.3428 - accuracy: 0.9336 - val_loss: 7.0682 - val_accuracy: 0.9322\n",
      "Epoch 41/100\n",
      "52/52 [==============================] - 0s 4ms/step - loss: 0.2417 - accuracy: 0.9470 - val_loss: 7.1130 - val_accuracy: 0.9266\n",
      "Epoch 42/100\n",
      "52/52 [==============================] - 0s 4ms/step - loss: 0.2750 - accuracy: 0.9351 - val_loss: 7.1875 - val_accuracy: 0.9266\n",
      "Epoch 43/100\n",
      "52/52 [==============================] - 0s 4ms/step - loss: 0.2410 - accuracy: 0.9503 - val_loss: 7.3236 - val_accuracy: 0.9266\n",
      "Epoch 44/100\n",
      "52/52 [==============================] - 0s 4ms/step - loss: 0.2783 - accuracy: 0.9396 - val_loss: 6.9370 - val_accuracy: 0.9322\n",
      "Epoch 45/100\n",
      "52/52 [==============================] - 0s 3ms/step - loss: 0.3040 - accuracy: 0.9653 - val_loss: 8.0489 - val_accuracy: 0.9209\n",
      "Epoch 46/100\n",
      "52/52 [==============================] - 0s 3ms/step - loss: 0.3992 - accuracy: 0.9485 - val_loss: 7.7892 - val_accuracy: 0.9322\n",
      "Epoch 47/100\n",
      "52/52 [==============================] - 0s 4ms/step - loss: 0.2589 - accuracy: 0.9497 - val_loss: 7.1807 - val_accuracy: 0.9266\n",
      "Epoch 48/100\n",
      "52/52 [==============================] - 0s 4ms/step - loss: 0.1818 - accuracy: 0.9749 - val_loss: 8.1013 - val_accuracy: 0.9209\n",
      "Epoch 49/100\n",
      "52/52 [==============================] - 0s 4ms/step - loss: 0.2656 - accuracy: 0.9624 - val_loss: 7.8542 - val_accuracy: 0.9266\n",
      "Epoch 50/100\n",
      "52/52 [==============================] - 0s 4ms/step - loss: 0.2316 - accuracy: 0.9693 - val_loss: 8.3626 - val_accuracy: 0.9209\n",
      "Epoch 51/100\n",
      "52/52 [==============================] - 0s 5ms/step - loss: 0.1596 - accuracy: 0.9749 - val_loss: 8.2909 - val_accuracy: 0.9209\n",
      "Epoch 52/100\n",
      "52/52 [==============================] - 0s 4ms/step - loss: 0.1900 - accuracy: 0.9547 - val_loss: 8.1681 - val_accuracy: 0.9266\n",
      "Epoch 53/100\n",
      "52/52 [==============================] - 0s 7ms/step - loss: 0.2209 - accuracy: 0.9723 - val_loss: 8.9152 - val_accuracy: 0.9209\n",
      "Epoch 54/100\n",
      "52/52 [==============================] - 0s 4ms/step - loss: 0.1525 - accuracy: 0.9745 - val_loss: 8.8882 - val_accuracy: 0.9209\n",
      "Epoch 55/100\n",
      "52/52 [==============================] - 0s 4ms/step - loss: 0.3067 - accuracy: 0.9547 - val_loss: 9.1089 - val_accuracy: 0.9153\n",
      "Epoch 56/100\n",
      "52/52 [==============================] - 0s 4ms/step - loss: 0.2410 - accuracy: 0.9717 - val_loss: 8.6670 - val_accuracy: 0.9266\n",
      "Epoch 57/100\n",
      "52/52 [==============================] - 0s 4ms/step - loss: 0.1802 - accuracy: 0.9649 - val_loss: 8.5654 - val_accuracy: 0.9209\n",
      "Epoch 58/100\n",
      "52/52 [==============================] - 0s 5ms/step - loss: 0.2137 - accuracy: 0.9534 - val_loss: 8.9721 - val_accuracy: 0.9379\n"
     ]
    },
    {
     "name": "stdout",
     "output_type": "stream",
     "text": [
      "Epoch 59/100\n",
      "52/52 [==============================] - 0s 6ms/step - loss: 0.3053 - accuracy: 0.9593 - val_loss: 9.8905 - val_accuracy: 0.9096\n",
      "Epoch 60/100\n",
      "52/52 [==============================] - 0s 4ms/step - loss: 0.1314 - accuracy: 0.9656 - val_loss: 8.5340 - val_accuracy: 0.9209\n",
      "Epoch 61/100\n",
      "52/52 [==============================] - 0s 4ms/step - loss: 0.1739 - accuracy: 0.9620 - val_loss: 9.1134 - val_accuracy: 0.9322\n",
      "Epoch 62/100\n",
      "52/52 [==============================] - 0s 5ms/step - loss: 0.1192 - accuracy: 0.9681 - val_loss: 9.5117 - val_accuracy: 0.9153\n",
      "Epoch 63/100\n",
      "52/52 [==============================] - 0s 4ms/step - loss: 0.2972 - accuracy: 0.9642 - val_loss: 8.7581 - val_accuracy: 0.9322\n",
      "Epoch 64/100\n",
      "52/52 [==============================] - 0s 3ms/step - loss: 0.2546 - accuracy: 0.9578 - val_loss: 9.0268 - val_accuracy: 0.9266\n",
      "Epoch 65/100\n",
      "52/52 [==============================] - 0s 3ms/step - loss: 0.1564 - accuracy: 0.9660 - val_loss: 9.4547 - val_accuracy: 0.9322\n",
      "Epoch 66/100\n",
      "52/52 [==============================] - 0s 4ms/step - loss: 0.1098 - accuracy: 0.9693 - val_loss: 9.6318 - val_accuracy: 0.9209\n",
      "Epoch 67/100\n",
      "52/52 [==============================] - 0s 4ms/step - loss: 0.1830 - accuracy: 0.9609 - val_loss: 9.4991 - val_accuracy: 0.9266\n",
      "Epoch 68/100\n",
      "52/52 [==============================] - 0s 4ms/step - loss: 0.1651 - accuracy: 0.9858 - val_loss: 9.7094 - val_accuracy: 0.9266\n",
      "Epoch 69/100\n",
      "52/52 [==============================] - 0s 4ms/step - loss: 0.1507 - accuracy: 0.9605 - val_loss: 9.9016 - val_accuracy: 0.9153\n",
      "Epoch 70/100\n",
      "52/52 [==============================] - 0s 4ms/step - loss: 0.1686 - accuracy: 0.9711 - val_loss: 9.8722 - val_accuracy: 0.9379\n",
      "Epoch 71/100\n",
      "52/52 [==============================] - 0s 4ms/step - loss: 0.1430 - accuracy: 0.9591 - val_loss: 10.3436 - val_accuracy: 0.9209\n",
      "Epoch 72/100\n",
      "52/52 [==============================] - 0s 3ms/step - loss: 0.1299 - accuracy: 0.9731 - val_loss: 10.0036 - val_accuracy: 0.9153\n",
      "Epoch 73/100\n",
      "52/52 [==============================] - 0s 3ms/step - loss: 0.2239 - accuracy: 0.9734 - val_loss: 9.4428 - val_accuracy: 0.9379\n",
      "Epoch 74/100\n",
      "52/52 [==============================] - 0s 4ms/step - loss: 0.1532 - accuracy: 0.9839 - val_loss: 10.1821 - val_accuracy: 0.9209\n",
      "Epoch 75/100\n",
      "52/52 [==============================] - 0s 4ms/step - loss: 0.1406 - accuracy: 0.9773 - val_loss: 9.8157 - val_accuracy: 0.9266\n",
      "Epoch 76/100\n",
      "52/52 [==============================] - 0s 4ms/step - loss: 0.1127 - accuracy: 0.9841 - val_loss: 10.0335 - val_accuracy: 0.9322\n",
      "Epoch 77/100\n",
      "52/52 [==============================] - 0s 4ms/step - loss: 0.1419 - accuracy: 0.9832 - val_loss: 10.4879 - val_accuracy: 0.9266\n",
      "Epoch 78/100\n",
      "52/52 [==============================] - 0s 4ms/step - loss: 0.2841 - accuracy: 0.9701 - val_loss: 10.7545 - val_accuracy: 0.9153\n",
      "Epoch 79/100\n",
      "52/52 [==============================] - 0s 4ms/step - loss: 0.1264 - accuracy: 0.9861 - val_loss: 10.1126 - val_accuracy: 0.9435\n",
      "Epoch 80/100\n",
      "52/52 [==============================] - 0s 3ms/step - loss: 0.1570 - accuracy: 0.9786 - val_loss: 10.2059 - val_accuracy: 0.9209\n",
      "Epoch 81/100\n",
      "52/52 [==============================] - 0s 4ms/step - loss: 0.1725 - accuracy: 0.9747 - val_loss: 10.2128 - val_accuracy: 0.9322\n",
      "Epoch 82/100\n",
      "52/52 [==============================] - 0s 4ms/step - loss: 0.1516 - accuracy: 0.9746 - val_loss: 10.6411 - val_accuracy: 0.9322\n",
      "Epoch 83/100\n",
      "52/52 [==============================] - 0s 4ms/step - loss: 0.1443 - accuracy: 0.9838 - val_loss: 10.2616 - val_accuracy: 0.9209\n",
      "Epoch 84/100\n",
      "52/52 [==============================] - 0s 4ms/step - loss: 0.1198 - accuracy: 0.9799 - val_loss: 9.9867 - val_accuracy: 0.9322\n",
      "Epoch 85/100\n",
      "52/52 [==============================] - 0s 4ms/step - loss: 0.2046 - accuracy: 0.9729 - val_loss: 10.2475 - val_accuracy: 0.9266\n",
      "Epoch 86/100\n",
      "52/52 [==============================] - 0s 4ms/step - loss: 0.1476 - accuracy: 0.9712 - val_loss: 10.3299 - val_accuracy: 0.9266\n",
      "Epoch 87/100\n",
      "52/52 [==============================] - 0s 4ms/step - loss: 0.1948 - accuracy: 0.9718 - val_loss: 10.0134 - val_accuracy: 0.9322\n",
      "Epoch 88/100\n",
      "52/52 [==============================] - 0s 3ms/step - loss: 0.0905 - accuracy: 0.9807 - val_loss: 10.7558 - val_accuracy: 0.9322\n",
      "Epoch 89/100\n",
      "52/52 [==============================] - 0s 3ms/step - loss: 0.1414 - accuracy: 0.9746 - val_loss: 10.3548 - val_accuracy: 0.9322\n",
      "Epoch 90/100\n",
      "52/52 [==============================] - 0s 4ms/step - loss: 0.1037 - accuracy: 0.9970 - val_loss: 10.6710 - val_accuracy: 0.9266\n",
      "Epoch 91/100\n",
      "52/52 [==============================] - 0s 4ms/step - loss: 0.1570 - accuracy: 0.9805 - val_loss: 10.3224 - val_accuracy: 0.9322\n",
      "Epoch 92/100\n",
      "52/52 [==============================] - 0s 3ms/step - loss: 0.0910 - accuracy: 0.9821 - val_loss: 11.2327 - val_accuracy: 0.9322\n",
      "Epoch 93/100\n",
      "52/52 [==============================] - 0s 3ms/step - loss: 0.1036 - accuracy: 0.9886 - val_loss: 10.6125 - val_accuracy: 0.9322\n",
      "Epoch 94/100\n",
      "52/52 [==============================] - 0s 4ms/step - loss: 0.2616 - accuracy: 0.9790 - val_loss: 10.9670 - val_accuracy: 0.9322\n",
      "Epoch 95/100\n",
      "52/52 [==============================] - 0s 4ms/step - loss: 0.1426 - accuracy: 0.9821 - val_loss: 10.6267 - val_accuracy: 0.9266\n",
      "Epoch 96/100\n",
      "52/52 [==============================] - 0s 3ms/step - loss: 0.0867 - accuracy: 0.9859 - val_loss: 11.2352 - val_accuracy: 0.9266\n",
      "Epoch 97/100\n",
      "52/52 [==============================] - 0s 3ms/step - loss: 0.0892 - accuracy: 0.9703 - val_loss: 11.0413 - val_accuracy: 0.9266\n",
      "Epoch 98/100\n",
      "52/52 [==============================] - 0s 4ms/step - loss: 0.1210 - accuracy: 0.9805 - val_loss: 11.4029 - val_accuracy: 0.9266\n",
      "Epoch 99/100\n",
      "52/52 [==============================] - 0s 4ms/step - loss: 0.1129 - accuracy: 0.9844 - val_loss: 11.0475 - val_accuracy: 0.9322\n",
      "Epoch 100/100\n",
      "52/52 [==============================] - 0s 3ms/step - loss: 0.1176 - accuracy: 0.9687 - val_loss: 11.1359 - val_accuracy: 0.9322\n"
     ]
    }
   ],
   "source": [
    "history = model.fit(x_k_train, y_k_train, batch_size = 8, epochs = 100, validation_data=(x_k_test, y_k_test),class_weight = {i:class_weights[i] for i in range(0,5)},verbose=1)"
   ]
  },
  {
   "cell_type": "code",
   "execution_count": 219,
   "metadata": {},
   "outputs": [
    {
     "data": {
      "image/png": "[encoded data removed]",
      "text/plain": [
       "<Figure size 1080x576 with 1 Axes>"
      ]
     },
     "metadata": {
      "needs_background": "light"
     },
     "output_type": "display_data"
    }
   ],
   "source": [
    "loss = history.history['accuracy']\n",
    "val_loss = history.history['val_accuracy']\n",
    "plt.figure(figsize=(15,8))\n",
    "plt.plot(loss, c='b', marker='o', linestyle='--', label='train accuracy')\n",
    "plt.plot(val_loss, c='r', marker='o', linestyle='--', label='test accuracy')\n",
    "plt.title('Evolution of the accuracy with respect to the epochs', size=15)\n",
    "plt.legend(fontsize=13)\n",
    "plt.show()"
   ]
  },
  {
   "cell_type": "code",
   "execution_count": null,
   "metadata": {},
   "outputs": [],
   "source": []
  }
 ],
 "metadata": {
  "kernelspec": {
   "display_name": "Python 3",
   "language": "python",
   "name": "python3"
  },
  "language_info": {
   "codemirror_mode": {
    "name": "ipython",
    "version": 3
   },
   "file_extension": ".py",
   "mimetype": "text/x-python",
   "name": "python",
   "nbconvert_exporter": "python",
   "pygments_lexer": "ipython3",
   "version": "3.7.4"
  },
  "toc": {
   "base_numbering": 1,
   "nav_menu": {},
   "number_sections": true,
   "sideBar": true,
   "skip_h1_title": false,
   "title_cell": "Table of Contents",
   "title_sidebar": "Contents",
   "toc_cell": false,
   "toc_position": {},
   "toc_section_display": true,
   "toc_window_display": false
  },
  "varInspector": {
   "cols": {
    "lenName": 16,
    "lenType": 16,
    "lenVar": 40
   },
   "kernels_config": {
    "python": {
     "delete_cmd_postfix": "",
     "delete_cmd_prefix": "del ",
     "library": "var_list.py",
     "varRefreshCmd": "print(var_dic_list())"
    },
    "r": {
     "delete_cmd_postfix": ") ",
     "delete_cmd_prefix": "rm(",
     "library": "var_list.r",
     "varRefreshCmd": "cat(var_dic_list()) "
    }
   },
   "types_to_exclude": [
    "module",
    "function",
    "builtin_function_or_method",
    "instance",
    "_Feature"
   ],
   "window_display": false
  }
 },
 "nbformat": 4,
 "nbformat_minor": 4
}
